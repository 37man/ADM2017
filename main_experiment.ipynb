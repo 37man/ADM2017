{
 "cells": [
  {
   "cell_type": "code",
   "execution_count": 1,
   "metadata": {},
   "outputs": [],
   "source": [
    "import pandas as pd\n",
    "import numpy as np\n",
    "from sklearn.model_selection import train_test_split\n",
    "import csv\n",
    "import os\n",
    "import sys"
   ]
  },
  {
   "cell_type": "markdown",
   "metadata": {},
   "source": [
    "## Load data"
   ]
  },
  {
   "cell_type": "code",
   "execution_count": 2,
   "metadata": {},
   "outputs": [
    {
     "name": "stderr",
     "output_type": "stream",
     "text": [
      "/Users/chunkit/anaconda3/envs/dlenv/lib/python3.6/site-packages/IPython/core/interactiveshell.py:2785: DtypeWarning: Columns (74,75) have mixed types. Specify dtype option on import or set low_memory=False.\n",
      "  interactivity=interactivity, compiler=compiler, result=result)\n"
     ]
    }
   ],
   "source": [
    "data_dir = './data'\n",
    "\n",
    "student_log_paths = [os.path.join(data_dir, f) for f in os.listdir(data_dir) if f.startswith('student_log')]\n",
    "training_label_path = os.path.join(data_dir, 'training_label.csv')\n",
    "validation_test_label = os.path.join(data_dir, 'validation_test_label.csv')\n",
    "\n",
    "dfs = []\n",
    "\n",
    "for path in student_log_paths:\n",
    "    temp = pd.read_csv(path)\n",
    "    dfs.append(temp)\n",
    "student_df = pd.concat(dfs)\n",
    "\n",
    "training_label_df = pd.read_csv(training_label_path)\n",
    "validation_test_label_df = pd.read_csv(validation_test_label)"
   ]
  },
  {
   "cell_type": "markdown",
   "metadata": {},
   "source": [
    "## Remove duplicates"
   ]
  },
  {
   "cell_type": "code",
   "execution_count": 3,
   "metadata": {},
   "outputs": [],
   "source": [
    "#student_df = student_df.drop_duplicates(['ITEST_id'])\n",
    "training_label_df = training_label_df.drop_duplicates(['ITEST_id'])\n",
    "\n",
    "# normalizing the NumActions using mean normalizing\n",
    "num_act = student_df['NumActions']\n",
    "student_df['NumActions'] = (num_act - num_act.mean()) / num_act.std()\n",
    "num_act = student_df['NumActions']\n",
    "student_df['NumActions'] = (num_act - num_act.min())/(num_act.max() - num_act.min())"
   ]
  },
  {
   "cell_type": "code",
   "execution_count": 4,
   "metadata": {},
   "outputs": [
    {
     "name": "stdout",
     "output_type": "stream",
     "text": [
      "student_df.shape: (942816, 77)\n",
      "training_label_df.shape: (467, 5)\n",
      "validation_test_label_df.shape: (172, 4)\n"
     ]
    }
   ],
   "source": [
    "print(\"student_df.shape:\", student_df.shape) \n",
    "print(\"training_label_df.shape:\", training_label_df.shape)\n",
    "print(\"validation_test_label_df.shape:\", validation_test_label_df.shape)"
   ]
  },
  {
   "cell_type": "code",
   "execution_count": 5,
   "metadata": {},
   "outputs": [],
   "source": [
    "skill = student_df.skill.unique()\n",
    "skill_id = range(len(skill))\n",
    "skill_id_map = dict(zip(skill, skill_id))"
   ]
  },
  {
   "cell_type": "code",
   "execution_count": 6,
   "metadata": {},
   "outputs": [
    {
     "data": {
      "text/plain": [
       "Index(['ITEST_id', 'SchoolId', 'AveCorrect', 'MCAS', 'isSTEM'], dtype='object')"
      ]
     },
     "execution_count": 6,
     "metadata": {},
     "output_type": "execute_result"
    }
   ],
   "source": [
    "training_label_df.columns"
   ]
  },
  {
   "cell_type": "code",
   "execution_count": 7,
   "metadata": {},
   "outputs": [
    {
     "name": "stdout",
     "output_type": "stream",
     "text": [
      "0.2505353319057816\n"
     ]
    }
   ],
   "source": [
    "print(np.mean(training_label_df['isSTEM']))"
   ]
  },
  {
   "cell_type": "code",
   "execution_count": 8,
   "metadata": {},
   "outputs": [],
   "source": [
    "student_specific_columns = [\"AveKnow\",\n",
    "                            \"AveCarelessness\",\n",
    "                            \"AveCorrect\",\n",
    "                            \"NumActions\",\n",
    "                            \"AveResBored\",\n",
    "                            \"AveResEngcon\",\n",
    "                            \"AveResConf\",\n",
    "                            \"AveResFrust\",\n",
    "                            \"AveResOfftask\",\n",
    "                            \"AveResGaming\"]"
   ]
  },
  {
   "cell_type": "code",
   "execution_count": 9,
   "metadata": {},
   "outputs": [],
   "source": [
    "required_cols = ['ITEST_id'] + student_specific_columns\n",
    "student_specific_df = student_df[required_cols].drop_duplicates()"
   ]
  },
  {
   "cell_type": "code",
   "execution_count": 10,
   "metadata": {},
   "outputs": [],
   "source": [
    "# student_specific_columns += ['MCAS', 'SchoolId']"
   ]
  },
  {
   "cell_type": "markdown",
   "metadata": {},
   "source": [
    "# Static features"
   ]
  },
  {
   "cell_type": "code",
   "execution_count": 11,
   "metadata": {},
   "outputs": [],
   "source": [
    "# combined_df = pd.merge(left=training_label_df, right=student_specific_df, how='left', left_on='ITEST_id', right_on='ITEST_id')\n",
    "combined_df_train = training_label_df.merge(student_specific_df, left_on='ITEST_id', right_on='ITEST_id', how='left')\n",
    "combined_df_train['AveCorrect'] = combined_df_train['AveCorrect_x']\n",
    "del combined_df_train['AveCorrect_x']\n",
    "del combined_df_train['AveCorrect_y']\n",
    "X_static = combined_df_train[student_specific_columns].values\n",
    "y_static = combined_df_train['isSTEM'].values\n",
    "static_features_cols = student_specific_columns"
   ]
  },
  {
   "cell_type": "code",
   "execution_count": 12,
   "metadata": {},
   "outputs": [
    {
     "data": {
      "text/html": [
       "<div>\n",
       "<style scoped>\n",
       "    .dataframe tbody tr th:only-of-type {\n",
       "        vertical-align: middle;\n",
       "    }\n",
       "\n",
       "    .dataframe tbody tr th {\n",
       "        vertical-align: top;\n",
       "    }\n",
       "\n",
       "    .dataframe thead th {\n",
       "        text-align: right;\n",
       "    }\n",
       "</style>\n",
       "<table border=\"1\" class=\"dataframe\">\n",
       "  <thead>\n",
       "    <tr style=\"text-align: right;\">\n",
       "      <th></th>\n",
       "      <th>AveKnow</th>\n",
       "      <th>AveCarelessness</th>\n",
       "      <th>AveCorrect</th>\n",
       "      <th>NumActions</th>\n",
       "      <th>AveResBored</th>\n",
       "      <th>AveResEngcon</th>\n",
       "      <th>AveResConf</th>\n",
       "      <th>AveResFrust</th>\n",
       "      <th>AveResOfftask</th>\n",
       "      <th>AveResGaming</th>\n",
       "    </tr>\n",
       "  </thead>\n",
       "  <tbody>\n",
       "    <tr>\n",
       "      <th>0</th>\n",
       "      <td>0.185138</td>\n",
       "      <td>0.099734</td>\n",
       "      <td>0.438492</td>\n",
       "      <td>0.164321</td>\n",
       "      <td>0.277149</td>\n",
       "      <td>0.644744</td>\n",
       "      <td>0.098078</td>\n",
       "      <td>0.162771</td>\n",
       "      <td>0.213378</td>\n",
       "      <td>0.005554</td>\n",
       "    </tr>\n",
       "    <tr>\n",
       "      <th>1</th>\n",
       "      <td>0.142031</td>\n",
       "      <td>0.069297</td>\n",
       "      <td>0.348837</td>\n",
       "      <td>0.041571</td>\n",
       "      <td>0.330226</td>\n",
       "      <td>0.551367</td>\n",
       "      <td>0.122658</td>\n",
       "      <td>0.095420</td>\n",
       "      <td>0.348090</td>\n",
       "      <td>0.036900</td>\n",
       "    </tr>\n",
       "    <tr>\n",
       "      <th>2</th>\n",
       "      <td>0.459813</td>\n",
       "      <td>0.202787</td>\n",
       "      <td>0.686391</td>\n",
       "      <td>0.054664</td>\n",
       "      <td>0.260426</td>\n",
       "      <td>0.650769</td>\n",
       "      <td>0.059971</td>\n",
       "      <td>0.061834</td>\n",
       "      <td>0.296286</td>\n",
       "      <td>0.010954</td>\n",
       "    </tr>\n",
       "    <tr>\n",
       "      <th>3</th>\n",
       "      <td>0.255164</td>\n",
       "      <td>0.158848</td>\n",
       "      <td>0.379658</td>\n",
       "      <td>0.324386</td>\n",
       "      <td>0.222796</td>\n",
       "      <td>0.650079</td>\n",
       "      <td>0.069987</td>\n",
       "      <td>0.164347</td>\n",
       "      <td>0.153147</td>\n",
       "      <td>0.236800</td>\n",
       "    </tr>\n",
       "    <tr>\n",
       "      <th>4</th>\n",
       "      <td>0.071909</td>\n",
       "      <td>0.046183</td>\n",
       "      <td>0.305785</td>\n",
       "      <td>0.038953</td>\n",
       "      <td>0.326384</td>\n",
       "      <td>0.653445</td>\n",
       "      <td>0.125325</td>\n",
       "      <td>0.094714</td>\n",
       "      <td>0.451467</td>\n",
       "      <td>0.016241</td>\n",
       "    </tr>\n",
       "  </tbody>\n",
       "</table>\n",
       "</div>"
      ],
      "text/plain": [
       "    AveKnow  AveCarelessness  AveCorrect  NumActions  AveResBored  \\\n",
       "0  0.185138         0.099734    0.438492    0.164321     0.277149   \n",
       "1  0.142031         0.069297    0.348837    0.041571     0.330226   \n",
       "2  0.459813         0.202787    0.686391    0.054664     0.260426   \n",
       "3  0.255164         0.158848    0.379658    0.324386     0.222796   \n",
       "4  0.071909         0.046183    0.305785    0.038953     0.326384   \n",
       "\n",
       "   AveResEngcon  AveResConf  AveResFrust  AveResOfftask  AveResGaming  \n",
       "0      0.644744    0.098078     0.162771       0.213378      0.005554  \n",
       "1      0.551367    0.122658     0.095420       0.348090      0.036900  \n",
       "2      0.650769    0.059971     0.061834       0.296286      0.010954  \n",
       "3      0.650079    0.069987     0.164347       0.153147      0.236800  \n",
       "4      0.653445    0.125325     0.094714       0.451467      0.016241  "
      ]
     },
     "execution_count": 12,
     "metadata": {},
     "output_type": "execute_result"
    }
   ],
   "source": [
    "combined_df_train[student_specific_columns].head()"
   ]
  },
  {
   "cell_type": "code",
   "execution_count": 13,
   "metadata": {},
   "outputs": [],
   "source": [
    "combined_df_test = pd.merge(left=validation_test_label_df, right=student_specific_df, how='left')\n",
    "X_target = combined_df_test[student_specific_columns].values"
   ]
  },
  {
   "cell_type": "code",
   "execution_count": 14,
   "metadata": {},
   "outputs": [
    {
     "name": "stdout",
     "output_type": "stream",
     "text": [
      "(467, 7)\n",
      "[0.56003693 0.29352088 0.05218283 0.03514465 0.02493799 0.01925573\n",
      " 0.00815808]\n"
     ]
    }
   ],
   "source": [
    "from sklearn.decomposition import PCA\n",
    "\n",
    "pca = PCA(n_components=0.99)\n",
    "\n",
    "stat = pca.fit_transform(X_static)\n",
    "print(stat.shape)\n",
    "print(pca.explained_variance_ratio_)"
   ]
  },
  {
   "cell_type": "markdown",
   "metadata": {},
   "source": [
    "# Import model of DKT\n",
    "If you want to change the model with different regularization parameters\n",
    "Simply change\n",
    "```python\n",
    "network_config['lambda_o']\n",
    "network_config['lambda_w1']\n",
    "network_config['lambda_w2']\n",
    "```\n",
    "to the desired value\n",
    "\n",
    "---\n",
    "To use the original DKT model without any regularization:\n",
    "```python\n",
    "network_config['lambda_o'] = 0.0\n",
    "network_config['lambda_w1'] = 0.0\n",
    "network_config['lambda_w2'] = 0.0\n",
    "```\n",
    "\n",
    "To use the original DKT model with regularization:\n",
    "```python\n",
    "network_config['lambda_o'] = 0.1\n",
    "network_config['lambda_w1'] = 0.3\n",
    "network_config['lambda_w2'] = 3.0\n",
    "```"
   ]
  },
  {
   "cell_type": "markdown",
   "metadata": {},
   "source": [
    "# Obtain student's DKT feature"
   ]
  },
  {
   "cell_type": "markdown",
   "metadata": {},
   "source": [
    "# DKT feature "
   ]
  },
  {
   "cell_type": "code",
   "execution_count": 15,
   "metadata": {},
   "outputs": [],
   "source": [
    "students_dk_df = pd.read_csv('./data/students_knowledge_states_dkt.csv')\n",
    "combined_df = pd.merge(left=student_specific_df, right=students_dk_df, how='left')\n",
    "train_df = training_label_df.merge(combined_df, left_on='ITEST_id', right_on='ITEST_id', how='left')\n",
    "test_df = validation_test_label_df.merge(combined_df, left_on='ITEST_id', right_on='ITEST_id', how='left')\n",
    "train_df['AveCorrect'] = train_df['AveCorrect_x']\n",
    "del train_df['AveCorrect_x']\n",
    "del train_df['AveCorrect_y']\n",
    "test_df['AveCorrect'] = test_df['AveCorrect_x']\n",
    "del test_df['AveCorrect_x']\n",
    "del test_df['AveCorrect_y']"
   ]
  },
  {
   "cell_type": "code",
   "execution_count": 16,
   "metadata": {},
   "outputs": [],
   "source": [
    "dkt_features_cols = list(train_df.columns.drop(['ITEST_id', 'isSTEM', 'SchoolId', 'MCAS']))\n",
    "kt_cols = ['kt_{}'.format(i) for i in range(102)]\n",
    "\n",
    "# DKT only \n",
    "X_dkt = train_df[kt_cols].values\n",
    "y_dkt = train_df['isSTEM'].values\n",
    "\n",
    "# DKT + student profile\n",
    "X_dktsp = train_df[dkt_features_cols].values\n",
    "y_dktsp = train_df['isSTEM'].values\n",
    "#X_test_dkt = test_df[features_cols].values"
   ]
  },
  {
   "cell_type": "code",
   "execution_count": 17,
   "metadata": {},
   "outputs": [
    {
     "data": {
      "text/plain": [
       "array([[0.05622318, 0.50651717, 0.36671746, ..., 0.8257494 , 0.72340071,\n",
       "        0.36694288],\n",
       "       [0.07800379, 0.3403666 , 0.33121639, ..., 0.58999926, 0.60349226,\n",
       "        0.30993772],\n",
       "       [0.03244137, 0.68556792, 0.32228327, ..., 0.87292838, 0.79397225,\n",
       "        0.38784996],\n",
       "       ...,\n",
       "       [0.02609839, 0.63014001, 0.53425163, ..., 0.6567539 , 0.40414989,\n",
       "        0.26455277],\n",
       "       [0.10431756, 0.19257784, 0.16598728, ..., 0.48119059, 0.51756734,\n",
       "        0.28647605],\n",
       "       [0.06014723, 0.51490551, 0.34661227, ..., 0.61904436, 0.68885845,\n",
       "        0.42427588]])"
      ]
     },
     "execution_count": 17,
     "metadata": {},
     "output_type": "execute_result"
    }
   ],
   "source": [
    "X_dkt"
   ]
  },
  {
   "cell_type": "markdown",
   "metadata": {},
   "source": [
    "# DKT+ feature "
   ]
  },
  {
   "cell_type": "code",
   "execution_count": 18,
   "metadata": {},
   "outputs": [],
   "source": [
    "students_dk_df = pd.read_csv('./data/students_knowledge_states_dktp.csv')\n",
    "combined_df = pd.merge(left=student_specific_df, right=students_dk_df, how='left')\n",
    "train_df = training_label_df.merge(combined_df, left_on='ITEST_id', right_on='ITEST_id', how='left')\n",
    "#test_df = validation_test_label_df.merge(combined_df, left_on='ITEST_id', right_on='ITEST_id', how='left')\n",
    "train_df['AveCorrect'] = train_df['AveCorrect_x']\n",
    "del train_df['AveCorrect_x']\n",
    "del train_df['AveCorrect_y']\n",
    "#test_df['AveCorrect'] = test_df['AveCorrect_x']\n",
    "#del test_df['AveCorrect_x']\n",
    "#del test_df['AveCorrect_y']"
   ]
  },
  {
   "cell_type": "code",
   "execution_count": 19,
   "metadata": {},
   "outputs": [],
   "source": [
    "dktp_features_cols = list(train_df.columns.drop(['ITEST_id', 'isSTEM', 'SchoolId', 'MCAS']))\n",
    "kt_cols = ['kt_{}'.format(i) for i in range(102)]\n",
    "\n",
    "# DKT only \n",
    "X_dktp = train_df[kt_cols].values\n",
    "y_dktp = train_df['isSTEM'].values\n",
    "\n",
    "# DKT + student profile\n",
    "X_dktpsp = train_df[dkt_features_cols].values\n",
    "y_dktpsp = train_df['isSTEM'].values\n",
    "#X_test_dkt = test_df[features_cols].values"
   ]
  },
  {
   "cell_type": "code",
   "execution_count": 20,
   "metadata": {},
   "outputs": [
    {
     "data": {
      "text/plain": [
       "array([[0.00492973, 0.85605657, 0.55900872, ..., 0.80466402, 0.88031369,\n",
       "        0.17737298],\n",
       "       [0.00965314, 0.52239507, 0.4509998 , ..., 0.80424255, 0.8802858 ,\n",
       "        0.17701891],\n",
       "       [0.00324686, 0.31928211, 0.18094359, ..., 0.80460984, 0.8801676 ,\n",
       "        0.17669304],\n",
       "       ...,\n",
       "       [0.00155248, 0.56527251, 0.38097528, ..., 0.80480438, 0.88036895,\n",
       "        0.1769518 ],\n",
       "       [0.00495684, 0.16182527, 0.11950365, ..., 0.80452287, 0.88016236,\n",
       "        0.17656463],\n",
       "       [0.01448976, 0.58506435, 0.26544836, ..., 0.80465317, 0.88039899,\n",
       "        0.17671247]])"
      ]
     },
     "execution_count": 20,
     "metadata": {},
     "output_type": "execute_result"
    }
   ],
   "source": [
    "X_dktp"
   ]
  },
  {
   "cell_type": "markdown",
   "metadata": {},
   "source": [
    "# Training the static machine learning model"
   ]
  },
  {
   "cell_type": "code",
   "execution_count": 21,
   "metadata": {
    "scrolled": false
   },
   "outputs": [],
   "source": [
    "from sklearn.model_selection import train_test_split, StratifiedShuffleSplit, GridSearchCV, StratifiedKFold\n",
    "from sklearn.ensemble import GradientBoostingClassifier\n",
    "from sklearn.linear_model import LogisticRegression\n",
    "from sklearn.svm import SVC, SVR\n",
    "from sklearn.neural_network import MLPClassifier\n",
    "from sklearn.metrics import (\n",
    "    auc, \n",
    "    roc_curve,\n",
    "    mean_squared_error,\n",
    "    make_scorer, \n",
    "    accuracy_score, \n",
    "    precision_score, \n",
    "    recall_score,\n",
    "    average_precision_score, \n",
    "    f1_score)\n",
    "\n",
    "from sklearn.naive_bayes import GaussianNB\n",
    "from sklearn.discriminant_analysis import LinearDiscriminantAnalysis \n",
    "from sklearn.discriminant_analysis import QuadraticDiscriminantAnalysis\n",
    "\n",
    "\n",
    "from imblearn.over_sampling import (\n",
    "    RandomOverSampler,\n",
    "    ADASYN,\n",
    "    SMOTE,\n",
    ")\n",
    "\n",
    "from imblearn.combine import (\n",
    "    SMOTEENN,\n",
    "    SMOTETomek,\n",
    ")\n",
    "\n",
    "CV_OBJ = StratifiedKFold(n_splits=5)"
   ]
  },
  {
   "cell_type": "code",
   "execution_count": 22,
   "metadata": {},
   "outputs": [],
   "source": [
    "lr_param_grid = {\n",
    "    'C': [1e-3, 1e-2, 1e-1, 1, 10.0, 100.0],\n",
    "    'penalty': ['l1', 'l2']\n",
    "    \n",
    "}"
   ]
  },
  {
   "cell_type": "code",
   "execution_count": 23,
   "metadata": {},
   "outputs": [],
   "source": [
    "svm_param_grid = {\n",
    "    'C': [1e-3, 1e-2, 1e-1, 1.0, 10.0, 100.0], \n",
    "#     'gamma': ['auto',0.001, 0.003, 0.01, 0.03, 0.1, 0.3], \n",
    "    'kernel': ['rbf'],\n",
    "    'class_weight': ['balanced', None]\n",
    "}\n"
   ]
  },
  {
   "cell_type": "code",
   "execution_count": 24,
   "metadata": {},
   "outputs": [],
   "source": [
    "gbdt_param_grid = {\n",
    "   # 'n_estimators': [600, 700, 8000], \n",
    "    'n_estimators': [10, 25, 50, 120, 300], \n",
    "    'max_depth': [2,3,5,8],\n",
    "    'min_samples_leaf': [1,2,5,10]\n",
    "}"
   ]
  },
  {
   "cell_type": "code",
   "execution_count": 25,
   "metadata": {},
   "outputs": [],
   "source": [
    "import itertools\n",
    "mlp_layer_search_list = list(itertools.product([16, 64, 128, 256]))\n",
    "mlp_layer_search_list += list(itertools.product([16, 64, 128, 256], [16, 64, 128, 256]))\n",
    "mlp_layer_search_list += list(itertools.product([16, 64, 128, 256], [16, 64, 128, 256], [16, 64, 128, 256]))\n",
    "mlp_param_grid = {\n",
    "    'hidden_layer_sizes': mlp_layer_search_list,\n",
    "    'early_stopping': [True]\n",
    "}"
   ]
  },
  {
   "cell_type": "code",
   "execution_count": 26,
   "metadata": {},
   "outputs": [],
   "source": [
    "lda_param_grid = {\n",
    "#     'solver':['svd', 'lsqr', 'eigen'], \n",
    "#     'solver': ['svd'],\n",
    "    'n_components': [None, 1],\n",
    "#     'tol':[1e-10, 1e-8, 1e-6, 1e-4, 1e-2, 1.0]\n",
    "}\n",
    "\n",
    "qda_param_grid = {'reg_param': [0, 0.1, 0.2, 0.3], 'tol':[1e-10, 3e-10, 1e-9, 3e-9, 1e-8, 3e-8], \n",
    "                  'priors':[None, [0.75, 0.25]]}"
   ]
  },
  {
   "cell_type": "markdown",
   "metadata": {},
   "source": [
    "## Define customized scorer "
   ]
  },
  {
   "cell_type": "code",
   "execution_count": 27,
   "metadata": {},
   "outputs": [],
   "source": [
    "from sklearn.metrics import make_scorer\n",
    "def auc_score(y_true, y_pred):\n",
    "    fpr, tpr, thresholds = roc_curve(y_true, y_pred, pos_label=1)\n",
    "    auc_ = auc(fpr, tpr)\n",
    "    return auc_\n",
    "auc_scorer = make_scorer(auc_score, greater_is_better = True)"
   ]
  },
  {
   "cell_type": "code",
   "execution_count": 28,
   "metadata": {},
   "outputs": [],
   "source": [
    "def rmse_score(y_true, y_pred):\n",
    "    rmse_ = np.sqrt(mean_squared_error(y_true, y_pred))\n",
    "    return rmse_\n",
    "rmse_scorer = make_scorer(rmse_score, greater_is_better = False)"
   ]
  },
  {
   "cell_type": "code",
   "execution_count": 29,
   "metadata": {},
   "outputs": [],
   "source": [
    "#Evaluation metric of ASSISTments DM Competition\n",
    "def admc_score(y_true, y_pred):\n",
    "    auc_ = auc_score(y_true, y_pred)\n",
    "    rmse_ = rmse_score(y_true, y_pred)\n",
    "    \n",
    "    return auc_ + (1 - rmse_)\n",
    "\n",
    "admc_scorer = make_scorer(admc_score, greater_is_better=True)"
   ]
  },
  {
   "cell_type": "markdown",
   "metadata": {},
   "source": [
    "#  Experiment"
   ]
  },
  {
   "cell_type": "markdown",
   "metadata": {},
   "source": [
    "## Define lists and dictionaries"
   ]
  },
  {
   "cell_type": "code",
   "execution_count": 30,
   "metadata": {},
   "outputs": [],
   "source": [
    "algorithm_dict = {\n",
    "    'LR': LogisticRegression(), \n",
    "#     'SVM': SVC(probability=True), \n",
    "    #'ANN':MLPClassifier(), \n",
    "    'GBDT': GradientBoostingClassifier(),\n",
    "    'LDA': LinearDiscriminantAnalysis(),\n",
    "    #'QDA': QuadraticDiscriminantAnalysis() \n",
    "}\n",
    "\n",
    "\n",
    "\n",
    "feature_list = ['SP','DKT','DKT+', 'DKT/SP', 'DKT+/SP']\n",
    "\n",
    "param_dict = {\n",
    "    'LR': lr_param_grid, \n",
    "    'SVM': svm_param_grid, \n",
    "    'ANN': mlp_param_grid, \n",
    "    'GBDT': gbdt_param_grid,\n",
    "    'LDA': lda_param_grid, \n",
    "    'QDA': qda_param_grid\n",
    "}\n",
    "\n",
    "scoring_metrics = {   \n",
    "    #'Accuracy': accuracy_score, \n",
    "    #'Precision': precision_score, \n",
    "    #'Recall': recall_score,\n",
    "    'AP':average_precision_score, #'average_precision'\n",
    "    #'F1': f1_score,\n",
    "    'AUC': auc_score, #'roc_auc' ,\n",
    "    'RMSE': rmse_score,\n",
    "    'AUC+(1-RMSE)':admc_score #admc_scorer\n",
    "}"
   ]
  },
  {
   "cell_type": "code",
   "execution_count": 31,
   "metadata": {},
   "outputs": [],
   "source": [
    "RANDOM_STATE = 12"
   ]
  },
  {
   "cell_type": "code",
   "execution_count": 32,
   "metadata": {},
   "outputs": [
    {
     "name": "stdout",
     "output_type": "stream",
     "text": [
      "0.5\n"
     ]
    }
   ],
   "source": [
    "from sklearn.metrics import roc_auc_score\n",
    "y_true = np.random.randint(2, size=10)\n",
    "y_pred = np.random.randint(2, size=10)\n",
    "print(roc_auc_score(y_true, y_pred))"
   ]
  },
  {
   "cell_type": "code",
   "execution_count": 33,
   "metadata": {},
   "outputs": [
    {
     "data": {
      "text/plain": [
       "0.5"
      ]
     },
     "execution_count": 33,
     "metadata": {},
     "output_type": "execute_result"
    }
   ],
   "source": [
    "auc_score(y_true, y_pred)"
   ]
  },
  {
   "cell_type": "markdown",
   "metadata": {},
   "source": [
    "## Feature selection"
   ]
  },
  {
   "cell_type": "code",
   "execution_count": 34,
   "metadata": {},
   "outputs": [],
   "source": [
    "\n",
    "from sklearn.feature_selection import RFECV\n",
    "from matplotlib import pyplot as plt\n",
    "'''\n",
    "Use RFE to select optimal number of features from the \n",
    "feature_set(static, DKT， DKT+)\n",
    "return the reduced X and output the selected feature names,\n",
    "the cv result for each number of feature is also ploted\n",
    "\n",
    "params: \n",
    "algorithm: name of classifier used for RFE\n",
    "feature_set: static, DKT or DKT+\n",
    "n_fold: number of folds for CV\n",
    "\n",
    "return : \n",
    "X_new: reduced data set with optimal number of features\n",
    "'''\n",
    "\n",
    "from sklearn.model_selection import StratifiedKFold\n",
    "def feature_selection(X, y, algorithm, feature_set, n_fold):\n",
    "    \n",
    "    #declear  rfe object\n",
    "    \n",
    "    rfecv = RFECV(estimator=algorithm_dict[algorithm], \n",
    "                      step=1, \n",
    "                      cv=CV_OBJ,\n",
    "                      scoring=admc_scorer,\n",
    "                       verbose=0)\n",
    "    \n",
    "    #fit and transform input data\n",
    "    \n",
    "#     X_new = rfecv.fit_transform(X, y)\n",
    "    rfecv.fit(X, y)\n",
    "    X_new = rfecv.transform(X)\n",
    "#     print(rfecv.support_)\n",
    "    print(\"Optimal number of features : {}\".format(rfecv.n_features_))\n",
    "    \n",
    "    # Plot number of features VS. cross-validation scores\n",
    "    fig, ax = plt.subplots()\n",
    "    ax.set_ylim([0.8,1.25])\n",
    "    plt.xlabel(\"Number of features selected\")\n",
    "    plt.ylabel(\"Combined score\")\n",
    "    plt.plot(range(1, len(rfecv.grid_scores_) + 1), rfecv.grid_scores_)\n",
    "    plt.title(\"Feature Selection Result of {}-{}\".format(algorithm, feature_set))\n",
    "    plt.show()\n",
    "    \n",
    "    #find the selected features' names\n",
    "    features_cols =[]\n",
    "    if(feature_set == 'SP'):\n",
    "        features_cols = static_features_cols\n",
    "    elif(feature_set == 'DKT'):\n",
    "        features_cols = kt_cols\n",
    "    elif(feature_set == 'DKT+'):\n",
    "        features_cols = kt_cols\n",
    "    elif(feature_set == 'DKT&SP'):\n",
    "        features_cols = dkt_features_cols\n",
    "    elif(feature_set == 'DKT+&SP'):\n",
    "        features_cols = dktp_features_cols\n",
    "    \n",
    "    print()\n",
    "    #get the indices of selected features\n",
    "    indices = rfecv.get_support(indices=True)\n",
    "    \n",
    "    selected_feas = []\n",
    "#     print(features_cols)\n",
    "    for idx in indices:\n",
    "        selected_feas.append(features_cols[idx])\n",
    "    \n",
    "    print('Selected Features: \\n')\n",
    "    print(selected_feas)\n",
    "    \n",
    "    \n",
    "    \n",
    "    #return X_new\n",
    "    return X_new\n"
   ]
  },
  {
   "cell_type": "code",
   "execution_count": 35,
   "metadata": {},
   "outputs": [],
   "source": [
    "\n",
    "from sklearn.feature_selection import RFECV\n",
    "from matplotlib import pyplot as plt\n",
    "'''\n",
    "Use RFE to select optimal number of features from the \n",
    "feature_set(static, DKT， DKT+)\n",
    "return the reduced X and output the selected feature names,\n",
    "the cv result for each number of feature is also ploted\n",
    "\n",
    "params: \n",
    "algorithm: name of classifier used for RFE\n",
    "feature_set: static, DKT or DKT+\n",
    "n_fold: number of folds for CV\n",
    "\n",
    "return : \n",
    "X_new: reduced data set with optimal number of features\n",
    "'''\n",
    "from sklearn.feature_selection import SelectKBest\n",
    "from sklearn.feature_selection import SelectFpr, f_classif\n",
    "from sklearn.model_selection import StratifiedKFold\n",
    "def feature_selection_kbest(X, y, algorithm, feature_set, n_fold):\n",
    "    \n",
    "    #declear  rfe object\n",
    "    \n",
    "    selector = SelectKBest(f_classif, k=10)   \n",
    "    X_new = selector.fit_transform(X, y)\n",
    "\n",
    "    \n",
    "    #find the selected features' names\n",
    "    features_cols =[]\n",
    "    if(feature_set == 'SP'):\n",
    "        features_cols = static_features_cols\n",
    "    elif(feature_set == 'DKT'):\n",
    "        features_cols = kt_cols\n",
    "    elif(feature_set == 'DKT+'):\n",
    "        features_cols = kt_cols\n",
    "    elif(feature_set == 'DKT&SP'):\n",
    "        features_cols = dkt_features_cols\n",
    "    elif(feature_set == 'DKT+&SP'):\n",
    "        features_cols = dktp_features_cols\n",
    "    \n",
    "    print()\n",
    "    #get the indices of selected features\n",
    "    indices = selector.get_support(indices=True)\n",
    "    \n",
    "    selected_feas = []\n",
    "    for idx in indices:\n",
    "        selected_feas.append(features_cols[idx])\n",
    "    \n",
    "    print('Selected Features: \\n')\n",
    "    print(selected_feas)\n",
    "    \n",
    "    \n",
    "    \n",
    "    #return X_new\n",
    "    return X_new\n"
   ]
  },
  {
   "cell_type": "code",
   "execution_count": 36,
   "metadata": {},
   "outputs": [],
   "source": [
    "\n",
    "# coding: utf-8\n",
    "\n",
    "# # Implementation of functions that adds random Gaussian noise to training data  so as to reduce overfitting \n",
    "\n",
    "# In[27]:\n",
    "\n",
    "\n",
    "import numpy as np\n",
    "from sklearn.model_selection import StratifiedKFold\n",
    "'''\n",
    "Add gaussian noise to each feature of every sample in X.\n",
    "\n",
    "Params:\n",
    "X: input numpy nd array data\n",
    "y: input numpy nd array label\n",
    "num: how many more noise-processed data to be added. \n",
    "If num = n, then the returned data will be (n+1) times as\n",
    "many rows as X\n",
    "std: the standard deviation of the Gaussian noise\n",
    "\n",
    "\n",
    "Return:\n",
    "new data with noised data added and shuffled.\n",
    "'''\n",
    "def add_noise(X, y, num, std):\n",
    "    \n",
    "    X_new = X\n",
    "    y_new = y\n",
    "    for i in range(0, num, 1):\n",
    "        noise = np.random.normal(0,std, X.shape)\n",
    "        X_temp = X + noise\n",
    "        X_new = np.concatenate((X_new, X_temp))\n",
    "        \n",
    "        y_new = np.concatenate((y_new, y))\n",
    "        \n",
    "    perm = np.random.permutation(X_new.shape[0])\n",
    "    X_new = X_new[perm]\n",
    "    y_new = y_new[perm]\n",
    "    return X_new, y_new\n",
    "\n",
    "\n",
    "\n",
    "\n",
    "\n",
    "\n",
    "# ## Re-define Cross-Validation with noise\n",
    "\n",
    "# In[33]:\n",
    "\n",
    "\n",
    "'''\n",
    "cross validate the input estimator using stratified  n_fold shuffle split,\n",
    "return the mean and std of each metric in dictionary format\n",
    "\n",
    "params:\n",
    "scoring_dcit: with metric name (e.g. 'AUC') as keys and \n",
    "callable scoring function as values, which has the signature\n",
    "of (y_true, y_pred) and return scores\n",
    "\n",
    "std: standard deviation of the Gaussian noise\n",
    "\n",
    "return:\n",
    "score_dict: with metric name (e.g. 'AUC') as keys and \n",
    "mean +/- 2*std string as values\n",
    "'''\n",
    "\n",
    "def multi_metrics_noise_cv(estimator, X, y, scoring_dict, std, n_fold = 5, oversampling=None):\n",
    "    \n",
    "   \n",
    "    # dictionary storing the result of the cross-validation\n",
    "    train_score_result_dict =  {metric:[] for metric in scoring_dict}\n",
    "    test_score_result_dict =  {metric:[] for metric in scoring_dict}\n",
    "    \n",
    "    # define the object for corss-validation\n",
    "    #sss = StratifiedShuffleSplit(n_splits=n_fold, random_state=RANDOM_STATE)\n",
    "    sss = StratifiedKFold(n_splits=n_fold)\n",
    "    # performing the cross-validation\n",
    "    \n",
    "    for train_index, test_index in sss.split(X, y):\n",
    "\n",
    "        X_train, y_train = X[train_index], y[train_index]\n",
    "        X_test, y_test = X[test_index], y[test_index]\n",
    "        \n",
    "        \n",
    "        #print(\"Train pos percentage: {}, Test pos percentage: {}\".format(np.mean(y_train), np.mean(y_test)))\n",
    "        \n",
    "        sampler = None\n",
    "        # performing the oversampling.\n",
    "        if oversampling == 'ros':\n",
    "            sampler = RandomOverSampler(random_state=42)\n",
    "        elif oversampling == 'adasyn':\n",
    "            sampler = ADASYN(random_state=42)\n",
    "        elif oversampling == 'smote':\n",
    "            sampler = SMOTE(random_state=42)\n",
    "        elif oversampling == 'smoteenn':\n",
    "            sampler = SMOTEENN(random_state=42)\n",
    "        elif oversampling == 'smotetomek':\n",
    "            sampler = SMOTETomek(random_state=42)\n",
    "        \n",
    "        if sampler is not None:\n",
    "            X_train, y_train = sampler.fit_sample(X_train, y_train)\n",
    "        \n",
    "        \n",
    "        #Add noise to training data\n",
    "        \n",
    "        X_train, y_train = add_noise(X=X_train, y=y_train, num=19, std = std)\n",
    "        # train the model\n",
    "        estimator.fit(X_train, y_train)\n",
    "        \n",
    "        \n",
    "        #evaluate the model\n",
    "        \n",
    "      \n",
    "        y_pred_train = [proba[1] for proba in estimator.predict_proba(X_train)]\n",
    "        y_pred_test = [proba[1] for proba in estimator.predict_proba(X_test)]\n",
    "        \n",
    "        \n",
    "        \n",
    "        #print(y_pred)\n",
    "        for metric in scoring_dict:\n",
    "            train_score = scoring_dict[metric](y_train, y_pred_train)\n",
    "            test_score = scoring_dict[metric](y_test, y_pred_test)\n",
    "        \n",
    "            train_score_result_dict[metric].append(train_score)\n",
    "            test_score_result_dict[metric].append(test_score)\n",
    "        \n",
    "        \n",
    "    # transforming the result\n",
    "\n",
    "        \n",
    "    for metric in scoring_dict:\n",
    "        train_mean = np.mean(train_score_result_dict[metric])\n",
    "        train_std = np.std(train_score_result_dict[metric])\n",
    "        \n",
    "        test_mean = np.mean(test_score_result_dict[metric])\n",
    "        test_std = np.std(test_score_result_dict[metric])\n",
    "        \n",
    "        train_val_str = \"{:.3f} $\\pm$ {:.3f}\".format(train_mean, 2*train_std)\n",
    "        test_val_str = \"{:.3f} $\\pm$ {:.3f}\".format(test_mean, 2*test_std)\n",
    "        \n",
    "        \n",
    "        train_score_result_dict[metric] = train_val_str\n",
    "        test_score_result_dict[metric] =  test_val_str\n",
    "        test_score = test_mean\n",
    "    \n",
    "    return train_score_result_dict, test_score_result_dict, test_score\n",
    "\n",
    "\n",
    "# ## Re-define GridSearchCV with noise-adding functionality\n",
    "\n",
    "# In[34]:\n",
    "\n",
    "\n",
    "from sklearn.model_selection import ParameterGrid\n",
    "\n",
    "def noise_grid_search_cv(X, y, estimator, param_grid, scoring_dict, cv=5):\n",
    "    param_list = list(ParameterGrid(param_grid))\n",
    "    \n",
    "    best_score = 0\n",
    "    best_train_score_dict={} \n",
    "    best_test_score_dict = {}\n",
    "    best_param = {}\n",
    "    std_list = [0.025]\n",
    "    best_std = 0\n",
    "    \n",
    "    for param in param_list:\n",
    "        for std in std_list:\n",
    "            print(\"Test on {}, std: {}\".format(param, std))\n",
    "            estimator.set_params(**param)\n",
    "           \n",
    "            train_score_dict, test_score_dict, test_score = multi_metrics_noise_cv(X=X,y=y, estimator=estimator, n_fold=cv, scoring_dict = scoring_dict, std =std )\n",
    "            \n",
    "            if(test_score>best_score):\n",
    "                best_std = std\n",
    "                best_train_score_dict= train_score_dict \n",
    "                best_test_score_dict = test_score_dict\n",
    "                best_param = param\n",
    "    best_param['noise_std'] = best_std\n",
    "    return best_train_score_dict, best_test_score_dict, best_param\n",
    "\n"
   ]
  },
  {
   "cell_type": "code",
   "execution_count": 37,
   "metadata": {},
   "outputs": [],
   "source": [
    "def multi_metrics_cv(estimator, X, y, params,scoring_dict,n_fold = 5):\n",
    "    \n",
    "   \n",
    "    # dictionary storing the result of the cross-validation\n",
    "    train_score_result_dict =  {metric:[] for metric in scoring_dict}\n",
    "    test_score_result_dict =  {metric:[] for metric in scoring_dict}\n",
    "    \n",
    "    # define the object for corss-validation\n",
    "    #sss = StratifiedShuffleSplit(n_splits=n_fold, random_state=RANDOM_STATE)\n",
    "    sss = StratifiedKFold(n_splits=n_fold)\n",
    "    # performing the cross-validation\n",
    "    \n",
    "    estimator.set_params(**params)\n",
    "    for train_index, test_index in sss.split(X, y):\n",
    "\n",
    "        X_train, y_train = X[train_index], y[train_index]\n",
    "        X_test, y_test = X[test_index], y[test_index]\n",
    "\n",
    "        # train the model\n",
    "        estimator.fit(X_train, y_train)\n",
    "        \n",
    "        \n",
    "        #evaluate the model\n",
    "        y_pred_train = [proba[1] for proba in estimator.predict_proba(X_train)]\n",
    "        y_pred_test = [proba[1] for proba in estimator.predict_proba(X_test)]\n",
    "#         print('='*12)\n",
    "#         print('train:')\n",
    "#         plt.hist(y_pred_train, bins=50, range=(0.0,1.0))\n",
    "#         print('='*5)\n",
    "#         print('test:')\n",
    "#         plt.hist(y_pred_test, bins=50, range=(0.0,1.0))\n",
    "#         print('='*12)\n",
    "\n",
    "        \n",
    "        \n",
    "        \n",
    "        #print(y_pred)\n",
    "        for metric in scoring_dict:\n",
    "            train_score = scoring_dict[metric](y_train, y_pred_train)\n",
    "            test_score = scoring_dict[metric](y_test, y_pred_test)\n",
    "        \n",
    "            train_score_result_dict[metric].append(train_score)\n",
    "            test_score_result_dict[metric].append(test_score)\n",
    "     \n",
    "    # transforming the result\n",
    "\n",
    "        \n",
    "    for metric in scoring_dict:\n",
    "        train_mean = np.mean(train_score_result_dict[metric])\n",
    "        train_std = np.std(train_score_result_dict[metric])\n",
    "        \n",
    "        test_mean = np.mean(test_score_result_dict[metric])\n",
    "        test_std = np.std(test_score_result_dict[metric])\n",
    "        \n",
    "        train_val_str = \"{:.3f} $\\pm$ {:.3f}\".format(train_mean, 2*train_std)\n",
    "        test_val_str = \"{:.3f} $\\pm$ {:.3f}\".format(test_mean, 2*test_std)\n",
    "        \n",
    "        \n",
    "        train_score_result_dict[metric] = train_val_str\n",
    "        test_score_result_dict[metric] =  test_val_str\n",
    "        test_score = test_mean\n",
    "        \n",
    "    print('='*30)\n",
    "    print('params:', params)\n",
    "    print('train result:', train_score_result_dict)\n",
    "    print('test result:', test_score_result_dict)\n",
    "    print('='*30)\n",
    "    \n",
    "    return train_score_result_dict, test_score_result_dict\n"
   ]
  },
  {
   "cell_type": "markdown",
   "metadata": {},
   "source": [
    "##  Perform parameter search and test on each feature set on 4 clfs \n"
   ]
  },
  {
   "cell_type": "code",
   "execution_count": 38,
   "metadata": {},
   "outputs": [],
   "source": [
    "from sklearn import decomposition\n",
    "from sklearn.pipeline import Pipeline\n",
    "'''\n",
    "Do parameter search and get experimental result on given feature (string)\n",
    "return dictionaries containing the scores of each clf\n",
    "\n",
    "Params:\n",
    "    feature: 'static', 'DKT', 'DKT+'\n",
    "    scoring_dict: with metric name (e.g. 'AUC') as keys and \n",
    "        callable scoring function as values, which has the signature\n",
    "        of (y_true, y_pred) and return scores\n",
    "'''\n",
    "def test_feature(feature, scoring_dict,oversampling=None):\n",
    "    \n",
    "    train_res_dict = {metric:[] for metric in scoring_dict} \n",
    "    train_res_dict['name'] = []\n",
    "    \n",
    "    test_res_dict = {metric:[] for metric in scoring_dict} \n",
    "    test_res_dict['name'] = []\n",
    "    best_param_dict = {\n",
    "        'name': [],\n",
    "        'params': []\n",
    "    }\n",
    "    \n",
    "    if feature == 'SP':\n",
    "        X_train = X_static\n",
    "        y_train = y_static\n",
    "    elif feature == 'DKT':\n",
    "        X_train = X_dkt\n",
    "        y_train = y_dkt\n",
    "    elif feature == 'DKT+':\n",
    "        X_train = X_dktp\n",
    "        y_train = y_dktp\n",
    "    elif feature == 'DKT&SP':\n",
    "        X_train = X_dktsp\n",
    "        y_train = y_dktsp\n",
    "    elif feature == 'DKT+&SP':\n",
    "        X_train = X_dktpsp\n",
    "        y_train = y_dktpsp\n",
    "    else:\n",
    "        print('Please select correct feature!')\n",
    "        return \n",
    "        \n",
    "    pca = decomposition.PCA(n_components=0.99)\n",
    "    \n",
    "#     X_train = pca.fit_transform(X_train)\n",
    "#     print(X_train.shape)\n",
    "#     print(pca.explained_variance_ratio_)\n",
    "    \n",
    "    for algorithm in algorithm_dict:\n",
    "        print(algorithm)\n",
    "#         X_train_noise, y_train_noise = add_noise(X=X_train, y=y_train, num=19, std = 0.1)\n",
    "        X_new = feature_selection(X=X_train, y=y_train, algorithm=algorithm, feature_set=feature, n_fold=5)\n",
    "#         X_new = feature_selection_kbest(X=X_train, y=y_train, algorithm=algorithm, feature_set=feature, n_fold=5)\n",
    "#         X_new = X_train\n",
    "        \n",
    "        clf = GridSearchCV(\n",
    "            estimator=algorithm_dict[algorithm],\n",
    "            param_grid=param_dict[algorithm],\n",
    "            scoring=admc_scorer,\n",
    "            cv=CV_OBJ,\n",
    "            verbose=0,\n",
    "            return_train_score=True\n",
    "        )\n",
    "        \n",
    "        clf.fit(X_new, y_train)\n",
    "        \n",
    "        best_param = clf.best_params_\n",
    "        \n",
    "        \n",
    "        train_score_dict, test_score_dict =  multi_metrics_cv(X=X_new, y=y_train, \n",
    "                                                             estimator=algorithm_dict[algorithm],\n",
    "                                                             params = best_param, \n",
    "                                                             scoring_dict =scoring_dict, n_fold=5)\n",
    "        \n",
    "        '''\n",
    "        train_score_dict, test_score_dict, best_param = noise_grid_search_cv(X=X_new, y=y_train, \n",
    "                                                                             estimator=algorithm_dict[algorithm],\n",
    "                                                                             param_grid=param_dict[algorithm], \n",
    "                                                                             scoring_dict =scoring_dict, cv=5)\n",
    "        '''\n",
    "        # Append the score into dictionaries\n",
    "        train_res_dict['name'].append(algorithm)\n",
    "        test_res_dict['name'].append(algorithm)\n",
    "        best_param_dict['name'].append(algorithm)\n",
    "        best_param_dict['params'].append(best_param)\n",
    "        \n",
    "        '''\n",
    "        for metric in scoring_metrics:\n",
    "            train_mean = results['mean_train_{:s}'.format(metric)][best_index]\n",
    "            train_std = results['std_train_{:s}'.format(metric)][best_index]\n",
    "            \n",
    "            \n",
    "            #print(\"train_mean: {}\".format(train_mean))\n",
    "            train_val_str = \"{:.3f} $\\pm$ {:.3f}\".format(train_mean, 2*train_std)\n",
    "            train_res_dict[metric].append(train_val_str)\n",
    "            \n",
    "            test_mean = results['mean_test_{:s}'.format(metric)][best_index]\n",
    "            test_std = results['std_test_{:s}'.format(metric)][best_index]\n",
    "            test_val_str = \"{:.3f} $\\pm$ {:.3f}\".format(test_mean, 2*test_std)\n",
    "            test_res_dict[metric].append(test_val_str)\n",
    "\n",
    "        '''\n",
    "        #print(\"STD: \")\n",
    "        #print(best_param['noise_std'])\n",
    "        for score in train_score_dict:\n",
    "            train_res_dict[score].append(train_score_dict[score])\n",
    "            test_res_dict[score].append(test_score_dict[score])\n",
    "        \n",
    "    return train_res_dict, test_res_dict, best_param_dict"
   ]
  },
  {
   "cell_type": "code",
   "execution_count": 39,
   "metadata": {},
   "outputs": [],
   "source": [
    "import warnings\n",
    "warnings.filterwarnings('ignore')"
   ]
  },
  {
   "cell_type": "markdown",
   "metadata": {},
   "source": [
    "## Write result tabel of approach 2 to csv files"
   ]
  },
  {
   "cell_type": "code",
   "execution_count": 40,
   "metadata": {},
   "outputs": [],
   "source": [
    "RANDOM_STATE = 12"
   ]
  },
  {
   "cell_type": "code",
   "execution_count": 41,
   "metadata": {},
   "outputs": [
    {
     "name": "stdout",
     "output_type": "stream",
     "text": [
      "DKT&SP\n",
      "LR\n",
      "Optimal number of features : 12\n"
     ]
    },
    {
     "data": {
      "image/png": "[encoded data removed]",
      "text/plain": [
       "<Figure size 432x288 with 1 Axes>"
      ]
     },
     "metadata": {},
     "output_type": "display_data"
    },
    {
     "name": "stdout",
     "output_type": "stream",
     "text": [
      "\n",
      "Selected Features: \n",
      "\n",
      "['AveKnow', 'AveCarelessness', 'kt_10', 'kt_100', 'kt_15', 'kt_17', 'kt_31', 'kt_51', 'kt_68', 'kt_87', 'kt_95', 'AveCorrect']\n",
      "==============================\n",
      "params: {'C': 100.0, 'penalty': 'l1'}\n",
      "train result: {'AP': '0.467 $\\\\pm$ 0.037', 'AUC': '0.722 $\\\\pm$ 0.022', 'RMSE': '0.407 $\\\\pm$ 0.008', 'AUC+(1-RMSE)': '1.316 $\\\\pm$ 0.030'}\n",
      "test result: {'AP': '0.417 $\\\\pm$ 0.138', 'AUC': '0.683 $\\\\pm$ 0.104', 'RMSE': '0.421 $\\\\pm$ 0.032', 'AUC+(1-RMSE)': '1.262 $\\\\pm$ 0.135'}\n",
      "==============================\n",
      "GBDT\n",
      "Optimal number of features : 96\n"
     ]
    },
    {
     "data": {
      "image/png": "[encoded data removed]",
      "text/plain": [
       "<Figure size 432x288 with 1 Axes>"
      ]
     },
     "metadata": {},
     "output_type": "display_data"
    },
    {
     "name": "stdout",
     "output_type": "stream",
     "text": [
      "\n",
      "Selected Features: \n",
      "\n",
      "['AveKnow', 'AveCarelessness', 'NumActions', 'AveResBored', 'AveResEngcon', 'AveResConf', 'AveResFrust', 'AveResOfftask', 'AveResGaming', 'kt_0', 'kt_1', 'kt_10', 'kt_100', 'kt_101', 'kt_11', 'kt_12', 'kt_14', 'kt_15', 'kt_16', 'kt_17', 'kt_19', 'kt_20', 'kt_21', 'kt_22', 'kt_23', 'kt_24', 'kt_25', 'kt_28', 'kt_29', 'kt_3', 'kt_31', 'kt_32', 'kt_33', 'kt_34', 'kt_36', 'kt_37', 'kt_38', 'kt_39', 'kt_4', 'kt_40', 'kt_41', 'kt_42', 'kt_43', 'kt_44', 'kt_45', 'kt_47', 'kt_49', 'kt_50', 'kt_53', 'kt_54', 'kt_55', 'kt_57', 'kt_58', 'kt_59', 'kt_6', 'kt_60', 'kt_61', 'kt_62', 'kt_63', 'kt_64', 'kt_65', 'kt_66', 'kt_67', 'kt_68', 'kt_69', 'kt_70', 'kt_71', 'kt_73', 'kt_74', 'kt_76', 'kt_77', 'kt_78', 'kt_79', 'kt_8', 'kt_80', 'kt_81', 'kt_82', 'kt_83', 'kt_84', 'kt_85', 'kt_86', 'kt_87', 'kt_88', 'kt_89', 'kt_9', 'kt_90', 'kt_91', 'kt_92', 'kt_93', 'kt_94', 'kt_95', 'kt_96', 'kt_97', 'kt_98', 'kt_99', 'AveCorrect']\n",
      "==============================\n",
      "params: {'max_depth': 8, 'min_samples_leaf': 2, 'n_estimators': 300}\n",
      "train result: {'AP': '1.000 $\\\\pm$ 0.000', 'AUC': '1.000 $\\\\pm$ 0.000', 'RMSE': '0.000 $\\\\pm$ 0.000', 'AUC+(1-RMSE)': '2.000 $\\\\pm$ 0.000'}\n",
      "test result: {'AP': '0.306 $\\\\pm$ 0.073', 'AUC': '0.520 $\\\\pm$ 0.086', 'RMSE': '0.508 $\\\\pm$ 0.041', 'AUC+(1-RMSE)': '1.012 $\\\\pm$ 0.118'}\n",
      "==============================\n",
      "LDA\n",
      "Optimal number of features : 5\n"
     ]
    },
    {
     "data": {
      "image/png": "[encoded data removed]",
      "text/plain": [
       "<Figure size 432x288 with 1 Axes>"
      ]
     },
     "metadata": {},
     "output_type": "display_data"
    },
    {
     "name": "stdout",
     "output_type": "stream",
     "text": [
      "\n",
      "Selected Features: \n",
      "\n",
      "['AveCarelessness', 'kt_100', 'kt_17', 'kt_31', 'kt_93']\n",
      "==============================\n",
      "params: {'n_components': None}\n",
      "train result: {'AP': '0.455 $\\\\pm$ 0.037', 'AUC': '0.700 $\\\\pm$ 0.023', 'RMSE': '0.411 $\\\\pm$ 0.007', 'AUC+(1-RMSE)': '1.290 $\\\\pm$ 0.030'}\n",
      "test result: {'AP': '0.448 $\\\\pm$ 0.139', 'AUC': '0.685 $\\\\pm$ 0.089', 'RMSE': '0.418 $\\\\pm$ 0.028', 'AUC+(1-RMSE)': '1.267 $\\\\pm$ 0.118'}\n",
      "==============================\n",
      "DKT+&SP\n",
      "LR\n",
      "Optimal number of features : 5\n"
     ]
    },
    {
     "data": {
      "image/png": "[encoded data removed]",
      "text/plain": [
       "<Figure size 432x288 with 1 Axes>"
      ]
     },
     "metadata": {},
     "output_type": "display_data"
    },
    {
     "name": "stdout",
     "output_type": "stream",
     "text": [
      "\n",
      "Selected Features: \n",
      "\n",
      "['kt_0', 'kt_61', 'kt_78', 'kt_80', 'kt_88']\n",
      "==============================\n",
      "params: {'C': 100.0, 'penalty': 'l1'}\n",
      "train result: {'AP': '0.421 $\\\\pm$ 0.017', 'AUC': '0.623 $\\\\pm$ 0.018', 'RMSE': '0.418 $\\\\pm$ 0.002', 'AUC+(1-RMSE)': '1.204 $\\\\pm$ 0.018'}\n",
      "test result: {'AP': '0.400 $\\\\pm$ 0.072', 'AUC': '0.604 $\\\\pm$ 0.072', 'RMSE': '0.423 $\\\\pm$ 0.007', 'AUC+(1-RMSE)': '1.181 $\\\\pm$ 0.070'}\n",
      "==============================\n",
      "GBDT\n",
      "Optimal number of features : 96\n"
     ]
    },
    {
     "data": {
      "image/png": "[encoded data removed]",
      "text/plain": [
       "<Figure size 432x288 with 1 Axes>"
      ]
     },
     "metadata": {},
     "output_type": "display_data"
    },
    {
     "name": "stdout",
     "output_type": "stream",
     "text": [
      "\n",
      "Selected Features: \n",
      "\n",
      "['AveKnow', 'AveCarelessness', 'NumActions', 'AveResBored', 'AveResEngcon', 'AveResConf', 'AveResFrust', 'AveResOfftask', 'AveResGaming', 'kt_0', 'kt_1', 'kt_10', 'kt_100', 'kt_101', 'kt_11', 'kt_12', 'kt_14', 'kt_15', 'kt_16', 'kt_17', 'kt_18', 'kt_19', 'kt_2', 'kt_20', 'kt_21', 'kt_22', 'kt_23', 'kt_24', 'kt_25', 'kt_26', 'kt_27', 'kt_28', 'kt_29', 'kt_30', 'kt_31', 'kt_32', 'kt_33', 'kt_34', 'kt_36', 'kt_37', 'kt_38', 'kt_39', 'kt_4', 'kt_41', 'kt_42', 'kt_43', 'kt_44', 'kt_45', 'kt_47', 'kt_48', 'kt_49', 'kt_5', 'kt_50', 'kt_51', 'kt_52', 'kt_53', 'kt_57', 'kt_58', 'kt_59', 'kt_60', 'kt_63', 'kt_64', 'kt_65', 'kt_66', 'kt_67', 'kt_68', 'kt_7', 'kt_70', 'kt_71', 'kt_72', 'kt_73', 'kt_74', 'kt_77', 'kt_78', 'kt_79', 'kt_8', 'kt_82', 'kt_83', 'kt_84', 'kt_85', 'kt_86', 'kt_87', 'kt_88', 'kt_89', 'kt_9', 'kt_90', 'kt_91', 'kt_92', 'kt_93', 'kt_94', 'kt_95', 'kt_96', 'kt_97', 'kt_98', 'kt_99', 'AveCorrect']\n",
      "==============================\n",
      "params: {'max_depth': 3, 'min_samples_leaf': 5, 'n_estimators': 120}\n",
      "train result: {'AP': '1.000 $\\\\pm$ 0.000', 'AUC': '1.000 $\\\\pm$ 0.000', 'RMSE': '0.095 $\\\\pm$ 0.017', 'AUC+(1-RMSE)': '1.905 $\\\\pm$ 0.017'}\n",
      "test result: {'AP': '0.366 $\\\\pm$ 0.071', 'AUC': '0.605 $\\\\pm$ 0.074', 'RMSE': '0.447 $\\\\pm$ 0.028', 'AUC+(1-RMSE)': '1.159 $\\\\pm$ 0.094'}\n",
      "==============================\n",
      "LDA\n",
      "Optimal number of features : 15\n"
     ]
    },
    {
     "data": {
      "image/png": "[encoded data removed]",
      "text/plain": [
       "<Figure size 432x288 with 1 Axes>"
      ]
     },
     "metadata": {},
     "output_type": "display_data"
    },
    {
     "name": "stdout",
     "output_type": "stream",
     "text": [
      "\n",
      "Selected Features: \n",
      "\n",
      "['kt_100', 'kt_101', 'kt_28', 'kt_61', 'kt_74', 'kt_78', 'kt_80', 'kt_86', 'kt_93', 'kt_94', 'kt_95', 'kt_96', 'kt_97', 'kt_98', 'kt_99']\n",
      "==============================\n",
      "params: {'n_components': None}\n",
      "train result: {'AP': '0.452 $\\\\pm$ 0.042', 'AUC': '0.682 $\\\\pm$ 0.015', 'RMSE': '0.412 $\\\\pm$ 0.005', 'AUC+(1-RMSE)': '1.270 $\\\\pm$ 0.020'}\n",
      "test result: {'AP': '0.403 $\\\\pm$ 0.173', 'AUC': '0.629 $\\\\pm$ 0.123', 'RMSE': '0.426 $\\\\pm$ 0.028', 'AUC+(1-RMSE)': '1.203 $\\\\pm$ 0.148'}\n",
      "==============================\n",
      "['AP', 'AUC', 'AUC+(1-RMSE)', 'RMSE', 'model']\n",
      "Train Score\n"
     ]
    },
    {
     "data": {
      "text/html": [
       "<div>\n",
       "<style scoped>\n",
       "    .dataframe tbody tr th:only-of-type {\n",
       "        vertical-align: middle;\n",
       "    }\n",
       "\n",
       "    .dataframe tbody tr th {\n",
       "        vertical-align: top;\n",
       "    }\n",
       "\n",
       "    .dataframe thead th {\n",
       "        text-align: right;\n",
       "    }\n",
       "</style>\n",
       "<table border=\"1\" class=\"dataframe\">\n",
       "  <thead>\n",
       "    <tr style=\"text-align: right;\">\n",
       "      <th></th>\n",
       "      <th>model</th>\n",
       "      <th>AP</th>\n",
       "      <th>AUC</th>\n",
       "      <th>AUC+(1-RMSE)</th>\n",
       "      <th>RMSE</th>\n",
       "    </tr>\n",
       "  </thead>\n",
       "  <tbody>\n",
       "    <tr>\n",
       "      <th>1</th>\n",
       "      <td>GBDT-DKT&amp;SP</td>\n",
       "      <td>1.000 $\\pm$ 0.000</td>\n",
       "      <td>1.000 $\\pm$ 0.000</td>\n",
       "      <td>2.000 $\\pm$ 0.000</td>\n",
       "      <td>0.000 $\\pm$ 0.000</td>\n",
       "    </tr>\n",
       "    <tr>\n",
       "      <th>1</th>\n",
       "      <td>GBDT-DKT+&amp;SP</td>\n",
       "      <td>1.000 $\\pm$ 0.000</td>\n",
       "      <td>1.000 $\\pm$ 0.000</td>\n",
       "      <td>1.905 $\\pm$ 0.017</td>\n",
       "      <td>0.095 $\\pm$ 0.017</td>\n",
       "    </tr>\n",
       "    <tr>\n",
       "      <th>2</th>\n",
       "      <td>LDA-DKT&amp;SP</td>\n",
       "      <td>0.455 $\\pm$ 0.037</td>\n",
       "      <td>0.700 $\\pm$ 0.023</td>\n",
       "      <td>1.290 $\\pm$ 0.030</td>\n",
       "      <td>0.411 $\\pm$ 0.007</td>\n",
       "    </tr>\n",
       "    <tr>\n",
       "      <th>2</th>\n",
       "      <td>LDA-DKT+&amp;SP</td>\n",
       "      <td>0.452 $\\pm$ 0.042</td>\n",
       "      <td>0.682 $\\pm$ 0.015</td>\n",
       "      <td>1.270 $\\pm$ 0.020</td>\n",
       "      <td>0.412 $\\pm$ 0.005</td>\n",
       "    </tr>\n",
       "    <tr>\n",
       "      <th>0</th>\n",
       "      <td>LR-DKT&amp;SP</td>\n",
       "      <td>0.467 $\\pm$ 0.037</td>\n",
       "      <td>0.722 $\\pm$ 0.022</td>\n",
       "      <td>1.316 $\\pm$ 0.030</td>\n",
       "      <td>0.407 $\\pm$ 0.008</td>\n",
       "    </tr>\n",
       "    <tr>\n",
       "      <th>0</th>\n",
       "      <td>LR-DKT+&amp;SP</td>\n",
       "      <td>0.421 $\\pm$ 0.017</td>\n",
       "      <td>0.623 $\\pm$ 0.018</td>\n",
       "      <td>1.204 $\\pm$ 0.018</td>\n",
       "      <td>0.418 $\\pm$ 0.002</td>\n",
       "    </tr>\n",
       "  </tbody>\n",
       "</table>\n",
       "</div>"
      ],
      "text/plain": [
       "          model                 AP                AUC       AUC+(1-RMSE)  \\\n",
       "1   GBDT-DKT&SP  1.000 $\\pm$ 0.000  1.000 $\\pm$ 0.000  2.000 $\\pm$ 0.000   \n",
       "1  GBDT-DKT+&SP  1.000 $\\pm$ 0.000  1.000 $\\pm$ 0.000  1.905 $\\pm$ 0.017   \n",
       "2    LDA-DKT&SP  0.455 $\\pm$ 0.037  0.700 $\\pm$ 0.023  1.290 $\\pm$ 0.030   \n",
       "2   LDA-DKT+&SP  0.452 $\\pm$ 0.042  0.682 $\\pm$ 0.015  1.270 $\\pm$ 0.020   \n",
       "0     LR-DKT&SP  0.467 $\\pm$ 0.037  0.722 $\\pm$ 0.022  1.316 $\\pm$ 0.030   \n",
       "0    LR-DKT+&SP  0.421 $\\pm$ 0.017  0.623 $\\pm$ 0.018  1.204 $\\pm$ 0.018   \n",
       "\n",
       "                RMSE  \n",
       "1  0.000 $\\pm$ 0.000  \n",
       "1  0.095 $\\pm$ 0.017  \n",
       "2  0.411 $\\pm$ 0.007  \n",
       "2  0.412 $\\pm$ 0.005  \n",
       "0  0.407 $\\pm$ 0.008  \n",
       "0  0.418 $\\pm$ 0.002  "
      ]
     },
     "metadata": {},
     "output_type": "display_data"
    },
    {
     "name": "stdout",
     "output_type": "stream",
     "text": [
      "Test Score\n"
     ]
    },
    {
     "data": {
      "text/html": [
       "<div>\n",
       "<style scoped>\n",
       "    .dataframe tbody tr th:only-of-type {\n",
       "        vertical-align: middle;\n",
       "    }\n",
       "\n",
       "    .dataframe tbody tr th {\n",
       "        vertical-align: top;\n",
       "    }\n",
       "\n",
       "    .dataframe thead th {\n",
       "        text-align: right;\n",
       "    }\n",
       "</style>\n",
       "<table border=\"1\" class=\"dataframe\">\n",
       "  <thead>\n",
       "    <tr style=\"text-align: right;\">\n",
       "      <th></th>\n",
       "      <th>model</th>\n",
       "      <th>AP</th>\n",
       "      <th>AUC</th>\n",
       "      <th>AUC+(1-RMSE)</th>\n",
       "      <th>RMSE</th>\n",
       "    </tr>\n",
       "  </thead>\n",
       "  <tbody>\n",
       "    <tr>\n",
       "      <th>1</th>\n",
       "      <td>GBDT-DKT&amp;SP</td>\n",
       "      <td>0.306 $\\pm$ 0.073</td>\n",
       "      <td>0.520 $\\pm$ 0.086</td>\n",
       "      <td>1.012 $\\pm$ 0.118</td>\n",
       "      <td>0.508 $\\pm$ 0.041</td>\n",
       "    </tr>\n",
       "    <tr>\n",
       "      <th>1</th>\n",
       "      <td>GBDT-DKT+&amp;SP</td>\n",
       "      <td>0.366 $\\pm$ 0.071</td>\n",
       "      <td>0.605 $\\pm$ 0.074</td>\n",
       "      <td>1.159 $\\pm$ 0.094</td>\n",
       "      <td>0.447 $\\pm$ 0.028</td>\n",
       "    </tr>\n",
       "    <tr>\n",
       "      <th>2</th>\n",
       "      <td>LDA-DKT&amp;SP</td>\n",
       "      <td>0.448 $\\pm$ 0.139</td>\n",
       "      <td>0.685 $\\pm$ 0.089</td>\n",
       "      <td>1.267 $\\pm$ 0.118</td>\n",
       "      <td>0.418 $\\pm$ 0.028</td>\n",
       "    </tr>\n",
       "    <tr>\n",
       "      <th>2</th>\n",
       "      <td>LDA-DKT+&amp;SP</td>\n",
       "      <td>0.403 $\\pm$ 0.173</td>\n",
       "      <td>0.629 $\\pm$ 0.123</td>\n",
       "      <td>1.203 $\\pm$ 0.148</td>\n",
       "      <td>0.426 $\\pm$ 0.028</td>\n",
       "    </tr>\n",
       "    <tr>\n",
       "      <th>0</th>\n",
       "      <td>LR-DKT&amp;SP</td>\n",
       "      <td>0.417 $\\pm$ 0.138</td>\n",
       "      <td>0.683 $\\pm$ 0.104</td>\n",
       "      <td>1.262 $\\pm$ 0.135</td>\n",
       "      <td>0.421 $\\pm$ 0.032</td>\n",
       "    </tr>\n",
       "    <tr>\n",
       "      <th>0</th>\n",
       "      <td>LR-DKT+&amp;SP</td>\n",
       "      <td>0.400 $\\pm$ 0.072</td>\n",
       "      <td>0.604 $\\pm$ 0.072</td>\n",
       "      <td>1.181 $\\pm$ 0.070</td>\n",
       "      <td>0.423 $\\pm$ 0.007</td>\n",
       "    </tr>\n",
       "  </tbody>\n",
       "</table>\n",
       "</div>"
      ],
      "text/plain": [
       "          model                 AP                AUC       AUC+(1-RMSE)  \\\n",
       "1   GBDT-DKT&SP  0.306 $\\pm$ 0.073  0.520 $\\pm$ 0.086  1.012 $\\pm$ 0.118   \n",
       "1  GBDT-DKT+&SP  0.366 $\\pm$ 0.071  0.605 $\\pm$ 0.074  1.159 $\\pm$ 0.094   \n",
       "2    LDA-DKT&SP  0.448 $\\pm$ 0.139  0.685 $\\pm$ 0.089  1.267 $\\pm$ 0.118   \n",
       "2   LDA-DKT+&SP  0.403 $\\pm$ 0.173  0.629 $\\pm$ 0.123  1.203 $\\pm$ 0.148   \n",
       "0     LR-DKT&SP  0.417 $\\pm$ 0.138  0.683 $\\pm$ 0.104  1.262 $\\pm$ 0.135   \n",
       "0    LR-DKT+&SP  0.400 $\\pm$ 0.072  0.604 $\\pm$ 0.072  1.181 $\\pm$ 0.070   \n",
       "\n",
       "                RMSE  \n",
       "1  0.508 $\\pm$ 0.041  \n",
       "1  0.447 $\\pm$ 0.028  \n",
       "2  0.418 $\\pm$ 0.028  \n",
       "2  0.426 $\\pm$ 0.028  \n",
       "0  0.421 $\\pm$ 0.032  \n",
       "0  0.423 $\\pm$ 0.007  "
      ]
     },
     "metadata": {},
     "output_type": "display_data"
    },
    {
     "name": "stdout",
     "output_type": "stream",
     "text": [
      "Best Hyperparameter\n"
     ]
    },
    {
     "data": {
      "text/html": [
       "<div>\n",
       "<style scoped>\n",
       "    .dataframe tbody tr th:only-of-type {\n",
       "        vertical-align: middle;\n",
       "    }\n",
       "\n",
       "    .dataframe tbody tr th {\n",
       "        vertical-align: top;\n",
       "    }\n",
       "\n",
       "    .dataframe thead th {\n",
       "        text-align: right;\n",
       "    }\n",
       "</style>\n",
       "<table border=\"1\" class=\"dataframe\">\n",
       "  <thead>\n",
       "    <tr style=\"text-align: right;\">\n",
       "      <th></th>\n",
       "      <th>model</th>\n",
       "      <th>params</th>\n",
       "    </tr>\n",
       "  </thead>\n",
       "  <tbody>\n",
       "    <tr>\n",
       "      <th>1</th>\n",
       "      <td>GBDT-DKT&amp;SP</td>\n",
       "      <td>{'max_depth': 8, 'min_samples_leaf': 2, 'n_est...</td>\n",
       "    </tr>\n",
       "    <tr>\n",
       "      <th>1</th>\n",
       "      <td>GBDT-DKT+&amp;SP</td>\n",
       "      <td>{'max_depth': 3, 'min_samples_leaf': 5, 'n_est...</td>\n",
       "    </tr>\n",
       "    <tr>\n",
       "      <th>2</th>\n",
       "      <td>LDA-DKT&amp;SP</td>\n",
       "      <td>{'n_components': None}</td>\n",
       "    </tr>\n",
       "    <tr>\n",
       "      <th>2</th>\n",
       "      <td>LDA-DKT+&amp;SP</td>\n",
       "      <td>{'n_components': None}</td>\n",
       "    </tr>\n",
       "    <tr>\n",
       "      <th>0</th>\n",
       "      <td>LR-DKT&amp;SP</td>\n",
       "      <td>{'C': 100.0, 'penalty': 'l1'}</td>\n",
       "    </tr>\n",
       "    <tr>\n",
       "      <th>0</th>\n",
       "      <td>LR-DKT+&amp;SP</td>\n",
       "      <td>{'C': 100.0, 'penalty': 'l1'}</td>\n",
       "    </tr>\n",
       "  </tbody>\n",
       "</table>\n",
       "</div>"
      ],
      "text/plain": [
       "          model                                             params\n",
       "1   GBDT-DKT&SP  {'max_depth': 8, 'min_samples_leaf': 2, 'n_est...\n",
       "1  GBDT-DKT+&SP  {'max_depth': 3, 'min_samples_leaf': 5, 'n_est...\n",
       "2    LDA-DKT&SP                             {'n_components': None}\n",
       "2   LDA-DKT+&SP                             {'n_components': None}\n",
       "0     LR-DKT&SP                      {'C': 100.0, 'penalty': 'l1'}\n",
       "0    LR-DKT+&SP                      {'C': 100.0, 'penalty': 'l1'}"
      ]
     },
     "metadata": {},
     "output_type": "display_data"
    }
   ],
   "source": [
    "from sklearn.model_selection import GridSearchCV\n",
    "\n",
    "count =1 \n",
    "train_res_df = pd.DataFrame()\n",
    "test_res_df = pd.DataFrame()\n",
    "\n",
    "feature_list = [\n",
    "#     'SP',\n",
    "#     'DKT',\n",
    "#     'DKT+', \n",
    "    'DKT&SP', \n",
    "    'DKT+&SP'\n",
    "]\n",
    "\n",
    "for feature in feature_list:\n",
    "    print(feature)\n",
    "    # oversampling choice: ros, smote, adasyn, smotenn,smotetomek\n",
    "    train_res_dict, test_res_dict, best_param_dict = test_feature(feature, scoring_dict= scoring_metrics,oversampling=None)\n",
    "    \n",
    "    #Convert the model name according to the features used (Optional)\n",
    "    suffix = ('' if feature=='static' else ('-' + feature))\n",
    "    \n",
    "    model_name = []\n",
    "    for i in range(0,  len(train_res_dict['name']), 1):\n",
    "        new_name = train_res_dict['name'][i] + suffix\n",
    "        model_name.append(new_name)\n",
    "        \n",
    "    train_res_dict['model'] = model_name\n",
    "    test_res_dict['model'] = model_name\n",
    "    best_param_dict['model'] = model_name\n",
    "    ####################################################\n",
    "    \n",
    "   \n",
    "\n",
    "    \n",
    "    temp_train_res_df = pd.DataFrame(data = train_res_dict)\n",
    "    temp_test_res_df = pd.DataFrame(data = test_res_dict)\n",
    "    temp_param_df = pd.DataFrame(data = best_param_dict)\n",
    "    \n",
    "    if(count == 1):\n",
    "        train_res_df = temp_train_res_df\n",
    "        test_res_df = temp_test_res_df\n",
    "        best_param_df = temp_param_df\n",
    "    else:\n",
    "        train_res_df = pd.concat([train_res_df, temp_train_res_df])\n",
    "        test_res_df = pd.concat([test_res_df, temp_test_res_df])\n",
    "        best_param_df = pd.concat([best_param_df, temp_param_df])\n",
    "\n",
    "        \n",
    "        \n",
    "    count = count+1\n",
    "    '''\n",
    "    print('{:s} result'.format(feature))\n",
    "    col = list(train_res_df.columns)\n",
    "    col = [col[-1]] + col[:-1]\n",
    "    train_res_df = train_res_df[col]\n",
    "    test_res_df = test_res_df[col]\n",
    "    '''\n",
    "train_res_df.sort_values(by='name', inplace=True)\n",
    "test_res_df.sort_values(by='name', inplace=True)\n",
    "best_param_df.sort_values(by='name', inplace=True)\n",
    "\n",
    "train_res_df.drop('name', inplace=True, axis=1)\n",
    "test_res_df.drop('name', inplace=True, axis=1)\n",
    "best_param_df.drop('name', inplace=True, axis=1)\n",
    "\n",
    "\n",
    "print(train_res_df.columns.tolist())\n",
    "#Change the order of df cols\n",
    "\n",
    "def re_order(in_df):\n",
    "    cols = in_df.columns.tolist()\n",
    "    \n",
    "    cols = cols[-1:] + cols[:-1]\n",
    "    \n",
    "    in_df = in_df[cols]\n",
    "    return in_df\n",
    "\n",
    "train_res_df = re_order(train_res_df)\n",
    "test_res_df = re_order(test_res_df)\n",
    "#best_param_df = re_order(best_param_df)\n",
    "\n",
    "print(\"Train Score\")\n",
    "display(train_res_df)\n",
    "print(\"Test Score\")\n",
    "display(test_res_df)\n",
    "print(\"Best Hyperparameter\")\n",
    "display(best_param_df)\n",
    "\n",
    "# train_res_df.to_csv('./experiment/lda_fs_train_score.csv', index=False, header=True)\n",
    "# test_res_df.to_csv('./experiment/lda_fs_test_score.csv'.format(feature), index=False, header=True)\n",
    "# best_param_df.to_csv('./experiment/lda_fs_best_params.csv'.format(feature, index=False, header=True))\n",
    "    "
   ]
  },
  {
   "cell_type": "code",
   "execution_count": 42,
   "metadata": {},
   "outputs": [
    {
     "name": "stdout",
     "output_type": "stream",
     "text": [
      "          model                                             params\n",
      "1   GBDT-DKT&SP  {'max_depth': 8, 'min_samples_leaf': 2, 'n_est...\n",
      "1  GBDT-DKT+&SP  {'max_depth': 3, 'min_samples_leaf': 5, 'n_est...\n",
      "2    LDA-DKT&SP                             {'n_components': None}\n",
      "2   LDA-DKT+&SP                             {'n_components': None}\n",
      "0     LR-DKT&SP                      {'C': 100.0, 'penalty': 'l1'}\n",
      "0    LR-DKT+&SP                      {'C': 100.0, 'penalty': 'l1'}\n"
     ]
    }
   ],
   "source": [
    "print(best_param_df)"
   ]
  }
 ],
 "metadata": {
  "kernelspec": {
   "display_name": "Python 3",
   "language": "python",
   "name": "python3"
  },
  "language_info": {
   "codemirror_mode": {
    "name": "ipython",
    "version": 3
   },
   "file_extension": ".py",
   "mimetype": "text/x-python",
   "name": "python",
   "nbconvert_exporter": "python",
   "pygments_lexer": "ipython3",
   "version": "3.6.5"
  }
 },
 "nbformat": 4,
 "nbformat_minor": 2
}
