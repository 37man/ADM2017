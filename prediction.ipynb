{
 "cells": [
  {
   "cell_type": "code",
   "execution_count": 1,
   "metadata": {
    "collapsed": true
   },
   "outputs": [],
   "source": [
    "import pandas as pd\n",
    "import numpy as np\n",
    "from sklearn.model_selection import train_test_split\n",
    "import csv\n",
    "import os\n",
    "import sys"
   ]
  },
  {
   "cell_type": "code",
   "execution_count": 2,
   "metadata": {},
   "outputs": [
    {
     "name": "stderr",
     "output_type": "stream",
     "text": [
      "C:\\Users\\YEUNG\\Anaconda3\\envs\\dlenv\\lib\\site-packages\\IPython\\core\\interactiveshell.py:2698: DtypeWarning: Columns (74,75) have mixed types. Specify dtype option on import or set low_memory=False.\n",
      "  interactivity=interactivity, compiler=compiler, result=result)\n"
     ]
    }
   ],
   "source": [
    "data_dir = './data'\n",
    "\n",
    "student_log_paths = [os.path.join(data_dir, f) for f in os.listdir(data_dir) if f.startswith('student_log')]\n",
    "training_label_path = os.path.join(data_dir, 'training_label.csv')\n",
    "validation_test_label = os.path.join(data_dir, 'validation_test_label.csv')\n",
    "\n",
    "dfs = []\n",
    "for path in student_log_paths:\n",
    "    temp = pd.read_csv(path)\n",
    "    dfs.append(temp)\n",
    "student_df = pd.concat(dfs)\n",
    "\n",
    "training_label_df = pd.read_csv(training_label_path)\n",
    "validation_test_label_df = pd.read_csv(validation_test_label)"
   ]
  },
  {
   "cell_type": "code",
   "execution_count": 3,
   "metadata": {},
   "outputs": [
    {
     "name": "stdout",
     "output_type": "stream",
     "text": [
      "student_df.shape: (942816, 77)\n",
      "training_label_df.shape: (514, 5)\n",
      "validation_test_label_df.shape: (172, 4)\n"
     ]
    }
   ],
   "source": [
    "print(\"student_df.shape:\", student_df.shape) \n",
    "print(\"training_label_df.shape:\", training_label_df.shape)\n",
    "print(\"validation_test_label_df.shape:\", validation_test_label_df.shape)"
   ]
  },
  {
   "cell_type": "code",
   "execution_count": 4,
   "metadata": {},
   "outputs": [
    {
     "data": {
      "text/plain": [
       "48"
      ]
     },
     "execution_count": 4,
     "metadata": {},
     "output_type": "execute_result"
    }
   ],
   "source": [
    "len(set(training_label_df.ITEST_id).intersection(set(validation_test_label_df.ITEST_id)))"
   ]
  },
  {
   "cell_type": "code",
   "execution_count": 5,
   "metadata": {},
   "outputs": [
    {
     "data": {
      "text/html": [
       "<div>\n",
       "<style>\n",
       "    .dataframe thead tr:only-child th {\n",
       "        text-align: right;\n",
       "    }\n",
       "\n",
       "    .dataframe thead th {\n",
       "        text-align: left;\n",
       "    }\n",
       "\n",
       "    .dataframe tbody tr th {\n",
       "        vertical-align: top;\n",
       "    }\n",
       "</style>\n",
       "<table border=\"1\" class=\"dataframe\">\n",
       "  <thead>\n",
       "    <tr style=\"text-align: right;\">\n",
       "      <th></th>\n",
       "      <th>AveCarelessness</th>\n",
       "      <th>AveCorrect</th>\n",
       "      <th>AveKnow</th>\n",
       "      <th>AveResBored</th>\n",
       "      <th>AveResConf</th>\n",
       "      <th>AveResEngcon</th>\n",
       "      <th>AveResFrust</th>\n",
       "      <th>AveResGaming</th>\n",
       "      <th>AveResOfftask</th>\n",
       "      <th>ITEST_id</th>\n",
       "      <th>...</th>\n",
       "      <th>timeOver80</th>\n",
       "      <th>timeSinceSkill</th>\n",
       "      <th>timeTaken</th>\n",
       "      <th>totalFrAttempted</th>\n",
       "      <th>totalFrPastWrongCount</th>\n",
       "      <th>totalFrPercentPastWrong</th>\n",
       "      <th>totalFrSkillOpportunities</th>\n",
       "      <th>totalFrSkillOpportunitiesByScaffolding</th>\n",
       "      <th>totalFrTimeOnSkill</th>\n",
       "      <th>totalTimeByPercentCorrectForskill</th>\n",
       "    </tr>\n",
       "  </thead>\n",
       "  <tbody>\n",
       "    <tr>\n",
       "      <th>0</th>\n",
       "      <td>0.183276</td>\n",
       "      <td>0.483902</td>\n",
       "      <td>0.352416</td>\n",
       "      <td>0.208389</td>\n",
       "      <td>0.115905</td>\n",
       "      <td>0.679126</td>\n",
       "      <td>0.112408</td>\n",
       "      <td>0.196561</td>\n",
       "      <td>0.156503</td>\n",
       "      <td>8</td>\n",
       "      <td>...</td>\n",
       "      <td>0</td>\n",
       "      <td>0.0</td>\n",
       "      <td>49.0</td>\n",
       "      <td>0</td>\n",
       "      <td>0</td>\n",
       "      <td>0.0</td>\n",
       "      <td>0</td>\n",
       "      <td>0.0</td>\n",
       "      <td>0.0</td>\n",
       "      <td>0.000000</td>\n",
       "    </tr>\n",
       "    <tr>\n",
       "      <th>1</th>\n",
       "      <td>0.183276</td>\n",
       "      <td>0.483902</td>\n",
       "      <td>0.352416</td>\n",
       "      <td>0.208389</td>\n",
       "      <td>0.115905</td>\n",
       "      <td>0.679126</td>\n",
       "      <td>0.112408</td>\n",
       "      <td>0.196561</td>\n",
       "      <td>0.156503</td>\n",
       "      <td>8</td>\n",
       "      <td>...</td>\n",
       "      <td>0</td>\n",
       "      <td>0.0</td>\n",
       "      <td>4.0</td>\n",
       "      <td>1</td>\n",
       "      <td>0</td>\n",
       "      <td>0.0</td>\n",
       "      <td>1</td>\n",
       "      <td>0.0</td>\n",
       "      <td>49.0</td>\n",
       "      <td>106.000000</td>\n",
       "    </tr>\n",
       "    <tr>\n",
       "      <th>2</th>\n",
       "      <td>0.183276</td>\n",
       "      <td>0.483902</td>\n",
       "      <td>0.352416</td>\n",
       "      <td>0.208389</td>\n",
       "      <td>0.115905</td>\n",
       "      <td>0.679126</td>\n",
       "      <td>0.112408</td>\n",
       "      <td>0.196561</td>\n",
       "      <td>0.156503</td>\n",
       "      <td>8</td>\n",
       "      <td>...</td>\n",
       "      <td>0</td>\n",
       "      <td>0.0</td>\n",
       "      <td>6.0</td>\n",
       "      <td>2</td>\n",
       "      <td>0</td>\n",
       "      <td>0.0</td>\n",
       "      <td>0</td>\n",
       "      <td>0.0</td>\n",
       "      <td>0.0</td>\n",
       "      <td>0.000000</td>\n",
       "    </tr>\n",
       "    <tr>\n",
       "      <th>3</th>\n",
       "      <td>0.183276</td>\n",
       "      <td>0.483902</td>\n",
       "      <td>0.352416</td>\n",
       "      <td>0.208389</td>\n",
       "      <td>0.115905</td>\n",
       "      <td>0.679126</td>\n",
       "      <td>0.112408</td>\n",
       "      <td>0.196561</td>\n",
       "      <td>0.156503</td>\n",
       "      <td>8</td>\n",
       "      <td>...</td>\n",
       "      <td>0</td>\n",
       "      <td>0.0</td>\n",
       "      <td>18.0</td>\n",
       "      <td>3</td>\n",
       "      <td>1</td>\n",
       "      <td>0.0</td>\n",
       "      <td>1</td>\n",
       "      <td>0.0</td>\n",
       "      <td>0.0</td>\n",
       "      <td>0.000000</td>\n",
       "    </tr>\n",
       "    <tr>\n",
       "      <th>4</th>\n",
       "      <td>0.183276</td>\n",
       "      <td>0.483902</td>\n",
       "      <td>0.352416</td>\n",
       "      <td>0.208389</td>\n",
       "      <td>0.115905</td>\n",
       "      <td>0.679126</td>\n",
       "      <td>0.112408</td>\n",
       "      <td>0.196561</td>\n",
       "      <td>0.156503</td>\n",
       "      <td>8</td>\n",
       "      <td>...</td>\n",
       "      <td>0</td>\n",
       "      <td>0.0</td>\n",
       "      <td>2.0</td>\n",
       "      <td>3</td>\n",
       "      <td>1</td>\n",
       "      <td>1.0</td>\n",
       "      <td>1</td>\n",
       "      <td>1.0</td>\n",
       "      <td>6.0</td>\n",
       "      <td>77.999999</td>\n",
       "    </tr>\n",
       "  </tbody>\n",
       "</table>\n",
       "<p>5 rows × 77 columns</p>\n",
       "</div>"
      ],
      "text/plain": [
       "   AveCarelessness  AveCorrect   AveKnow  AveResBored  AveResConf  \\\n",
       "0         0.183276    0.483902  0.352416     0.208389    0.115905   \n",
       "1         0.183276    0.483902  0.352416     0.208389    0.115905   \n",
       "2         0.183276    0.483902  0.352416     0.208389    0.115905   \n",
       "3         0.183276    0.483902  0.352416     0.208389    0.115905   \n",
       "4         0.183276    0.483902  0.352416     0.208389    0.115905   \n",
       "\n",
       "   AveResEngcon  AveResFrust  AveResGaming  AveResOfftask  ITEST_id  \\\n",
       "0      0.679126     0.112408      0.196561       0.156503         8   \n",
       "1      0.679126     0.112408      0.196561       0.156503         8   \n",
       "2      0.679126     0.112408      0.196561       0.156503         8   \n",
       "3      0.679126     0.112408      0.196561       0.156503         8   \n",
       "4      0.679126     0.112408      0.196561       0.156503         8   \n",
       "\n",
       "                 ...                 timeOver80 timeSinceSkill  timeTaken  \\\n",
       "0                ...                          0            0.0       49.0   \n",
       "1                ...                          0            0.0        4.0   \n",
       "2                ...                          0            0.0        6.0   \n",
       "3                ...                          0            0.0       18.0   \n",
       "4                ...                          0            0.0        2.0   \n",
       "\n",
       "   totalFrAttempted  totalFrPastWrongCount  totalFrPercentPastWrong  \\\n",
       "0                 0                      0                      0.0   \n",
       "1                 1                      0                      0.0   \n",
       "2                 2                      0                      0.0   \n",
       "3                 3                      1                      0.0   \n",
       "4                 3                      1                      1.0   \n",
       "\n",
       "   totalFrSkillOpportunities  totalFrSkillOpportunitiesByScaffolding  \\\n",
       "0                          0                                     0.0   \n",
       "1                          1                                     0.0   \n",
       "2                          0                                     0.0   \n",
       "3                          1                                     0.0   \n",
       "4                          1                                     1.0   \n",
       "\n",
       "   totalFrTimeOnSkill  totalTimeByPercentCorrectForskill  \n",
       "0                 0.0                           0.000000  \n",
       "1                49.0                         106.000000  \n",
       "2                 0.0                           0.000000  \n",
       "3                 0.0                           0.000000  \n",
       "4                 6.0                          77.999999  \n",
       "\n",
       "[5 rows x 77 columns]"
      ]
     },
     "execution_count": 5,
     "metadata": {},
     "output_type": "execute_result"
    }
   ],
   "source": [
    "student_df.head()"
   ]
  },
  {
   "cell_type": "code",
   "execution_count": 6,
   "metadata": {},
   "outputs": [
    {
     "data": {
      "text/plain": [
       "Index(['AveCarelessness', 'AveCorrect', 'AveKnow', 'AveResBored', 'AveResConf',\n",
       "       'AveResEngcon', 'AveResFrust', 'AveResGaming', 'AveResOfftask',\n",
       "       'ITEST_id', 'Ln', 'Ln-1', 'NumActions', 'Prev5count', 'RES_BORED',\n",
       "       'RES_CONCENTRATING', 'RES_CONFUSED', 'RES_FRUSTRATED', 'RES_GAMING',\n",
       "       'RES_OFFTASK', 'SY ASSISTments Usage', 'actionId', 'assignmentId',\n",
       "       'assistmentId', 'attemptCount', 'bottomHint', 'confidence(BORED)',\n",
       "       'confidence(CONCENTRATING)', 'confidence(CONFUSED)',\n",
       "       'confidence(FRUSTRATED)', 'confidence(GAMING)', 'confidence(OFF TASK)',\n",
       "       'consecutiveErrorsInRow', 'correct', 'endTime',\n",
       "       'endsWithAutoScaffolding', 'endsWithScaffolding', 'frIsHelpRequest',\n",
       "       'frIsHelpRequestScaffolding', 'frPast5HelpRequest', 'frPast5WrongCount',\n",
       "       'frPast8HelpRequest', 'frPast8WrongCount', 'frTimeTakenOnScaffolding',\n",
       "       'frTotalSkillOpportunitiesScaffolding', 'frWorkingInSchool',\n",
       "       'helpAccessUnder2Sec', 'hint', 'hintCount', 'hintTotal', 'manywrong',\n",
       "       'original', 'past8BottomOut', 'prev5count', 'problemId', 'problemType',\n",
       "       'responseIsChosen', 'responseIsFillIn', 'scaffold', 'skill',\n",
       "       'startTime', 'stlHintUsed', 'sumRight', 'sumTime3SDWhen3RowRight',\n",
       "       'sumTimePerSkill', 'timeGreater10SecAndNextActionRight',\n",
       "       'timeGreater5Secprev2wrong', 'timeOver80', 'timeSinceSkill',\n",
       "       'timeTaken', 'totalFrAttempted', 'totalFrPastWrongCount',\n",
       "       'totalFrPercentPastWrong', 'totalFrSkillOpportunities',\n",
       "       'totalFrSkillOpportunitiesByScaffolding', 'totalFrTimeOnSkill',\n",
       "       'totalTimeByPercentCorrectForskill'],\n",
       "      dtype='object')"
      ]
     },
     "execution_count": 6,
     "metadata": {},
     "output_type": "execute_result"
    }
   ],
   "source": [
    "student_df.columns"
   ]
  },
  {
   "cell_type": "code",
   "execution_count": 7,
   "metadata": {},
   "outputs": [
    {
     "data": {
      "text/plain": [
       "1709"
      ]
     },
     "execution_count": 7,
     "metadata": {},
     "output_type": "execute_result"
    }
   ],
   "source": [
    "len(student_df.ITEST_id.unique())"
   ]
  },
  {
   "cell_type": "code",
   "execution_count": 8,
   "metadata": {
    "collapsed": true
   },
   "outputs": [],
   "source": [
    "skill = student_df.skill.unique()\n",
    "skill_id = range(len(skill))\n",
    "skill_id_map = dict(zip(skill, skill_id))"
   ]
  },
  {
   "cell_type": "code",
   "execution_count": 9,
   "metadata": {},
   "outputs": [
    {
     "data": {
      "text/plain": [
       "102"
      ]
     },
     "execution_count": 9,
     "metadata": {},
     "output_type": "execute_result"
    }
   ],
   "source": [
    "len(skill)"
   ]
  },
  {
   "cell_type": "code",
   "execution_count": 10,
   "metadata": {},
   "outputs": [
    {
     "name": "stderr",
     "output_type": "stream",
     "text": [
      "C:\\Users\\YEUNG\\Anaconda3\\envs\\dlenv\\lib\\site-packages\\ipykernel_launcher.py:2: SettingWithCopyWarning: \n",
      "A value is trying to be set on a copy of a slice from a DataFrame.\n",
      "Try using .loc[row_indexer,col_indexer] = value instead\n",
      "\n",
      "See the caveats in the documentation: http://pandas.pydata.org/pandas-docs/stable/indexing.html#indexing-view-versus-copy\n",
      "  \n",
      "C:\\Users\\YEUNG\\Anaconda3\\envs\\dlenv\\lib\\site-packages\\ipykernel_launcher.py:3: SettingWithCopyWarning: \n",
      "A value is trying to be set on a copy of a slice from a DataFrame.\n",
      "Try using .loc[row_indexer,col_indexer] = value instead\n",
      "\n",
      "See the caveats in the documentation: http://pandas.pydata.org/pandas-docs/stable/indexing.html#indexing-view-versus-copy\n",
      "  This is separate from the ipykernel package so we can avoid doing imports until\n",
      "C:\\Users\\YEUNG\\Anaconda3\\envs\\dlenv\\lib\\site-packages\\ipykernel_launcher.py:4: SettingWithCopyWarning: \n",
      "A value is trying to be set on a copy of a slice from a DataFrame.\n",
      "Try using .loc[row_indexer,col_indexer] = value instead\n",
      "\n",
      "See the caveats in the documentation: http://pandas.pydata.org/pandas-docs/stable/indexing.html#indexing-view-versus-copy\n",
      "  after removing the cwd from sys.path.\n"
     ]
    },
    {
     "data": {
      "text/html": [
       "<div>\n",
       "<style>\n",
       "    .dataframe thead tr:only-child th {\n",
       "        text-align: right;\n",
       "    }\n",
       "\n",
       "    .dataframe thead th {\n",
       "        text-align: left;\n",
       "    }\n",
       "\n",
       "    .dataframe tbody tr th {\n",
       "        vertical-align: top;\n",
       "    }\n",
       "</style>\n",
       "<table border=\"1\" class=\"dataframe\">\n",
       "  <thead>\n",
       "    <tr style=\"text-align: right;\">\n",
       "      <th></th>\n",
       "      <th>ITEST_id</th>\n",
       "      <th>correct</th>\n",
       "      <th>skill</th>\n",
       "      <th>actionId</th>\n",
       "      <th>skill_id</th>\n",
       "      <th>user_id</th>\n",
       "      <th>time_idx</th>\n",
       "    </tr>\n",
       "  </thead>\n",
       "  <tbody>\n",
       "    <tr>\n",
       "      <th>0</th>\n",
       "      <td>8</td>\n",
       "      <td>0</td>\n",
       "      <td>properties-of-geometric-figures</td>\n",
       "      <td>9950</td>\n",
       "      <td>0</td>\n",
       "      <td>8</td>\n",
       "      <td>9950</td>\n",
       "    </tr>\n",
       "    <tr>\n",
       "      <th>1</th>\n",
       "      <td>8</td>\n",
       "      <td>1</td>\n",
       "      <td>properties-of-geometric-figures</td>\n",
       "      <td>9951</td>\n",
       "      <td>0</td>\n",
       "      <td>8</td>\n",
       "      <td>9951</td>\n",
       "    </tr>\n",
       "    <tr>\n",
       "      <th>2</th>\n",
       "      <td>8</td>\n",
       "      <td>0</td>\n",
       "      <td>sum-of-interior-angles-more-than-3-sides</td>\n",
       "      <td>9952</td>\n",
       "      <td>1</td>\n",
       "      <td>8</td>\n",
       "      <td>9952</td>\n",
       "    </tr>\n",
       "    <tr>\n",
       "      <th>3</th>\n",
       "      <td>8</td>\n",
       "      <td>0</td>\n",
       "      <td>sum-of-interior-angles-more-than-3-sides</td>\n",
       "      <td>9953</td>\n",
       "      <td>1</td>\n",
       "      <td>8</td>\n",
       "      <td>9953</td>\n",
       "    </tr>\n",
       "    <tr>\n",
       "      <th>4</th>\n",
       "      <td>8</td>\n",
       "      <td>1</td>\n",
       "      <td>sum-of-interior-angles-more-than-3-sides</td>\n",
       "      <td>9954</td>\n",
       "      <td>1</td>\n",
       "      <td>8</td>\n",
       "      <td>9954</td>\n",
       "    </tr>\n",
       "  </tbody>\n",
       "</table>\n",
       "</div>"
      ],
      "text/plain": [
       "   ITEST_id  correct                                     skill  actionId  \\\n",
       "0         8        0           properties-of-geometric-figures      9950   \n",
       "1         8        1           properties-of-geometric-figures      9951   \n",
       "2         8        0  sum-of-interior-angles-more-than-3-sides      9952   \n",
       "3         8        0  sum-of-interior-angles-more-than-3-sides      9953   \n",
       "4         8        1  sum-of-interior-angles-more-than-3-sides      9954   \n",
       "\n",
       "   skill_id  user_id  time_idx  \n",
       "0         0        8      9950  \n",
       "1         0        8      9951  \n",
       "2         1        8      9952  \n",
       "3         1        8      9953  \n",
       "4         1        8      9954  "
      ]
     },
     "execution_count": 10,
     "metadata": {},
     "output_type": "execute_result"
    }
   ],
   "source": [
    "dkt_df = student_df[['ITEST_id', 'correct', 'skill', 'actionId']]\n",
    "dkt_df['skill_id'] = dkt_df['skill'].apply(lambda x: skill_id_map[x])\n",
    "dkt_df['user_id'] = dkt_df['ITEST_id']\n",
    "dkt_df['time_idx'] = dkt_df['actionId']\n",
    "sorted_data = dkt_df.sort_values('time_idx')\n",
    "sorted_data.head()"
   ]
  },
  {
   "cell_type": "markdown",
   "metadata": {},
   "source": [
    "# Prepare data to train DKT model (already done)"
   ]
  },
  {
   "cell_type": "code",
   "execution_count": 11,
   "metadata": {
    "collapsed": true
   },
   "outputs": [],
   "source": [
    "REQUIRE_COLS = ['time_idx', 'user_id', 'skill_id', 'correct']\n",
    "user_ids = dkt_df.user_id.unique()\n",
    "tuples = []\n",
    "for id in user_ids:\n",
    "    df = sorted_data[sorted_data.user_id == id]\n",
    "    df = df[REQUIRE_COLS]\n",
    "    problems = [int(pid) for pid in df.skill_id]\n",
    "    corrects = [int(corr) for corr in df.correct]\n",
    "    num_problems = len(problems)\n",
    "#     print (num_problems)\n",
    "#     print (problems)\n",
    "#     print (corrects)\n",
    "#     print (\"============\")\n",
    "    result = (num_problems, problems, corrects)\n",
    "    tuples.append(result)"
   ]
  },
  {
   "cell_type": "code",
   "execution_count": 12,
   "metadata": {
    "collapsed": true
   },
   "outputs": [],
   "source": [
    "train, test = train_test_split(tuples, test_size=0.2)"
   ]
  },
  {
   "cell_type": "code",
   "execution_count": 13,
   "metadata": {
    "collapsed": true
   },
   "outputs": [],
   "source": [
    "if False:\n",
    "    with open('./data/assistment_challenge/assistment_challenge_train.csv', 'w') as f:\n",
    "        writer = csv.writer(f, \n",
    "                            delimiter=',', \n",
    "                            quotechar=\"'\", \n",
    "                            quoting=csv.QUOTE_MINIMAL,\n",
    "                            lineterminator='\\n')\n",
    "        for tup in train:\n",
    "            writer.writerow([tup[0]])\n",
    "            writer.writerow(tup[1])\n",
    "            writer.writerow([int(i) for i in tup[2]])\n",
    "            \n",
    "    with open('./data/assistment_challenge/assistment_challenge_test.csv', 'w') as f:\n",
    "        writer = csv.writer(f, \n",
    "                            delimiter=',', \n",
    "                            quotechar=\"'\", \n",
    "                            quoting=csv.QUOTE_MINIMAL,\n",
    "                            lineterminator='\\n')\n",
    "        for tup in test:\n",
    "            writer.writerow([tup[0]])\n",
    "            writer.writerow(tup[1])\n",
    "            writer.writerow([int(i) for i in tup[2]])"
   ]
  },
  {
   "cell_type": "code",
   "execution_count": 14,
   "metadata": {
    "collapsed": true
   },
   "outputs": [],
   "source": [
    "student_specific_columns = [\"AveKnow\",\n",
    "                            \"AveCarelessness\",\n",
    "                            \"AveCorrect\",\n",
    "                            \"NumActions\",\n",
    "                            \"AveResBored\",\n",
    "                            \"AveResEngcon\",\n",
    "                            \"AveResConf\",\n",
    "                            \"AveResFrust\",\n",
    "                            \"AveResOfftask\",\n",
    "                            \"AveResGaming\"]"
   ]
  },
  {
   "cell_type": "code",
   "execution_count": 15,
   "metadata": {
    "collapsed": true
   },
   "outputs": [],
   "source": [
    "required_cols = ['ITEST_id'] + student_specific_columns\n",
    "student_specific_df = student_df[required_cols].drop_duplicates()"
   ]
  },
  {
   "cell_type": "code",
   "execution_count": 16,
   "metadata": {},
   "outputs": [
    {
     "data": {
      "text/html": [
       "<div>\n",
       "<style>\n",
       "    .dataframe thead tr:only-child th {\n",
       "        text-align: right;\n",
       "    }\n",
       "\n",
       "    .dataframe thead th {\n",
       "        text-align: left;\n",
       "    }\n",
       "\n",
       "    .dataframe tbody tr th {\n",
       "        vertical-align: top;\n",
       "    }\n",
       "</style>\n",
       "<table border=\"1\" class=\"dataframe\">\n",
       "  <thead>\n",
       "    <tr style=\"text-align: right;\">\n",
       "      <th></th>\n",
       "      <th>ITEST_id</th>\n",
       "      <th>AveKnow</th>\n",
       "      <th>AveCarelessness</th>\n",
       "      <th>AveCorrect</th>\n",
       "      <th>NumActions</th>\n",
       "      <th>AveResBored</th>\n",
       "      <th>AveResEngcon</th>\n",
       "      <th>AveResConf</th>\n",
       "      <th>AveResFrust</th>\n",
       "      <th>AveResOfftask</th>\n",
       "      <th>AveResGaming</th>\n",
       "    </tr>\n",
       "  </thead>\n",
       "  <tbody>\n",
       "    <tr>\n",
       "      <th>0</th>\n",
       "      <td>8</td>\n",
       "      <td>0.352416</td>\n",
       "      <td>0.183276</td>\n",
       "      <td>0.483902</td>\n",
       "      <td>1056</td>\n",
       "      <td>0.208389</td>\n",
       "      <td>0.679126</td>\n",
       "      <td>0.115905</td>\n",
       "      <td>0.112408</td>\n",
       "      <td>0.156503</td>\n",
       "      <td>0.196561</td>\n",
       "    </tr>\n",
       "    <tr>\n",
       "      <th>1056</th>\n",
       "      <td>35</td>\n",
       "      <td>0.255164</td>\n",
       "      <td>0.158848</td>\n",
       "      <td>0.379658</td>\n",
       "      <td>993</td>\n",
       "      <td>0.222796</td>\n",
       "      <td>0.650079</td>\n",
       "      <td>0.069987</td>\n",
       "      <td>0.164347</td>\n",
       "      <td>0.153147</td>\n",
       "      <td>0.236800</td>\n",
       "    </tr>\n",
       "    <tr>\n",
       "      <th>2049</th>\n",
       "      <td>39</td>\n",
       "      <td>0.281693</td>\n",
       "      <td>0.152227</td>\n",
       "      <td>0.454545</td>\n",
       "      <td>418</td>\n",
       "      <td>0.274700</td>\n",
       "      <td>0.628075</td>\n",
       "      <td>0.116390</td>\n",
       "      <td>0.143827</td>\n",
       "      <td>0.221926</td>\n",
       "      <td>0.019817</td>\n",
       "    </tr>\n",
       "    <tr>\n",
       "      <th>2467</th>\n",
       "      <td>64</td>\n",
       "      <td>0.157938</td>\n",
       "      <td>0.098357</td>\n",
       "      <td>0.334038</td>\n",
       "      <td>1419</td>\n",
       "      <td>0.198394</td>\n",
       "      <td>0.670062</td>\n",
       "      <td>0.085895</td>\n",
       "      <td>0.132328</td>\n",
       "      <td>0.115773</td>\n",
       "      <td>0.303426</td>\n",
       "    </tr>\n",
       "    <tr>\n",
       "      <th>3886</th>\n",
       "      <td>77</td>\n",
       "      <td>0.191948</td>\n",
       "      <td>0.094195</td>\n",
       "      <td>0.413249</td>\n",
       "      <td>317</td>\n",
       "      <td>0.261455</td>\n",
       "      <td>0.638636</td>\n",
       "      <td>0.063971</td>\n",
       "      <td>0.129858</td>\n",
       "      <td>0.234331</td>\n",
       "      <td>0.045096</td>\n",
       "    </tr>\n",
       "  </tbody>\n",
       "</table>\n",
       "</div>"
      ],
      "text/plain": [
       "      ITEST_id   AveKnow  AveCarelessness  AveCorrect  NumActions  \\\n",
       "0            8  0.352416         0.183276    0.483902        1056   \n",
       "1056        35  0.255164         0.158848    0.379658         993   \n",
       "2049        39  0.281693         0.152227    0.454545         418   \n",
       "2467        64  0.157938         0.098357    0.334038        1419   \n",
       "3886        77  0.191948         0.094195    0.413249         317   \n",
       "\n",
       "      AveResBored  AveResEngcon  AveResConf  AveResFrust  AveResOfftask  \\\n",
       "0        0.208389      0.679126    0.115905     0.112408       0.156503   \n",
       "1056     0.222796      0.650079    0.069987     0.164347       0.153147   \n",
       "2049     0.274700      0.628075    0.116390     0.143827       0.221926   \n",
       "2467     0.198394      0.670062    0.085895     0.132328       0.115773   \n",
       "3886     0.261455      0.638636    0.063971     0.129858       0.234331   \n",
       "\n",
       "      AveResGaming  \n",
       "0         0.196561  \n",
       "1056      0.236800  \n",
       "2049      0.019817  \n",
       "2467      0.303426  \n",
       "3886      0.045096  "
      ]
     },
     "execution_count": 16,
     "metadata": {},
     "output_type": "execute_result"
    }
   ],
   "source": [
    "student_specific_df.head()"
   ]
  },
  {
   "cell_type": "code",
   "execution_count": 17,
   "metadata": {},
   "outputs": [
    {
     "data": {
      "text/html": [
       "<div>\n",
       "<style>\n",
       "    .dataframe thead tr:only-child th {\n",
       "        text-align: right;\n",
       "    }\n",
       "\n",
       "    .dataframe thead th {\n",
       "        text-align: left;\n",
       "    }\n",
       "\n",
       "    .dataframe tbody tr th {\n",
       "        vertical-align: top;\n",
       "    }\n",
       "</style>\n",
       "<table border=\"1\" class=\"dataframe\">\n",
       "  <thead>\n",
       "    <tr style=\"text-align: right;\">\n",
       "      <th></th>\n",
       "      <th>ITEST_id</th>\n",
       "      <th>SchoolId</th>\n",
       "      <th>AveCorrect</th>\n",
       "      <th>MCAS</th>\n",
       "      <th>isSTEM</th>\n",
       "    </tr>\n",
       "  </thead>\n",
       "  <tbody>\n",
       "    <tr>\n",
       "      <th>0</th>\n",
       "      <td>9</td>\n",
       "      <td>2</td>\n",
       "      <td>0.438492</td>\n",
       "      <td>32</td>\n",
       "      <td>1</td>\n",
       "    </tr>\n",
       "    <tr>\n",
       "      <th>1</th>\n",
       "      <td>27</td>\n",
       "      <td>1</td>\n",
       "      <td>0.348837</td>\n",
       "      <td>21</td>\n",
       "      <td>0</td>\n",
       "    </tr>\n",
       "    <tr>\n",
       "      <th>2</th>\n",
       "      <td>33</td>\n",
       "      <td>2</td>\n",
       "      <td>0.686391</td>\n",
       "      <td>52</td>\n",
       "      <td>0</td>\n",
       "    </tr>\n",
       "    <tr>\n",
       "      <th>3</th>\n",
       "      <td>35</td>\n",
       "      <td>2</td>\n",
       "      <td>0.379658</td>\n",
       "      <td>34</td>\n",
       "      <td>0</td>\n",
       "    </tr>\n",
       "    <tr>\n",
       "      <th>4</th>\n",
       "      <td>37</td>\n",
       "      <td>3</td>\n",
       "      <td>0.305785</td>\n",
       "      <td>-999</td>\n",
       "      <td>0</td>\n",
       "    </tr>\n",
       "  </tbody>\n",
       "</table>\n",
       "</div>"
      ],
      "text/plain": [
       "   ITEST_id  SchoolId  AveCorrect  MCAS  isSTEM\n",
       "0         9         2    0.438492    32       1\n",
       "1        27         1    0.348837    21       0\n",
       "2        33         2    0.686391    52       0\n",
       "3        35         2    0.379658    34       0\n",
       "4        37         3    0.305785  -999       0"
      ]
     },
     "execution_count": 17,
     "metadata": {},
     "output_type": "execute_result"
    }
   ],
   "source": [
    "training_label_df.head()"
   ]
  },
  {
   "cell_type": "code",
   "execution_count": 18,
   "metadata": {
    "collapsed": true
   },
   "outputs": [],
   "source": [
    "# combined_df = pd.merge(left=training_label_df, right=student_specific_df, how='left', left_on='ITEST_id', right_on='ITEST_id')\n",
    "combined_df_train = training_label_df.merge(student_specific_df, left_on='ITEST_id', right_on='ITEST_id', how='left')\n",
    "combined_df_train['AveCorrect'] = combined_df_train['AveCorrect_x']\n",
    "del combined_df_train['AveCorrect_x']\n",
    "del combined_df_train['AveCorrect_y']\n",
    "X = combined_df_train[student_specific_columns].values\n",
    "y = combined_df_train['isSTEM'].values"
   ]
  },
  {
   "cell_type": "code",
   "execution_count": 19,
   "metadata": {
    "collapsed": true
   },
   "outputs": [],
   "source": [
    "combined_df_test = pd.merge(left=validation_test_label_df, right=student_specific_df, how='left')\n",
    "X_target = combined_df_test[student_specific_columns].values"
   ]
  },
  {
   "cell_type": "code",
   "execution_count": 20,
   "metadata": {},
   "outputs": [
    {
     "data": {
      "text/plain": [
       "(514, 10)"
      ]
     },
     "execution_count": 20,
     "metadata": {},
     "output_type": "execute_result"
    }
   ],
   "source": [
    "X.shape"
   ]
  },
  {
   "cell_type": "code",
   "execution_count": 21,
   "metadata": {},
   "outputs": [
    {
     "data": {
      "text/html": [
       "<div>\n",
       "<style>\n",
       "    .dataframe thead tr:only-child th {\n",
       "        text-align: right;\n",
       "    }\n",
       "\n",
       "    .dataframe thead th {\n",
       "        text-align: left;\n",
       "    }\n",
       "\n",
       "    .dataframe tbody tr th {\n",
       "        vertical-align: top;\n",
       "    }\n",
       "</style>\n",
       "<table border=\"1\" class=\"dataframe\">\n",
       "  <thead>\n",
       "    <tr style=\"text-align: right;\">\n",
       "      <th></th>\n",
       "      <th>ITEST_id</th>\n",
       "      <th>SchoolId</th>\n",
       "      <th>MCAS</th>\n",
       "      <th>isSTEM</th>\n",
       "      <th>AveKnow</th>\n",
       "      <th>AveCarelessness</th>\n",
       "      <th>NumActions</th>\n",
       "      <th>AveResBored</th>\n",
       "      <th>AveResEngcon</th>\n",
       "      <th>AveResConf</th>\n",
       "      <th>AveResFrust</th>\n",
       "      <th>AveResOfftask</th>\n",
       "      <th>AveResGaming</th>\n",
       "      <th>AveCorrect</th>\n",
       "    </tr>\n",
       "  </thead>\n",
       "  <tbody>\n",
       "    <tr>\n",
       "      <th>0</th>\n",
       "      <td>9</td>\n",
       "      <td>2</td>\n",
       "      <td>32</td>\n",
       "      <td>1</td>\n",
       "      <td>0.185138</td>\n",
       "      <td>0.099734</td>\n",
       "      <td>504</td>\n",
       "      <td>0.277149</td>\n",
       "      <td>0.644744</td>\n",
       "      <td>0.098078</td>\n",
       "      <td>0.162771</td>\n",
       "      <td>0.213378</td>\n",
       "      <td>0.005554</td>\n",
       "      <td>0.438492</td>\n",
       "    </tr>\n",
       "    <tr>\n",
       "      <th>1</th>\n",
       "      <td>27</td>\n",
       "      <td>1</td>\n",
       "      <td>21</td>\n",
       "      <td>0</td>\n",
       "      <td>0.142031</td>\n",
       "      <td>0.069297</td>\n",
       "      <td>129</td>\n",
       "      <td>0.330226</td>\n",
       "      <td>0.551367</td>\n",
       "      <td>0.122658</td>\n",
       "      <td>0.095420</td>\n",
       "      <td>0.348090</td>\n",
       "      <td>0.036900</td>\n",
       "      <td>0.348837</td>\n",
       "    </tr>\n",
       "    <tr>\n",
       "      <th>2</th>\n",
       "      <td>33</td>\n",
       "      <td>2</td>\n",
       "      <td>52</td>\n",
       "      <td>0</td>\n",
       "      <td>0.459813</td>\n",
       "      <td>0.202787</td>\n",
       "      <td>169</td>\n",
       "      <td>0.260426</td>\n",
       "      <td>0.650769</td>\n",
       "      <td>0.059971</td>\n",
       "      <td>0.061834</td>\n",
       "      <td>0.296286</td>\n",
       "      <td>0.010954</td>\n",
       "      <td>0.686391</td>\n",
       "    </tr>\n",
       "    <tr>\n",
       "      <th>3</th>\n",
       "      <td>35</td>\n",
       "      <td>2</td>\n",
       "      <td>34</td>\n",
       "      <td>0</td>\n",
       "      <td>0.255164</td>\n",
       "      <td>0.158848</td>\n",
       "      <td>993</td>\n",
       "      <td>0.222796</td>\n",
       "      <td>0.650079</td>\n",
       "      <td>0.069987</td>\n",
       "      <td>0.164347</td>\n",
       "      <td>0.153147</td>\n",
       "      <td>0.236800</td>\n",
       "      <td>0.379658</td>\n",
       "    </tr>\n",
       "    <tr>\n",
       "      <th>4</th>\n",
       "      <td>37</td>\n",
       "      <td>3</td>\n",
       "      <td>-999</td>\n",
       "      <td>0</td>\n",
       "      <td>0.071909</td>\n",
       "      <td>0.046183</td>\n",
       "      <td>121</td>\n",
       "      <td>0.326384</td>\n",
       "      <td>0.653445</td>\n",
       "      <td>0.125325</td>\n",
       "      <td>0.094714</td>\n",
       "      <td>0.451467</td>\n",
       "      <td>0.016241</td>\n",
       "      <td>0.305785</td>\n",
       "    </tr>\n",
       "  </tbody>\n",
       "</table>\n",
       "</div>"
      ],
      "text/plain": [
       "   ITEST_id  SchoolId  MCAS  isSTEM   AveKnow  AveCarelessness  NumActions  \\\n",
       "0         9         2    32       1  0.185138         0.099734         504   \n",
       "1        27         1    21       0  0.142031         0.069297         129   \n",
       "2        33         2    52       0  0.459813         0.202787         169   \n",
       "3        35         2    34       0  0.255164         0.158848         993   \n",
       "4        37         3  -999       0  0.071909         0.046183         121   \n",
       "\n",
       "   AveResBored  AveResEngcon  AveResConf  AveResFrust  AveResOfftask  \\\n",
       "0     0.277149      0.644744    0.098078     0.162771       0.213378   \n",
       "1     0.330226      0.551367    0.122658     0.095420       0.348090   \n",
       "2     0.260426      0.650769    0.059971     0.061834       0.296286   \n",
       "3     0.222796      0.650079    0.069987     0.164347       0.153147   \n",
       "4     0.326384      0.653445    0.125325     0.094714       0.451467   \n",
       "\n",
       "   AveResGaming  AveCorrect  \n",
       "0      0.005554    0.438492  \n",
       "1      0.036900    0.348837  \n",
       "2      0.010954    0.686391  \n",
       "3      0.236800    0.379658  \n",
       "4      0.016241    0.305785  "
      ]
     },
     "execution_count": 21,
     "metadata": {},
     "output_type": "execute_result"
    }
   ],
   "source": [
    "combined_df_train.head()"
   ]
  },
  {
   "cell_type": "markdown",
   "metadata": {},
   "source": [
    "# Import model of DKT\n",
    "If you want to change the model with different regularization parameters\n",
    "Simply change\n",
    "```python\n",
    "network_config['lambda_o']\n",
    "network_config['lambda_w1']\n",
    "network_config['lambda_w2']\n",
    "```\n",
    "to the desired value\n",
    "\n",
    "---\n",
    "To use the original DKT model without any regularization:\n",
    "```python\n",
    "network_config['lambda_o'] = 0.0\n",
    "network_config['lambda_w1'] = 0.0\n",
    "network_config['lambda_w2'] = 0.0\n",
    "```\n",
    "\n",
    "To use the original DKT model with regularization:\n",
    "```python\n",
    "network_config['lambda_o'] = 0.1\n",
    "network_config['lambda_w1'] = 0.3\n",
    "network_config['lambda_w2'] = 3.0\n",
    "```"
   ]
  },
  {
   "cell_type": "code",
   "execution_count": 22,
   "metadata": {
    "collapsed": true
   },
   "outputs": [],
   "source": [
    "import os\n",
    "import tensorflow as tf\n",
    "import numpy as np\n",
    "\n",
    "from utils import DKT\n",
    "from load_data import DKTData"
   ]
  },
  {
   "cell_type": "code",
   "execution_count": 23,
   "metadata": {
    "collapsed": true
   },
   "outputs": [],
   "source": [
    "train_path = './data/assistment_challenge/assistment_challenge_train.csv'\n",
    "test_path = './data/assistment_challenge/assistment_challenge_test.csv'\n",
    "save_dir_prefix = './dkt_models/assistment_challenge/'"
   ]
  },
  {
   "cell_type": "code",
   "execution_count": 27,
   "metadata": {},
   "outputs": [],
   "source": [
    "rnn_cells = {\n",
    "    \"LSTM\": tf.contrib.rnn.LSTMCell,\n",
    "    \"GRU\": tf.contrib.rnn.GRUCell,\n",
    "    \"BasicRNN\": tf.contrib.rnn.BasicRNNCell,\n",
    "    \"LayerNormBasicLSTM\": tf.contrib.rnn.LayerNormBasicLSTMCell,\n",
    "}\n",
    "\n",
    "# train_path = os.path.join('./data/', 'skill_id_train.csv')\n",
    "# test_path = os.path.join('./data/', 'skill_id_test.csv')\n",
    "\n",
    "network_config = {}\n",
    "network_config['batch_size'] = 32\n",
    "network_config['hidden_layer_structure'] = [200]\n",
    "network_config['learning_rate'] = 0.01\n",
    "network_config['keep_prob'] = 0.333\n",
    "network_config['rnn_cell'] = rnn_cells[\"LSTM\"]\n",
    "\n",
    "network_config['lambda_o'] = 0.0\n",
    "network_config['lambda_w1'] = 0.0\n",
    "network_config['lambda_w2'] = 0.0\n",
    "\n",
    "num_runs = 1\n",
    "num_epochs = 1\n",
    "batch_size = 32\n",
    "keep_prob = 0.333"
   ]
  },
  {
   "cell_type": "code",
   "execution_count": 28,
   "metadata": {},
   "outputs": [],
   "source": [
    "tf.reset_default_graph()"
   ]
  },
  {
   "cell_type": "code",
   "execution_count": 29,
   "metadata": {},
   "outputs": [
    {
     "name": "stdout",
     "output_type": "stream",
     "text": [
      "Reading ./data/assistment_challenge/assistment_challenge_train.csv\n",
      "4101 lines was read\n",
      "max_num_problems_answered: 3057\n",
      "num_problems: 102\n",
      "The number of students is 1366\n",
      "Finish reading data.\n",
      "Reading ./data/assistment_challenge/assistment_challenge_test.csv\n",
      "1026 lines was read\n",
      "max_num_problems_answered: 2107\n",
      "num_problems: 101\n",
      "The number of students is 342\n",
      "Finish reading data.\n",
      "ckpt_save_dir:  ./dkt_models/assistment_challenge/checkpoints\\n200.lo0.0.lw10.0.lw20.0/\n",
      "log_save_dir:  ./dkt_models/assistment_challenge/logs\\n200.lo0.0.lw10.0.lw20.0/\n",
      "Network Configuration:\n",
      "batch_size: 32\n",
      "hidden_layer_structure: [200]\n",
      "learning_rate: 0.01\n",
      "keep_prob: 0.333\n",
      "rnn_cell: <class 'tensorflow.python.ops.rnn_cell_impl.LSTMCell'>\n",
      "lambda_o: 0.0\n",
      "lambda_w1: 0.0\n",
      "lambda_w2: 0.0\n",
      "Num of problems: 102\n",
      "Num of run: 1\n",
      "Max num of run: 1\n",
      "Keep Prob: 0.333\n",
      "Creating placeholder...\n",
      "Creating Loss...\n",
      "Creating Loss...\n",
      "Create optimizer...\n",
      "INFO:tensorflow:Restoring parameters from ./dkt_models/assistment_challenge/checkpoints\\n200.lo0.0.lw10.0.lw20.0/run_0\\LSTM-200\\LSTM-200\n"
     ]
    }
   ],
   "source": [
    "sess = tf.Session()\n",
    "\n",
    "data = DKTData(train_path, test_path, batch_size=batch_size)\n",
    "data_train = data.train\n",
    "data_test = data.test\n",
    "num_problems = data.num_problems\n",
    "\n",
    "dkt = DKT(sess, data_train, data_test, num_problems, network_config,\n",
    "          num_runs=num_runs, num_epochs=num_epochs,\n",
    "          save_dir_prefix=save_dir_prefix,\n",
    "          keep_prob=keep_prob, logging=False, save=False)\n",
    "\n",
    "# load the model\n",
    "dkt.model.build_graph()\n",
    "dkt.load_model()"
   ]
  },
  {
   "cell_type": "code",
   "execution_count": null,
   "metadata": {},
   "outputs": [],
   "source": [
    "# Evaluate the model if you want.\n",
    "_evaluation = True\n",
    "if _evaluation:\n",
    "    auc_n, auc_c, entropy_loss = dkt.evaluate()\n",
    "    print('auc_n:', auc_n)\n",
    "    print('auc_c:', auc_c)\n",
    "    \n",
    "    w1, w2 = dkt.waviness()\n",
    "    print('w1:', w1)\n",
    "    print('w2:', w2)\n",
    "    \n",
    "    m1, m2 = dkt.consistency()\n",
    "    print('m1:', m1)\n",
    "    print('m2:', m2)"
   ]
  },
  {
   "cell_type": "markdown",
   "metadata": {},
   "source": [
    "# Obtain student's DKT feature"
   ]
  },
  {
   "cell_type": "code",
   "execution_count": null,
   "metadata": {},
   "outputs": [],
   "source": [
    "import os\n",
    "os.path.exists('data/students_knowledge_states.csv')"
   ]
  },
  {
   "cell_type": "code",
   "execution_count": null,
   "metadata": {
    "collapsed": true
   },
   "outputs": [],
   "source": [
    "# making the feature vector of student\n",
    "import os\n",
    "if os.path.exists('students_knowledge_states.csv'):\n",
    "    students_dk_df = pd.read_csv('students_knowledge_states.csv')\n",
    "else:\n",
    "    REQUIRE_COLS = ['time_idx', 'user_id', 'skill_id', 'correct']\n",
    "    user_ids = list(set(list(combined_df_train.ITEST_id.unique()) + list(combined_df_test.ITEST_id.unique())))\n",
    "    kt_columns_name = ['kt_{}'.format(i) for i in range(102)]\n",
    "    columns_name = kt_columns_name + ['ITEST_id']\n",
    "    knowledge_states = []\n",
    "\n",
    "    for i, id in enumerate(user_ids):\n",
    "        if i % 10 == 0:\n",
    "            print(i, id, end='\\r')\n",
    "\n",
    "        df = sorted_data[sorted_data.user_id == id]\n",
    "        df = df[REQUIRE_COLS]\n",
    "        problems = [int(pid) for pid in df.skill_id]\n",
    "        corrects = [int(corr) for corr in df.correct]\n",
    "        num_problems = len(problems)\n",
    "\n",
    "        # the student knowledge state in the last output\n",
    "        skt = dkt.get_output_layer([problems], [corrects])[0][-1]\n",
    "\n",
    "        knowledge_state = dict(zip(kt_columns_name, skt))\n",
    "        knowledge_state['ITEST_id'] = id\n",
    "        knowledge_states.append(knowledge_state)\n",
    "\n",
    "    students_dk_df = pd.DataFrame(knowledge_states)    \n",
    "    students_dk_df['ITEST_id'] = students_dk_df['ITEST_id'].apply(int)\n",
    "    \n",
    "    students_dk_df.to_csv('students_knowledge_states.csv', header='True', index=False)"
   ]
  },
  {
   "cell_type": "code",
   "execution_count": null,
   "metadata": {
    "collapsed": true
   },
   "outputs": [],
   "source": [
    "combined_df = pd.merge(left=student_specific_df, right=students_dk_df, how='left')\n",
    "train_df = training_label_df.merge(combined_df, left_on='ITEST_id', right_on='ITEST_id', how='left')\n",
    "test_df = validation_test_label_df.merge(combined_df, left_on='ITEST_id', right_on='ITEST_id', how='left')\n",
    "train_df['AveCorrect'] = train_df['AveCorrect_x']\n",
    "del train_df['AveCorrect_x']\n",
    "del train_df['AveCorrect_y']\n",
    "test_df['AveCorrect'] = test_df['AveCorrect_x']\n",
    "del test_df['AveCorrect_x']\n",
    "del test_df['AveCorrect_y']"
   ]
  },
  {
   "cell_type": "code",
   "execution_count": null,
   "metadata": {
    "collapsed": true
   },
   "outputs": [],
   "source": [
    "features_cols = list(train_df.columns.drop(['ITEST_id', 'isSTEM']))\n",
    "X_train_all = train_df[features_cols].values\n",
    "y_train_all = train_df['isSTEM'].values\n",
    "X_test_all = test_df[features_cols].values"
   ]
  },
  {
   "cell_type": "markdown",
   "metadata": {},
   "source": [
    "# Training the static machine learning model"
   ]
  },
  {
   "cell_type": "code",
   "execution_count": null,
   "metadata": {
    "collapsed": true
   },
   "outputs": [],
   "source": [
    "from sklearn.model_selection import train_test_split, StratifiedShuffleSplit, GridSearchCV\n",
    "from sklearn.ensemble import GradientBoostingClassifier\n",
    "from sklearn.linear_model import LogisticRegression\n",
    "from sklearn.svm import SVC\n",
    "from sklearn.neural_network import MLPClassifier\n",
    "from sklearn.metrics import auc, roc_curve, mean_squared_error, make_scorer"
   ]
  },
  {
   "cell_type": "code",
   "execution_count": null,
   "metadata": {
    "collapsed": true
   },
   "outputs": [],
   "source": [
    "# prepare the train data and test data\n",
    "cv = StratifiedShuffleSplit(n_splits=5, random_state=42)\n",
    "X_train, X_test, y_train, y_test = train_test_split(X_train_all, y_train_all, test_size=0.2)"
   ]
  },
  {
   "cell_type": "code",
   "execution_count": null,
   "metadata": {
    "collapsed": true
   },
   "outputs": [],
   "source": [
    "lr_param_grid = {\n",
    "    'penalty': ['l1', 'l2']\n",
    "}"
   ]
  },
  {
   "cell_type": "code",
   "execution_count": null,
   "metadata": {
    "collapsed": true
   },
   "outputs": [],
   "source": [
    "svm_param_grid = {\n",
    "    'C': [0.001, 0.003, 0.01, 0.03, 0.1, 0.3, 1.0, 3.0, 10.0, 30.0, 100.0], \n",
    "    'gamma': [0.001, 0.003, 0.01, 0.03, 0.1, 0.3, 1.0, 3.0, 10.0, 30.0, 100.0], \n",
    "    'kernel': ['rbf']\n",
    "}"
   ]
  },
  {
   "cell_type": "code",
   "execution_count": null,
   "metadata": {
    "collapsed": true
   },
   "outputs": [],
   "source": [
    "gbdt_param_grid = {\n",
    "    'n_estimators': [200, 250, 300, 350, 400, 450, 500, 550], \n",
    "    'max_depth': [2, 3, 4, 5],\n",
    "    'min_samples_leaf': [2, 3, 4, 5, 6, 7]\n",
    "}"
   ]
  },
  {
   "cell_type": "code",
   "execution_count": null,
   "metadata": {
    "collapsed": true
   },
   "outputs": [],
   "source": [
    "import itertools\n",
    "mlp_layer_search_list = list(itertools.product([16, 64, 128, 256]))\n",
    "mlp_layer_search_list += list(itertools.product([16, 64, 128, 256], [16, 64, 128, 256]))\n",
    "mlp_layer_search_list += list(itertools.product([16, 64, 128, 256], [16, 64, 128, 256], [16, 64, 128, 256]))\n",
    "mlp_param_grid = {\n",
    "    'hidden_layer_sizes': mlp_layer_search_list,\n",
    "    'early_stopping': [True]\n",
    "}"
   ]
  },
  {
   "cell_type": "code",
   "execution_count": null,
   "metadata": {
    "collapsed": true
   },
   "outputs": [],
   "source": [
    "def score_func_auc_rmse(y_true, y_pred):\n",
    "    # auc\n",
    "    fpr, tpr, thresholds = roc_curve(y_true, y_pred, pos_label=1)\n",
    "    auc_ = auc(fpr, tpr)\n",
    "    \n",
    "    # rmse\n",
    "    rmse_ = np.sqrt(mean_squared_error(y_true, y_pred))\n",
    "    \n",
    "    return auc_ + (1 - rmse_)\n",
    "\n",
    "admc_scorer = make_scorer(score_func_auc_rmse, greater_is_better=True)"
   ]
  },
  {
   "cell_type": "code",
   "execution_count": null,
   "metadata": {},
   "outputs": [],
   "source": [
    "lr_clf = GridSearchCV(estimator=LogisticRegression(),\n",
    "                  param_grid=lr_param_grid,\n",
    "                  scoring=admc_scorer,\n",
    "                  refit = True,\n",
    "                  cv=cv,\n",
    "                  verbose=1,\n",
    "                  # n_jobs=2,\n",
    "                  return_train_score=True)\n",
    "lr_clf.fit(X_train, y_train)"
   ]
  },
  {
   "cell_type": "code",
   "execution_count": null,
   "metadata": {},
   "outputs": [],
   "source": [
    "svm_clf = GridSearchCV(estimator=SVC(),\n",
    "                  param_grid=svm_param_grid,\n",
    "                  scoring=admc_scorer,\n",
    "                  refit = True,\n",
    "                  cv=cv,\n",
    "                  verbose=1,\n",
    "                  # n_jobs=2,\n",
    "                  return_train_score=True)\n",
    "svm_clf.fit(X_train, y_train)"
   ]
  },
  {
   "cell_type": "code",
   "execution_count": null,
   "metadata": {},
   "outputs": [],
   "source": [
    "gbdt_clf = GridSearchCV(estimator=GradientBoostingClassifier(),\n",
    "                  param_grid=gbdt_param_grid,\n",
    "                  scoring=admc_scorer,\n",
    "                  refit = True,\n",
    "                  cv=cv,\n",
    "                  verbose=1,\n",
    "                  # n_jobs=2,\n",
    "                  return_train_score=True)\n",
    "gbdt_clf.fit(X_train, y_train)"
   ]
  },
  {
   "cell_type": "code",
   "execution_count": null,
   "metadata": {},
   "outputs": [],
   "source": [
    "mlp_clf = GridSearchCV(estimator=MLPClassifier(),\n",
    "                  param_grid=mlp_param_grid,\n",
    "                  scoring=admc_scorer,\n",
    "                  refit = True,\n",
    "                  cv=cv,\n",
    "                  verbose=1,\n",
    "                  # n_jobs=2,\n",
    "                  return_train_score=True)\n",
    "mlp_clf.fit(X_train, y_train)"
   ]
  },
  {
   "cell_type": "code",
   "execution_count": null,
   "metadata": {
    "collapsed": true
   },
   "outputs": [],
   "source": [
    "def print_cv_result(clf, verbose=False):\n",
    "    print(\"Best parameters set found on development set:\")\n",
    "    print(clf.best_params_)\n",
    "    print(\"with auc + rmse:\", max(clf.cv_results_['mean_test_score']))\n",
    "    print(\"test result is\")\n",
    "    print(clf.score(X_test, y_test))\n",
    "    if verbose:\n",
    "        print(\"Grid scores on development set:\")\n",
    "        print('='*50)\n",
    "        means = clf.cv_results_['mean_test_score']\n",
    "        stds = clf.cv_results_['std_test_score']\n",
    "        for mean, std, params in zip(means, stds, clf.cv_results_['params']):\n",
    "            print(\"%0.3f (+/-%0.03f) for %r\"\n",
    "                  % (mean, std * 2, params))\n",
    "        print()\n",
    "        \n",
    "    y_pred = clf.predict(X_test)\n",
    "    \n",
    "    # find the auc\n",
    "    fpr, tpr, thresholds = roc_curve(y_test, y_pred, pos_label=1)\n",
    "    auc_ = auc(fpr, tpr)\n",
    "    rmse_ = np.sqrt(mean_squared_error(y_test, y_pred))\n",
    "    \n",
    "    print(\"test AUC:\", auc_)\n",
    "    print(\"test RMSE:\", rmse_)\n",
    "    print(\"AUC + (1-RMSE):\", auc_ + (1 - rmse_))"
   ]
  },
  {
   "cell_type": "code",
   "execution_count": null,
   "metadata": {},
   "outputs": [],
   "source": [
    "print_cv_result(lr_clf)"
   ]
  },
  {
   "cell_type": "code",
   "execution_count": null,
   "metadata": {},
   "outputs": [],
   "source": [
    "print_cv_result(svm_clf)"
   ]
  },
  {
   "cell_type": "code",
   "execution_count": null,
   "metadata": {},
   "outputs": [],
   "source": [
    "print_cv_result(gbdt_clf)"
   ]
  },
  {
   "cell_type": "code",
   "execution_count": null,
   "metadata": {},
   "outputs": [],
   "source": [
    "print_cv_result(mlp_clf)"
   ]
  },
  {
   "cell_type": "code",
   "execution_count": null,
   "metadata": {},
   "outputs": [],
   "source": [
    "print(svm_clf.score(X_test, y_test))"
   ]
  },
  {
   "cell_type": "code",
   "execution_count": null,
   "metadata": {},
   "outputs": [],
   "source": [
    "print(gbdt_clf.score(X_test, y_test))"
   ]
  },
  {
   "cell_type": "code",
   "execution_count": null,
   "metadata": {},
   "outputs": [],
   "source": [
    "print(mlp_clf.score(X_test, y_test))"
   ]
  },
  {
   "cell_type": "code",
   "execution_count": null,
   "metadata": {
    "collapsed": true
   },
   "outputs": [],
   "source": [
    "clf = gbdt_clf"
   ]
  },
  {
   "cell_type": "code",
   "execution_count": null,
   "metadata": {},
   "outputs": [],
   "source": [
    "y_test_all = clf.predict_proba(X_test_all)\n",
    "# prediction submit result\n",
    "result = ','.join([\"{:.5f}\".format(i[1]) for i in y_test_all])\n",
    "print(result)"
   ]
  },
  {
   "cell_type": "code",
   "execution_count": null,
   "metadata": {
    "collapsed": true
   },
   "outputs": [],
   "source": []
  }
 ],
 "metadata": {
  "kernelspec": {
   "display_name": "Python 3",
   "language": "python",
   "name": "python3"
  },
  "language_info": {
   "codemirror_mode": {
    "name": "ipython",
    "version": 3
   },
   "file_extension": ".py",
   "mimetype": "text/x-python",
   "name": "python",
   "nbconvert_exporter": "python",
   "pygments_lexer": "ipython3",
   "version": "3.6.2"
  }
 },
 "nbformat": 4,
 "nbformat_minor": 2
}
