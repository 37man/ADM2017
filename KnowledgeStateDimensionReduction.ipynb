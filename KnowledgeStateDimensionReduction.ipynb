{
 "cells": [
  {
   "cell_type": "code",
   "execution_count": 1,
   "metadata": {
    "collapsed": true
   },
   "outputs": [],
   "source": [
    "import pandas as pd\n",
    "import numpy as np\n",
    "from sklearn.model_selection import train_test_split\n",
    "import csv\n",
    "import os\n",
    "import sys\n",
    "\n",
    "import matplotlib.pyplot as plt\n",
    "%matplotlib inline"
   ]
  },
  {
   "cell_type": "code",
   "execution_count": 2,
   "metadata": {},
   "outputs": [
    {
     "name": "stderr",
     "output_type": "stream",
     "text": [
      "/Users/ckyeungac/anaconda/envs/dlenv/lib/python3.6/site-packages/IPython/core/interactiveshell.py:2698: DtypeWarning: Columns (74,75) have mixed types. Specify dtype option on import or set low_memory=False.\n",
      "  interactivity=interactivity, compiler=compiler, result=result)\n"
     ]
    }
   ],
   "source": [
    "data_dir = './data'\n",
    "\n",
    "student_log_paths = [os.path.join(data_dir, f) for f in os.listdir(data_dir) if f.startswith('student_log')]\n",
    "training_label_path = os.path.join(data_dir, 'training_label.csv')\n",
    "validation_test_label = os.path.join(data_dir, 'validation_test_label.csv')\n",
    "\n",
    "dfs = []\n",
    "for path in student_log_paths:\n",
    "    temp = pd.read_csv(path)\n",
    "    dfs.append(temp)\n",
    "student_df = pd.concat(dfs)\n",
    "\n",
    "training_label_df = pd.read_csv(training_label_path)\n",
    "training_label_df.drop_duplicates(inplace=True)\n",
    "validation_test_label_df = pd.read_csv(validation_test_label)"
   ]
  },
  {
   "cell_type": "code",
   "execution_count": 3,
   "metadata": {},
   "outputs": [
    {
     "name": "stdout",
     "output_type": "stream",
     "text": [
      "student_df.shape: (942816, 77)\n",
      "training_label_df.shape: (467, 5)\n",
      "validation_test_label_df.shape: (172, 4)\n"
     ]
    }
   ],
   "source": [
    "print(\"student_df.shape:\", student_df.shape) \n",
    "print(\"training_label_df.shape:\", training_label_df.shape)\n",
    "print(\"validation_test_label_df.shape:\", validation_test_label_df.shape)"
   ]
  },
  {
   "cell_type": "code",
   "execution_count": 4,
   "metadata": {},
   "outputs": [
    {
     "data": {
      "text/plain": [
       "48"
      ]
     },
     "execution_count": 4,
     "metadata": {},
     "output_type": "execute_result"
    }
   ],
   "source": [
    "len(set(training_label_df.ITEST_id).intersection(set(validation_test_label_df.ITEST_id)))"
   ]
  },
  {
   "cell_type": "code",
   "execution_count": 5,
   "metadata": {},
   "outputs": [
    {
     "data": {
      "text/html": [
       "<div>\n",
       "<style scoped>\n",
       "    .dataframe tbody tr th:only-of-type {\n",
       "        vertical-align: middle;\n",
       "    }\n",
       "\n",
       "    .dataframe tbody tr th {\n",
       "        vertical-align: top;\n",
       "    }\n",
       "\n",
       "    .dataframe thead th {\n",
       "        text-align: right;\n",
       "    }\n",
       "</style>\n",
       "<table border=\"1\" class=\"dataframe\">\n",
       "  <thead>\n",
       "    <tr style=\"text-align: right;\">\n",
       "      <th></th>\n",
       "      <th>AveCarelessness</th>\n",
       "      <th>AveCorrect</th>\n",
       "      <th>AveKnow</th>\n",
       "      <th>AveResBored</th>\n",
       "      <th>AveResConf</th>\n",
       "      <th>AveResEngcon</th>\n",
       "      <th>AveResFrust</th>\n",
       "      <th>AveResGaming</th>\n",
       "      <th>AveResOfftask</th>\n",
       "      <th>ITEST_id</th>\n",
       "      <th>...</th>\n",
       "      <th>timeOver80</th>\n",
       "      <th>timeSinceSkill</th>\n",
       "      <th>timeTaken</th>\n",
       "      <th>totalFrAttempted</th>\n",
       "      <th>totalFrPastWrongCount</th>\n",
       "      <th>totalFrPercentPastWrong</th>\n",
       "      <th>totalFrSkillOpportunities</th>\n",
       "      <th>totalFrSkillOpportunitiesByScaffolding</th>\n",
       "      <th>totalFrTimeOnSkill</th>\n",
       "      <th>totalTimeByPercentCorrectForskill</th>\n",
       "    </tr>\n",
       "  </thead>\n",
       "  <tbody>\n",
       "    <tr>\n",
       "      <th>0</th>\n",
       "      <td>0.327994</td>\n",
       "      <td>0.613402</td>\n",
       "      <td>0.592481</td>\n",
       "      <td>0.269116</td>\n",
       "      <td>0.115623</td>\n",
       "      <td>0.644795</td>\n",
       "      <td>0.077154</td>\n",
       "      <td>0.003914</td>\n",
       "      <td>0.269938</td>\n",
       "      <td>6173</td>\n",
       "      <td>...</td>\n",
       "      <td>1</td>\n",
       "      <td>0.0</td>\n",
       "      <td>143.0</td>\n",
       "      <td>0</td>\n",
       "      <td>0</td>\n",
       "      <td>0.0</td>\n",
       "      <td>0</td>\n",
       "      <td>0.0</td>\n",
       "      <td>0.0</td>\n",
       "      <td>143.0</td>\n",
       "    </tr>\n",
       "    <tr>\n",
       "      <th>1</th>\n",
       "      <td>0.327994</td>\n",
       "      <td>0.613402</td>\n",
       "      <td>0.592481</td>\n",
       "      <td>0.269116</td>\n",
       "      <td>0.115623</td>\n",
       "      <td>0.644795</td>\n",
       "      <td>0.077154</td>\n",
       "      <td>0.003914</td>\n",
       "      <td>0.269938</td>\n",
       "      <td>6173</td>\n",
       "      <td>...</td>\n",
       "      <td>1</td>\n",
       "      <td>0.0</td>\n",
       "      <td>82.0</td>\n",
       "      <td>1</td>\n",
       "      <td>0</td>\n",
       "      <td>0.0</td>\n",
       "      <td>0</td>\n",
       "      <td>0.0</td>\n",
       "      <td>0.0</td>\n",
       "      <td>82.0</td>\n",
       "    </tr>\n",
       "    <tr>\n",
       "      <th>2</th>\n",
       "      <td>0.327994</td>\n",
       "      <td>0.613402</td>\n",
       "      <td>0.592481</td>\n",
       "      <td>0.269116</td>\n",
       "      <td>0.115623</td>\n",
       "      <td>0.644795</td>\n",
       "      <td>0.077154</td>\n",
       "      <td>0.003914</td>\n",
       "      <td>0.269938</td>\n",
       "      <td>6173</td>\n",
       "      <td>...</td>\n",
       "      <td>1</td>\n",
       "      <td>0.0</td>\n",
       "      <td>104.0</td>\n",
       "      <td>2</td>\n",
       "      <td>0</td>\n",
       "      <td>0.0</td>\n",
       "      <td>0</td>\n",
       "      <td>0.0</td>\n",
       "      <td>0.0</td>\n",
       "      <td>104.0</td>\n",
       "    </tr>\n",
       "    <tr>\n",
       "      <th>3</th>\n",
       "      <td>0.327994</td>\n",
       "      <td>0.613402</td>\n",
       "      <td>0.592481</td>\n",
       "      <td>0.269116</td>\n",
       "      <td>0.115623</td>\n",
       "      <td>0.644795</td>\n",
       "      <td>0.077154</td>\n",
       "      <td>0.003914</td>\n",
       "      <td>0.269938</td>\n",
       "      <td>6173</td>\n",
       "      <td>...</td>\n",
       "      <td>1</td>\n",
       "      <td>0.0</td>\n",
       "      <td>106.0</td>\n",
       "      <td>3</td>\n",
       "      <td>0</td>\n",
       "      <td>0.0</td>\n",
       "      <td>0</td>\n",
       "      <td>0.0</td>\n",
       "      <td>0.0</td>\n",
       "      <td>106.0</td>\n",
       "    </tr>\n",
       "    <tr>\n",
       "      <th>4</th>\n",
       "      <td>0.327994</td>\n",
       "      <td>0.613402</td>\n",
       "      <td>0.592481</td>\n",
       "      <td>0.269116</td>\n",
       "      <td>0.115623</td>\n",
       "      <td>0.644795</td>\n",
       "      <td>0.077154</td>\n",
       "      <td>0.003914</td>\n",
       "      <td>0.269938</td>\n",
       "      <td>6173</td>\n",
       "      <td>...</td>\n",
       "      <td>0</td>\n",
       "      <td>0.0</td>\n",
       "      <td>39.0</td>\n",
       "      <td>4</td>\n",
       "      <td>0</td>\n",
       "      <td>0.0</td>\n",
       "      <td>0</td>\n",
       "      <td>0.0</td>\n",
       "      <td>0.0</td>\n",
       "      <td>0.0</td>\n",
       "    </tr>\n",
       "  </tbody>\n",
       "</table>\n",
       "<p>5 rows × 77 columns</p>\n",
       "</div>"
      ],
      "text/plain": [
       "   AveCarelessness  AveCorrect   AveKnow  AveResBored  AveResConf  \\\n",
       "0         0.327994    0.613402  0.592481     0.269116    0.115623   \n",
       "1         0.327994    0.613402  0.592481     0.269116    0.115623   \n",
       "2         0.327994    0.613402  0.592481     0.269116    0.115623   \n",
       "3         0.327994    0.613402  0.592481     0.269116    0.115623   \n",
       "4         0.327994    0.613402  0.592481     0.269116    0.115623   \n",
       "\n",
       "   AveResEngcon  AveResFrust  AveResGaming  AveResOfftask  ITEST_id  \\\n",
       "0      0.644795     0.077154      0.003914       0.269938      6173   \n",
       "1      0.644795     0.077154      0.003914       0.269938      6173   \n",
       "2      0.644795     0.077154      0.003914       0.269938      6173   \n",
       "3      0.644795     0.077154      0.003914       0.269938      6173   \n",
       "4      0.644795     0.077154      0.003914       0.269938      6173   \n",
       "\n",
       "                 ...                 timeOver80 timeSinceSkill  timeTaken  \\\n",
       "0                ...                          1            0.0      143.0   \n",
       "1                ...                          1            0.0       82.0   \n",
       "2                ...                          1            0.0      104.0   \n",
       "3                ...                          1            0.0      106.0   \n",
       "4                ...                          0            0.0       39.0   \n",
       "\n",
       "   totalFrAttempted  totalFrPastWrongCount  totalFrPercentPastWrong  \\\n",
       "0                 0                      0                      0.0   \n",
       "1                 1                      0                      0.0   \n",
       "2                 2                      0                      0.0   \n",
       "3                 3                      0                      0.0   \n",
       "4                 4                      0                      0.0   \n",
       "\n",
       "   totalFrSkillOpportunities  totalFrSkillOpportunitiesByScaffolding  \\\n",
       "0                          0                                     0.0   \n",
       "1                          0                                     0.0   \n",
       "2                          0                                     0.0   \n",
       "3                          0                                     0.0   \n",
       "4                          0                                     0.0   \n",
       "\n",
       "   totalFrTimeOnSkill  totalTimeByPercentCorrectForskill  \n",
       "0                 0.0                              143.0  \n",
       "1                 0.0                               82.0  \n",
       "2                 0.0                              104.0  \n",
       "3                 0.0                              106.0  \n",
       "4                 0.0                                0.0  \n",
       "\n",
       "[5 rows x 77 columns]"
      ]
     },
     "execution_count": 5,
     "metadata": {},
     "output_type": "execute_result"
    }
   ],
   "source": [
    "student_df.head()"
   ]
  },
  {
   "cell_type": "code",
   "execution_count": 6,
   "metadata": {},
   "outputs": [
    {
     "data": {
      "text/plain": [
       "Index(['AveCarelessness', 'AveCorrect', 'AveKnow', 'AveResBored', 'AveResConf',\n",
       "       'AveResEngcon', 'AveResFrust', 'AveResGaming', 'AveResOfftask',\n",
       "       'ITEST_id', 'Ln', 'Ln-1', 'NumActions', 'Prev5count', 'RES_BORED',\n",
       "       'RES_CONCENTRATING', 'RES_CONFUSED', 'RES_FRUSTRATED', 'RES_GAMING',\n",
       "       'RES_OFFTASK', 'SY ASSISTments Usage', 'actionId', 'assignmentId',\n",
       "       'assistmentId', 'attemptCount', 'bottomHint', 'confidence(BORED)',\n",
       "       'confidence(CONCENTRATING)', 'confidence(CONFUSED)',\n",
       "       'confidence(FRUSTRATED)', 'confidence(GAMING)', 'confidence(OFF TASK)',\n",
       "       'consecutiveErrorsInRow', 'correct', 'endTime',\n",
       "       'endsWithAutoScaffolding', 'endsWithScaffolding', 'frIsHelpRequest',\n",
       "       'frIsHelpRequestScaffolding', 'frPast5HelpRequest', 'frPast5WrongCount',\n",
       "       'frPast8HelpRequest', 'frPast8WrongCount', 'frTimeTakenOnScaffolding',\n",
       "       'frTotalSkillOpportunitiesScaffolding', 'frWorkingInSchool',\n",
       "       'helpAccessUnder2Sec', 'hint', 'hintCount', 'hintTotal', 'manywrong',\n",
       "       'original', 'past8BottomOut', 'prev5count', 'problemId', 'problemType',\n",
       "       'responseIsChosen', 'responseIsFillIn', 'scaffold', 'skill',\n",
       "       'startTime', 'stlHintUsed', 'sumRight', 'sumTime3SDWhen3RowRight',\n",
       "       'sumTimePerSkill', 'timeGreater10SecAndNextActionRight',\n",
       "       'timeGreater5Secprev2wrong', 'timeOver80', 'timeSinceSkill',\n",
       "       'timeTaken', 'totalFrAttempted', 'totalFrPastWrongCount',\n",
       "       'totalFrPercentPastWrong', 'totalFrSkillOpportunities',\n",
       "       'totalFrSkillOpportunitiesByScaffolding', 'totalFrTimeOnSkill',\n",
       "       'totalTimeByPercentCorrectForskill'],\n",
       "      dtype='object')"
      ]
     },
     "execution_count": 6,
     "metadata": {},
     "output_type": "execute_result"
    }
   ],
   "source": [
    "student_df.columns"
   ]
  },
  {
   "cell_type": "code",
   "execution_count": 7,
   "metadata": {},
   "outputs": [
    {
     "data": {
      "text/plain": [
       "1709"
      ]
     },
     "execution_count": 7,
     "metadata": {},
     "output_type": "execute_result"
    }
   ],
   "source": [
    "len(student_df.ITEST_id.unique())"
   ]
  },
  {
   "cell_type": "code",
   "execution_count": 8,
   "metadata": {
    "collapsed": true
   },
   "outputs": [],
   "source": [
    "skill = student_df.skill.unique()\n",
    "skill_id = range(len(skill))\n",
    "skill2id = dict(zip(skill, skill_id))\n",
    "id2sill = dict(zip(skill_id, skill))"
   ]
  },
  {
   "cell_type": "code",
   "execution_count": 9,
   "metadata": {},
   "outputs": [
    {
     "data": {
      "text/plain": [
       "102"
      ]
     },
     "execution_count": 9,
     "metadata": {},
     "output_type": "execute_result"
    }
   ],
   "source": [
    "len(skill)"
   ]
  },
  {
   "cell_type": "code",
   "execution_count": 10,
   "metadata": {
    "collapsed": true
   },
   "outputs": [],
   "source": [
    "student_specific_columns = [\"AveKnow\",\n",
    "                            \"AveCarelessness\",\n",
    "                            \"AveCorrect\",\n",
    "                            \"NumActions\",\n",
    "                            \"AveResBored\",\n",
    "                            \"AveResEngcon\",\n",
    "                            \"AveResConf\",\n",
    "                            \"AveResFrust\",\n",
    "                            \"AveResOfftask\",\n",
    "                            \"AveResGaming\"]"
   ]
  },
  {
   "cell_type": "code",
   "execution_count": 11,
   "metadata": {
    "collapsed": true
   },
   "outputs": [],
   "source": [
    "required_cols = ['ITEST_id'] + student_specific_columns\n",
    "student_specific_df = student_df[required_cols].drop_duplicates()"
   ]
  },
  {
   "cell_type": "code",
   "execution_count": 12,
   "metadata": {},
   "outputs": [
    {
     "data": {
      "text/html": [
       "<div>\n",
       "<style scoped>\n",
       "    .dataframe tbody tr th:only-of-type {\n",
       "        vertical-align: middle;\n",
       "    }\n",
       "\n",
       "    .dataframe tbody tr th {\n",
       "        vertical-align: top;\n",
       "    }\n",
       "\n",
       "    .dataframe thead th {\n",
       "        text-align: right;\n",
       "    }\n",
       "</style>\n",
       "<table border=\"1\" class=\"dataframe\">\n",
       "  <thead>\n",
       "    <tr style=\"text-align: right;\">\n",
       "      <th></th>\n",
       "      <th>ITEST_id</th>\n",
       "      <th>SchoolId</th>\n",
       "      <th>AveCorrect</th>\n",
       "      <th>MCAS</th>\n",
       "      <th>isSTEM</th>\n",
       "    </tr>\n",
       "  </thead>\n",
       "  <tbody>\n",
       "    <tr>\n",
       "      <th>0</th>\n",
       "      <td>9</td>\n",
       "      <td>2</td>\n",
       "      <td>0.438492</td>\n",
       "      <td>32</td>\n",
       "      <td>1</td>\n",
       "    </tr>\n",
       "    <tr>\n",
       "      <th>1</th>\n",
       "      <td>27</td>\n",
       "      <td>1</td>\n",
       "      <td>0.348837</td>\n",
       "      <td>21</td>\n",
       "      <td>0</td>\n",
       "    </tr>\n",
       "    <tr>\n",
       "      <th>2</th>\n",
       "      <td>33</td>\n",
       "      <td>2</td>\n",
       "      <td>0.686391</td>\n",
       "      <td>52</td>\n",
       "      <td>0</td>\n",
       "    </tr>\n",
       "    <tr>\n",
       "      <th>3</th>\n",
       "      <td>35</td>\n",
       "      <td>2</td>\n",
       "      <td>0.379658</td>\n",
       "      <td>34</td>\n",
       "      <td>0</td>\n",
       "    </tr>\n",
       "    <tr>\n",
       "      <th>4</th>\n",
       "      <td>37</td>\n",
       "      <td>3</td>\n",
       "      <td>0.305785</td>\n",
       "      <td>-999</td>\n",
       "      <td>0</td>\n",
       "    </tr>\n",
       "  </tbody>\n",
       "</table>\n",
       "</div>"
      ],
      "text/plain": [
       "   ITEST_id  SchoolId  AveCorrect  MCAS  isSTEM\n",
       "0         9         2    0.438492    32       1\n",
       "1        27         1    0.348837    21       0\n",
       "2        33         2    0.686391    52       0\n",
       "3        35         2    0.379658    34       0\n",
       "4        37         3    0.305785  -999       0"
      ]
     },
     "execution_count": 12,
     "metadata": {},
     "output_type": "execute_result"
    }
   ],
   "source": [
    "training_label_df.head()"
   ]
  },
  {
   "cell_type": "code",
   "execution_count": 13,
   "metadata": {
    "collapsed": true
   },
   "outputs": [],
   "source": [
    "# combined_df = pd.merge(left=training_label_df, right=student_specific_df, how='left', left_on='ITEST_id', right_on='ITEST_id')\n",
    "combined_df_train = training_label_df.merge(student_specific_df, left_on='ITEST_id', right_on='ITEST_id', how='left')\n",
    "combined_df_train['AveCorrect'] = combined_df_train['AveCorrect_x']\n",
    "del combined_df_train['AveCorrect_x']\n",
    "del combined_df_train['AveCorrect_y']\n",
    "X = combined_df_train[student_specific_columns].values\n",
    "y = combined_df_train['isSTEM'].values"
   ]
  },
  {
   "cell_type": "code",
   "execution_count": 14,
   "metadata": {
    "collapsed": true
   },
   "outputs": [],
   "source": [
    "combined_df_test = pd.merge(left=validation_test_label_df, right=student_specific_df, how='left')\n",
    "X_target = combined_df_test[student_specific_columns].values"
   ]
  },
  {
   "cell_type": "code",
   "execution_count": 15,
   "metadata": {},
   "outputs": [
    {
     "data": {
      "text/plain": [
       "(467, 10)"
      ]
     },
     "execution_count": 15,
     "metadata": {},
     "output_type": "execute_result"
    }
   ],
   "source": [
    "X.shape"
   ]
  },
  {
   "cell_type": "code",
   "execution_count": 16,
   "metadata": {},
   "outputs": [
    {
     "data": {
      "text/html": [
       "<div>\n",
       "<style scoped>\n",
       "    .dataframe tbody tr th:only-of-type {\n",
       "        vertical-align: middle;\n",
       "    }\n",
       "\n",
       "    .dataframe tbody tr th {\n",
       "        vertical-align: top;\n",
       "    }\n",
       "\n",
       "    .dataframe thead th {\n",
       "        text-align: right;\n",
       "    }\n",
       "</style>\n",
       "<table border=\"1\" class=\"dataframe\">\n",
       "  <thead>\n",
       "    <tr style=\"text-align: right;\">\n",
       "      <th></th>\n",
       "      <th>ITEST_id</th>\n",
       "      <th>SchoolId</th>\n",
       "      <th>MCAS</th>\n",
       "      <th>isSTEM</th>\n",
       "      <th>AveKnow</th>\n",
       "      <th>AveCarelessness</th>\n",
       "      <th>NumActions</th>\n",
       "      <th>AveResBored</th>\n",
       "      <th>AveResEngcon</th>\n",
       "      <th>AveResConf</th>\n",
       "      <th>AveResFrust</th>\n",
       "      <th>AveResOfftask</th>\n",
       "      <th>AveResGaming</th>\n",
       "      <th>AveCorrect</th>\n",
       "    </tr>\n",
       "  </thead>\n",
       "  <tbody>\n",
       "    <tr>\n",
       "      <th>0</th>\n",
       "      <td>9</td>\n",
       "      <td>2</td>\n",
       "      <td>32</td>\n",
       "      <td>1</td>\n",
       "      <td>0.185138</td>\n",
       "      <td>0.099734</td>\n",
       "      <td>504</td>\n",
       "      <td>0.277149</td>\n",
       "      <td>0.644744</td>\n",
       "      <td>0.098078</td>\n",
       "      <td>0.162771</td>\n",
       "      <td>0.213378</td>\n",
       "      <td>0.005554</td>\n",
       "      <td>0.438492</td>\n",
       "    </tr>\n",
       "    <tr>\n",
       "      <th>1</th>\n",
       "      <td>27</td>\n",
       "      <td>1</td>\n",
       "      <td>21</td>\n",
       "      <td>0</td>\n",
       "      <td>0.142031</td>\n",
       "      <td>0.069297</td>\n",
       "      <td>129</td>\n",
       "      <td>0.330226</td>\n",
       "      <td>0.551367</td>\n",
       "      <td>0.122658</td>\n",
       "      <td>0.095420</td>\n",
       "      <td>0.348090</td>\n",
       "      <td>0.036900</td>\n",
       "      <td>0.348837</td>\n",
       "    </tr>\n",
       "    <tr>\n",
       "      <th>2</th>\n",
       "      <td>33</td>\n",
       "      <td>2</td>\n",
       "      <td>52</td>\n",
       "      <td>0</td>\n",
       "      <td>0.459813</td>\n",
       "      <td>0.202787</td>\n",
       "      <td>169</td>\n",
       "      <td>0.260426</td>\n",
       "      <td>0.650769</td>\n",
       "      <td>0.059971</td>\n",
       "      <td>0.061834</td>\n",
       "      <td>0.296286</td>\n",
       "      <td>0.010954</td>\n",
       "      <td>0.686391</td>\n",
       "    </tr>\n",
       "    <tr>\n",
       "      <th>3</th>\n",
       "      <td>35</td>\n",
       "      <td>2</td>\n",
       "      <td>34</td>\n",
       "      <td>0</td>\n",
       "      <td>0.255164</td>\n",
       "      <td>0.158848</td>\n",
       "      <td>993</td>\n",
       "      <td>0.222796</td>\n",
       "      <td>0.650079</td>\n",
       "      <td>0.069987</td>\n",
       "      <td>0.164347</td>\n",
       "      <td>0.153147</td>\n",
       "      <td>0.236800</td>\n",
       "      <td>0.379658</td>\n",
       "    </tr>\n",
       "    <tr>\n",
       "      <th>4</th>\n",
       "      <td>37</td>\n",
       "      <td>3</td>\n",
       "      <td>-999</td>\n",
       "      <td>0</td>\n",
       "      <td>0.071909</td>\n",
       "      <td>0.046183</td>\n",
       "      <td>121</td>\n",
       "      <td>0.326384</td>\n",
       "      <td>0.653445</td>\n",
       "      <td>0.125325</td>\n",
       "      <td>0.094714</td>\n",
       "      <td>0.451467</td>\n",
       "      <td>0.016241</td>\n",
       "      <td>0.305785</td>\n",
       "    </tr>\n",
       "  </tbody>\n",
       "</table>\n",
       "</div>"
      ],
      "text/plain": [
       "   ITEST_id  SchoolId  MCAS  isSTEM   AveKnow  AveCarelessness  NumActions  \\\n",
       "0         9         2    32       1  0.185138         0.099734         504   \n",
       "1        27         1    21       0  0.142031         0.069297         129   \n",
       "2        33         2    52       0  0.459813         0.202787         169   \n",
       "3        35         2    34       0  0.255164         0.158848         993   \n",
       "4        37         3  -999       0  0.071909         0.046183         121   \n",
       "\n",
       "   AveResBored  AveResEngcon  AveResConf  AveResFrust  AveResOfftask  \\\n",
       "0     0.277149      0.644744    0.098078     0.162771       0.213378   \n",
       "1     0.330226      0.551367    0.122658     0.095420       0.348090   \n",
       "2     0.260426      0.650769    0.059971     0.061834       0.296286   \n",
       "3     0.222796      0.650079    0.069987     0.164347       0.153147   \n",
       "4     0.326384      0.653445    0.125325     0.094714       0.451467   \n",
       "\n",
       "   AveResGaming  AveCorrect  \n",
       "0      0.005554    0.438492  \n",
       "1      0.036900    0.348837  \n",
       "2      0.010954    0.686391  \n",
       "3      0.236800    0.379658  \n",
       "4      0.016241    0.305785  "
      ]
     },
     "execution_count": 16,
     "metadata": {},
     "output_type": "execute_result"
    }
   ],
   "source": [
    "combined_df_train.head()"
   ]
  },
  {
   "cell_type": "markdown",
   "metadata": {},
   "source": [
    "# experiment"
   ]
  },
  {
   "cell_type": "code",
   "execution_count": 17,
   "metadata": {
    "collapsed": true
   },
   "outputs": [],
   "source": [
    "def prepare_dataset(use_static_only=False, use_dktp=True):\n",
    "    static_columns = student_specific_columns = [\"AveKnow\",\n",
    "                                \"AveCarelessness\",\n",
    "                                \"AveCorrect\",\n",
    "                                \"NumActions\",\n",
    "                                \"AveResBored\",\n",
    "                                \"AveResEngcon\",\n",
    "                                \"AveResConf\",\n",
    "                                \"AveResFrust\",\n",
    "                                \"AveResOfftask\",\n",
    "                                \"AveResGaming\"]\n",
    "\n",
    "    kt_columns = ['kt_{}'.format(i) for i in range(102)]\n",
    "\n",
    "\n",
    "    # prepare features\n",
    "    features_cols = []\n",
    "    target_models = []\n",
    "    if use_static_only:\n",
    "        features_cols = static_columns\n",
    "        train_df = training_label_df.merge(student_specific_df, left_on='ITEST_id', right_on='ITEST_id', how='left')\n",
    "        test_df = validation_test_label_df.merge(student_specific_df, left_on='ITEST_id', right_on='ITEST_id', how='left')\n",
    "    else:\n",
    "        features_cols = static_columns + kt_columns\n",
    "        if use_dktp:\n",
    "            students_knowledge_states_path = './data/students_knowledge_states_dktp.csv'\n",
    "        else:\n",
    "            students_knowledge_states_path = './data/students_knowledge_states_dkt.csv'\n",
    "\n",
    "        students_dk_df = pd.read_csv(students_knowledge_states_path)\n",
    "        combined_df = pd.merge(left=student_specific_df, right=students_dk_df, how='left')\n",
    "        train_df = training_label_df.merge(combined_df, left_on='ITEST_id', right_on='ITEST_id', how='left')\n",
    "        test_df = validation_test_label_df.merge(combined_df, left_on='ITEST_id', right_on='ITEST_id', how='left')\n",
    "\n",
    "    # remove duplicated features\n",
    "    train_df['AveCorrect'] = train_df['AveCorrect_x']\n",
    "    del train_df['AveCorrect_x']\n",
    "    del train_df['AveCorrect_y']\n",
    "    test_df['AveCorrect'] = test_df['AveCorrect_x']\n",
    "    del test_df['AveCorrect_x']\n",
    "    del test_df['AveCorrect_y']\n",
    "\n",
    "    # prepare dataset\n",
    "    X_tr = train_df[features_cols]\n",
    "    y_tr = train_df['isSTEM']\n",
    "    X_te = test_df[features_cols] \n",
    "    \n",
    "    # rename the columns to skill name\n",
    "    df_columns = X_tr.columns.values\n",
    "    for i in range(102):\n",
    "        ix = np.where(df_columns == 'kt_{}'.format(i))\n",
    "        df_columns[ix] = id2sill[i]\n",
    "    X_tr.columns = df_columns\n",
    "    X_te.columns = df_columns\n",
    "    \n",
    "    return X_tr, y_tr, X_te"
   ]
  },
  {
   "cell_type": "code",
   "execution_count": 18,
   "metadata": {
    "collapsed": true
   },
   "outputs": [],
   "source": [
    "X_tr, y_tr, X_te = prepare_dataset()"
   ]
  },
  {
   "cell_type": "code",
   "execution_count": 19,
   "metadata": {},
   "outputs": [
    {
     "data": {
      "text/html": [
       "<div>\n",
       "<style scoped>\n",
       "    .dataframe tbody tr th:only-of-type {\n",
       "        vertical-align: middle;\n",
       "    }\n",
       "\n",
       "    .dataframe tbody tr th {\n",
       "        vertical-align: top;\n",
       "    }\n",
       "\n",
       "    .dataframe thead th {\n",
       "        text-align: right;\n",
       "    }\n",
       "</style>\n",
       "<table border=\"1\" class=\"dataframe\">\n",
       "  <thead>\n",
       "    <tr style=\"text-align: right;\">\n",
       "      <th></th>\n",
       "      <th>AveKnow</th>\n",
       "      <th>AveCarelessness</th>\n",
       "      <th>AveCorrect</th>\n",
       "      <th>NumActions</th>\n",
       "      <th>AveResBored</th>\n",
       "      <th>AveResEngcon</th>\n",
       "      <th>AveResConf</th>\n",
       "      <th>AveResFrust</th>\n",
       "      <th>AveResOfftask</th>\n",
       "      <th>AveResGaming</th>\n",
       "      <th>...</th>\n",
       "      <th>multiplying-positive-negative-numbers</th>\n",
       "      <th>application: compare points</th>\n",
       "      <th>application: multi-column subtraction</th>\n",
       "      <th>application: simple multiplication</th>\n",
       "      <th>application: compare expressions</th>\n",
       "      <th>application: order of operations</th>\n",
       "      <th>application: multi-column addition</th>\n",
       "      <th>application: read points</th>\n",
       "      <th>application: find slope in graph</th>\n",
       "      <th>application: finding percentage of a number</th>\n",
       "    </tr>\n",
       "  </thead>\n",
       "  <tbody>\n",
       "    <tr>\n",
       "      <th>0</th>\n",
       "      <td>0.185138</td>\n",
       "      <td>0.099734</td>\n",
       "      <td>0.438492</td>\n",
       "      <td>504</td>\n",
       "      <td>0.277149</td>\n",
       "      <td>0.644744</td>\n",
       "      <td>0.098078</td>\n",
       "      <td>0.162771</td>\n",
       "      <td>0.213378</td>\n",
       "      <td>0.005554</td>\n",
       "      <td>...</td>\n",
       "      <td>0.662643</td>\n",
       "      <td>0.859212</td>\n",
       "      <td>0.734459</td>\n",
       "      <td>0.847522</td>\n",
       "      <td>0.734016</td>\n",
       "      <td>0.821079</td>\n",
       "      <td>0.758121</td>\n",
       "      <td>0.804664</td>\n",
       "      <td>0.880314</td>\n",
       "      <td>0.177373</td>\n",
       "    </tr>\n",
       "    <tr>\n",
       "      <th>1</th>\n",
       "      <td>0.142031</td>\n",
       "      <td>0.069297</td>\n",
       "      <td>0.348837</td>\n",
       "      <td>129</td>\n",
       "      <td>0.330226</td>\n",
       "      <td>0.551367</td>\n",
       "      <td>0.122658</td>\n",
       "      <td>0.095420</td>\n",
       "      <td>0.348090</td>\n",
       "      <td>0.036900</td>\n",
       "      <td>...</td>\n",
       "      <td>0.653775</td>\n",
       "      <td>0.859102</td>\n",
       "      <td>0.734639</td>\n",
       "      <td>0.847371</td>\n",
       "      <td>0.734381</td>\n",
       "      <td>0.821322</td>\n",
       "      <td>0.758001</td>\n",
       "      <td>0.804243</td>\n",
       "      <td>0.880286</td>\n",
       "      <td>0.177019</td>\n",
       "    </tr>\n",
       "    <tr>\n",
       "      <th>2</th>\n",
       "      <td>0.459813</td>\n",
       "      <td>0.202787</td>\n",
       "      <td>0.686391</td>\n",
       "      <td>169</td>\n",
       "      <td>0.260426</td>\n",
       "      <td>0.650769</td>\n",
       "      <td>0.059971</td>\n",
       "      <td>0.061834</td>\n",
       "      <td>0.296286</td>\n",
       "      <td>0.010954</td>\n",
       "      <td>...</td>\n",
       "      <td>0.648593</td>\n",
       "      <td>0.859321</td>\n",
       "      <td>0.734540</td>\n",
       "      <td>0.847421</td>\n",
       "      <td>0.734533</td>\n",
       "      <td>0.821168</td>\n",
       "      <td>0.758505</td>\n",
       "      <td>0.804610</td>\n",
       "      <td>0.880168</td>\n",
       "      <td>0.176693</td>\n",
       "    </tr>\n",
       "    <tr>\n",
       "      <th>3</th>\n",
       "      <td>0.255164</td>\n",
       "      <td>0.158848</td>\n",
       "      <td>0.379658</td>\n",
       "      <td>993</td>\n",
       "      <td>0.222796</td>\n",
       "      <td>0.650079</td>\n",
       "      <td>0.069987</td>\n",
       "      <td>0.164347</td>\n",
       "      <td>0.153147</td>\n",
       "      <td>0.236800</td>\n",
       "      <td>...</td>\n",
       "      <td>0.645798</td>\n",
       "      <td>0.858873</td>\n",
       "      <td>0.734250</td>\n",
       "      <td>0.847353</td>\n",
       "      <td>0.734647</td>\n",
       "      <td>0.821344</td>\n",
       "      <td>0.757768</td>\n",
       "      <td>0.804096</td>\n",
       "      <td>0.880175</td>\n",
       "      <td>0.177116</td>\n",
       "    </tr>\n",
       "    <tr>\n",
       "      <th>4</th>\n",
       "      <td>0.071909</td>\n",
       "      <td>0.046183</td>\n",
       "      <td>0.305785</td>\n",
       "      <td>121</td>\n",
       "      <td>0.326384</td>\n",
       "      <td>0.653445</td>\n",
       "      <td>0.125325</td>\n",
       "      <td>0.094714</td>\n",
       "      <td>0.451467</td>\n",
       "      <td>0.016241</td>\n",
       "      <td>...</td>\n",
       "      <td>0.647155</td>\n",
       "      <td>0.858930</td>\n",
       "      <td>0.734310</td>\n",
       "      <td>0.847313</td>\n",
       "      <td>0.734611</td>\n",
       "      <td>0.821302</td>\n",
       "      <td>0.758223</td>\n",
       "      <td>0.804268</td>\n",
       "      <td>0.880225</td>\n",
       "      <td>0.176869</td>\n",
       "    </tr>\n",
       "  </tbody>\n",
       "</table>\n",
       "<p>5 rows × 112 columns</p>\n",
       "</div>"
      ],
      "text/plain": [
       "    AveKnow  AveCarelessness  AveCorrect  NumActions  AveResBored  \\\n",
       "0  0.185138         0.099734    0.438492         504     0.277149   \n",
       "1  0.142031         0.069297    0.348837         129     0.330226   \n",
       "2  0.459813         0.202787    0.686391         169     0.260426   \n",
       "3  0.255164         0.158848    0.379658         993     0.222796   \n",
       "4  0.071909         0.046183    0.305785         121     0.326384   \n",
       "\n",
       "   AveResEngcon  AveResConf  AveResFrust  AveResOfftask  AveResGaming  \\\n",
       "0      0.644744    0.098078     0.162771       0.213378      0.005554   \n",
       "1      0.551367    0.122658     0.095420       0.348090      0.036900   \n",
       "2      0.650769    0.059971     0.061834       0.296286      0.010954   \n",
       "3      0.650079    0.069987     0.164347       0.153147      0.236800   \n",
       "4      0.653445    0.125325     0.094714       0.451467      0.016241   \n",
       "\n",
       "                      ...                       \\\n",
       "0                     ...                        \n",
       "1                     ...                        \n",
       "2                     ...                        \n",
       "3                     ...                        \n",
       "4                     ...                        \n",
       "\n",
       "   multiplying-positive-negative-numbers  application: compare points  \\\n",
       "0                               0.662643                     0.859212   \n",
       "1                               0.653775                     0.859102   \n",
       "2                               0.648593                     0.859321   \n",
       "3                               0.645798                     0.858873   \n",
       "4                               0.647155                     0.858930   \n",
       "\n",
       "   application: multi-column subtraction  application: simple multiplication  \\\n",
       "0                               0.734459                            0.847522   \n",
       "1                               0.734639                            0.847371   \n",
       "2                               0.734540                            0.847421   \n",
       "3                               0.734250                            0.847353   \n",
       "4                               0.734310                            0.847313   \n",
       "\n",
       "   application: compare expressions  application: order of operations  \\\n",
       "0                          0.734016                          0.821079   \n",
       "1                          0.734381                          0.821322   \n",
       "2                          0.734533                          0.821168   \n",
       "3                          0.734647                          0.821344   \n",
       "4                          0.734611                          0.821302   \n",
       "\n",
       "   application: multi-column addition  application: read points  \\\n",
       "0                            0.758121                  0.804664   \n",
       "1                            0.758001                  0.804243   \n",
       "2                            0.758505                  0.804610   \n",
       "3                            0.757768                  0.804096   \n",
       "4                            0.758223                  0.804268   \n",
       "\n",
       "   application: find slope in graph  \\\n",
       "0                          0.880314   \n",
       "1                          0.880286   \n",
       "2                          0.880168   \n",
       "3                          0.880175   \n",
       "4                          0.880225   \n",
       "\n",
       "   application: finding percentage of a number  \n",
       "0                                     0.177373  \n",
       "1                                     0.177019  \n",
       "2                                     0.176693  \n",
       "3                                     0.177116  \n",
       "4                                     0.176869  \n",
       "\n",
       "[5 rows x 112 columns]"
      ]
     },
     "execution_count": 19,
     "metadata": {},
     "output_type": "execute_result"
    }
   ],
   "source": [
    "X_tr.head()"
   ]
  },
  {
   "cell_type": "code",
   "execution_count": 20,
   "metadata": {},
   "outputs": [
    {
     "data": {
      "text/plain": [
       "<matplotlib.axes._subplots.AxesSubplot at 0x110c31c88>"
      ]
     },
     "execution_count": 20,
     "metadata": {},
     "output_type": "execute_result"
    },
    {
     "data": {
      "image/png": "[encoded data removed]",
      "text/plain": [
       "<matplotlib.figure.Figure at 0x110c45be0>"
      ]
     },
     "metadata": {},
     "output_type": "display_data"
    }
   ],
   "source": [
    "X_tr['NumActions'].hist(grid=True, bins=20)"
   ]
  },
  {
   "cell_type": "code",
   "execution_count": 21,
   "metadata": {},
   "outputs": [
    {
     "data": {
      "text/plain": [
       "12"
      ]
     },
     "execution_count": 21,
     "metadata": {},
     "output_type": "execute_result"
    }
   ],
   "source": [
    "min(X_tr['NumActions'])"
   ]
  },
  {
   "cell_type": "code",
   "execution_count": null,
   "metadata": {
    "collapsed": true
   },
   "outputs": [],
   "source": []
  },
  {
   "cell_type": "markdown",
   "metadata": {
    "collapsed": true
   },
   "source": [
    "# Correlation"
   ]
  },
  {
   "cell_type": "code",
   "execution_count": 52,
   "metadata": {},
   "outputs": [],
   "source": [
    "use_static_only = True\n",
    "use_dktp = False\n",
    "\n",
    "X_tr, y_tr, X_te = prepare_dataset(use_static_only, use_dktp)\n",
    "X_tr.head()\n",
    "static_df = X_tr"
   ]
  },
  {
   "cell_type": "code",
   "execution_count": 22,
   "metadata": {
    "collapsed": true
   },
   "outputs": [],
   "source": [
    "use_static_only = False\n",
    "use_dktp = True\n",
    "\n",
    "X_tr, y_tr, X_te = prepare_dataset(use_static_only, use_dktp)\n",
    "kt_columns = list(skill2id.keys())\n",
    "columns = kt_columns + ['isSTEM']\n",
    "dktp_df = X_tr[kt_columns]"
   ]
  },
  {
   "cell_type": "code",
   "execution_count": 23,
   "metadata": {},
   "outputs": [
    {
     "data": {
      "text/html": [
       "<div>\n",
       "<style scoped>\n",
       "    .dataframe tbody tr th:only-of-type {\n",
       "        vertical-align: middle;\n",
       "    }\n",
       "\n",
       "    .dataframe tbody tr th {\n",
       "        vertical-align: top;\n",
       "    }\n",
       "\n",
       "    .dataframe thead th {\n",
       "        text-align: right;\n",
       "    }\n",
       "</style>\n",
       "<table border=\"1\" class=\"dataframe\">\n",
       "  <thead>\n",
       "    <tr style=\"text-align: right;\">\n",
       "      <th></th>\n",
       "      <th>least-common-multiple</th>\n",
       "      <th>pattern-finding</th>\n",
       "      <th>algebraic-manipulation</th>\n",
       "      <th>circle-graph</th>\n",
       "      <th>probability</th>\n",
       "      <th>noskill</th>\n",
       "      <th>triangle-inequality</th>\n",
       "      <th>area</th>\n",
       "      <th>properties-of-geometric-figures</th>\n",
       "      <th>area-of-circle</th>\n",
       "      <th>...</th>\n",
       "      <th>multiplying-positive-negative-numbers</th>\n",
       "      <th>application: compare points</th>\n",
       "      <th>application: multi-column subtraction</th>\n",
       "      <th>application: simple multiplication</th>\n",
       "      <th>application: compare expressions</th>\n",
       "      <th>application: order of operations</th>\n",
       "      <th>application: multi-column addition</th>\n",
       "      <th>application: read points</th>\n",
       "      <th>application: find slope in graph</th>\n",
       "      <th>application: finding percentage of a number</th>\n",
       "    </tr>\n",
       "  </thead>\n",
       "  <tbody>\n",
       "    <tr>\n",
       "      <th>0</th>\n",
       "      <td>0.004930</td>\n",
       "      <td>0.856057</td>\n",
       "      <td>0.559009</td>\n",
       "      <td>0.693791</td>\n",
       "      <td>0.779800</td>\n",
       "      <td>0.765946</td>\n",
       "      <td>0.607152</td>\n",
       "      <td>0.611766</td>\n",
       "      <td>0.672387</td>\n",
       "      <td>0.564902</td>\n",
       "      <td>...</td>\n",
       "      <td>0.662643</td>\n",
       "      <td>0.859212</td>\n",
       "      <td>0.734459</td>\n",
       "      <td>0.847522</td>\n",
       "      <td>0.734016</td>\n",
       "      <td>0.821079</td>\n",
       "      <td>0.758121</td>\n",
       "      <td>0.804664</td>\n",
       "      <td>0.880314</td>\n",
       "      <td>0.177373</td>\n",
       "    </tr>\n",
       "    <tr>\n",
       "      <th>1</th>\n",
       "      <td>0.009653</td>\n",
       "      <td>0.522395</td>\n",
       "      <td>0.451000</td>\n",
       "      <td>0.567070</td>\n",
       "      <td>0.573825</td>\n",
       "      <td>0.628102</td>\n",
       "      <td>0.560525</td>\n",
       "      <td>0.456414</td>\n",
       "      <td>0.526662</td>\n",
       "      <td>0.443715</td>\n",
       "      <td>...</td>\n",
       "      <td>0.653775</td>\n",
       "      <td>0.859102</td>\n",
       "      <td>0.734639</td>\n",
       "      <td>0.847371</td>\n",
       "      <td>0.734381</td>\n",
       "      <td>0.821322</td>\n",
       "      <td>0.758001</td>\n",
       "      <td>0.804243</td>\n",
       "      <td>0.880286</td>\n",
       "      <td>0.177019</td>\n",
       "    </tr>\n",
       "    <tr>\n",
       "      <th>2</th>\n",
       "      <td>0.003247</td>\n",
       "      <td>0.319282</td>\n",
       "      <td>0.180944</td>\n",
       "      <td>0.407559</td>\n",
       "      <td>0.391641</td>\n",
       "      <td>0.582065</td>\n",
       "      <td>0.488964</td>\n",
       "      <td>0.140198</td>\n",
       "      <td>0.200504</td>\n",
       "      <td>0.359712</td>\n",
       "      <td>...</td>\n",
       "      <td>0.648593</td>\n",
       "      <td>0.859321</td>\n",
       "      <td>0.734540</td>\n",
       "      <td>0.847421</td>\n",
       "      <td>0.734533</td>\n",
       "      <td>0.821168</td>\n",
       "      <td>0.758505</td>\n",
       "      <td>0.804610</td>\n",
       "      <td>0.880168</td>\n",
       "      <td>0.176693</td>\n",
       "    </tr>\n",
       "    <tr>\n",
       "      <th>3</th>\n",
       "      <td>0.004197</td>\n",
       "      <td>0.482195</td>\n",
       "      <td>0.321468</td>\n",
       "      <td>0.447824</td>\n",
       "      <td>0.443841</td>\n",
       "      <td>0.508721</td>\n",
       "      <td>0.497354</td>\n",
       "      <td>0.261760</td>\n",
       "      <td>0.360583</td>\n",
       "      <td>0.357766</td>\n",
       "      <td>...</td>\n",
       "      <td>0.645798</td>\n",
       "      <td>0.858873</td>\n",
       "      <td>0.734250</td>\n",
       "      <td>0.847353</td>\n",
       "      <td>0.734647</td>\n",
       "      <td>0.821344</td>\n",
       "      <td>0.757768</td>\n",
       "      <td>0.804096</td>\n",
       "      <td>0.880175</td>\n",
       "      <td>0.177116</td>\n",
       "    </tr>\n",
       "    <tr>\n",
       "      <th>4</th>\n",
       "      <td>0.001148</td>\n",
       "      <td>0.254887</td>\n",
       "      <td>0.220256</td>\n",
       "      <td>0.332173</td>\n",
       "      <td>0.291264</td>\n",
       "      <td>0.287870</td>\n",
       "      <td>0.456726</td>\n",
       "      <td>0.094413</td>\n",
       "      <td>0.154544</td>\n",
       "      <td>0.302894</td>\n",
       "      <td>...</td>\n",
       "      <td>0.647155</td>\n",
       "      <td>0.858930</td>\n",
       "      <td>0.734310</td>\n",
       "      <td>0.847313</td>\n",
       "      <td>0.734611</td>\n",
       "      <td>0.821302</td>\n",
       "      <td>0.758223</td>\n",
       "      <td>0.804268</td>\n",
       "      <td>0.880225</td>\n",
       "      <td>0.176869</td>\n",
       "    </tr>\n",
       "  </tbody>\n",
       "</table>\n",
       "<p>5 rows × 102 columns</p>\n",
       "</div>"
      ],
      "text/plain": [
       "   least-common-multiple  pattern-finding  algebraic-manipulation  \\\n",
       "0               0.004930         0.856057                0.559009   \n",
       "1               0.009653         0.522395                0.451000   \n",
       "2               0.003247         0.319282                0.180944   \n",
       "3               0.004197         0.482195                0.321468   \n",
       "4               0.001148         0.254887                0.220256   \n",
       "\n",
       "   circle-graph  probability   noskill  triangle-inequality      area  \\\n",
       "0      0.693791     0.779800  0.765946             0.607152  0.611766   \n",
       "1      0.567070     0.573825  0.628102             0.560525  0.456414   \n",
       "2      0.407559     0.391641  0.582065             0.488964  0.140198   \n",
       "3      0.447824     0.443841  0.508721             0.497354  0.261760   \n",
       "4      0.332173     0.291264  0.287870             0.456726  0.094413   \n",
       "\n",
       "   properties-of-geometric-figures  area-of-circle  \\\n",
       "0                         0.672387        0.564902   \n",
       "1                         0.526662        0.443715   \n",
       "2                         0.200504        0.359712   \n",
       "3                         0.360583        0.357766   \n",
       "4                         0.154544        0.302894   \n",
       "\n",
       "                      ...                       \\\n",
       "0                     ...                        \n",
       "1                     ...                        \n",
       "2                     ...                        \n",
       "3                     ...                        \n",
       "4                     ...                        \n",
       "\n",
       "   multiplying-positive-negative-numbers  application: compare points  \\\n",
       "0                               0.662643                     0.859212   \n",
       "1                               0.653775                     0.859102   \n",
       "2                               0.648593                     0.859321   \n",
       "3                               0.645798                     0.858873   \n",
       "4                               0.647155                     0.858930   \n",
       "\n",
       "   application: multi-column subtraction  application: simple multiplication  \\\n",
       "0                               0.734459                            0.847522   \n",
       "1                               0.734639                            0.847371   \n",
       "2                               0.734540                            0.847421   \n",
       "3                               0.734250                            0.847353   \n",
       "4                               0.734310                            0.847313   \n",
       "\n",
       "   application: compare expressions  application: order of operations  \\\n",
       "0                          0.734016                          0.821079   \n",
       "1                          0.734381                          0.821322   \n",
       "2                          0.734533                          0.821168   \n",
       "3                          0.734647                          0.821344   \n",
       "4                          0.734611                          0.821302   \n",
       "\n",
       "   application: multi-column addition  application: read points  \\\n",
       "0                            0.758121                  0.804664   \n",
       "1                            0.758001                  0.804243   \n",
       "2                            0.758505                  0.804610   \n",
       "3                            0.757768                  0.804096   \n",
       "4                            0.758223                  0.804268   \n",
       "\n",
       "   application: find slope in graph  \\\n",
       "0                          0.880314   \n",
       "1                          0.880286   \n",
       "2                          0.880168   \n",
       "3                          0.880175   \n",
       "4                          0.880225   \n",
       "\n",
       "   application: finding percentage of a number  \n",
       "0                                     0.177373  \n",
       "1                                     0.177019  \n",
       "2                                     0.176693  \n",
       "3                                     0.177116  \n",
       "4                                     0.176869  \n",
       "\n",
       "[5 rows x 102 columns]"
      ]
     },
     "execution_count": 23,
     "metadata": {},
     "output_type": "execute_result"
    }
   ],
   "source": [
    "dktp_df.head()"
   ]
  },
  {
   "cell_type": "code",
   "execution_count": 24,
   "metadata": {
    "collapsed": true
   },
   "outputs": [],
   "source": [
    "use_static_only = False\n",
    "use_dktp = False\n",
    "\n",
    "X_tr, y_tr, X_te = prepare_dataset(use_static_only, use_dktp)\n",
    "kt_columns = list(skill2id.keys())\n",
    "columns = kt_columns + ['isSTEM']\n",
    "dkt_df = X_tr[kt_columns]"
   ]
  },
  {
   "cell_type": "markdown",
   "metadata": {},
   "source": [
    "# Dimensionality Reduction\n",
    "+ PCA\n",
    "+ LDA"
   ]
  },
  {
   "cell_type": "markdown",
   "metadata": {},
   "source": [
    "## PCA"
   ]
  },
  {
   "cell_type": "code",
   "execution_count": 25,
   "metadata": {
    "collapsed": true
   },
   "outputs": [],
   "source": [
    "from sklearn.decomposition import PCA\n",
    "import matplotlib.pyplot as plt\n",
    "from mpl_toolkits.mplot3d import Axes3D\n",
    "%matplotlib inline"
   ]
  },
  {
   "cell_type": "code",
   "execution_count": 26,
   "metadata": {},
   "outputs": [
    {
     "data": {
      "text/plain": [
       "PCA(copy=True, iterated_power='auto', n_components=3, random_state=None,\n",
       "  svd_solver='auto', tol=0.0, whiten=False)"
      ]
     },
     "execution_count": 26,
     "metadata": {},
     "output_type": "execute_result"
    }
   ],
   "source": [
    "pca = PCA(n_components=3)\n",
    "pca.fit(dktp_df)"
   ]
  },
  {
   "cell_type": "code",
   "execution_count": 27,
   "metadata": {},
   "outputs": [
    {
     "data": {
      "text/plain": [
       "array([0.87966655, 0.0204417 , 0.01461372])"
      ]
     },
     "execution_count": 27,
     "metadata": {},
     "output_type": "execute_result"
    }
   ],
   "source": [
    "pca.explained_variance_ratio_"
   ]
  },
  {
   "cell_type": "code",
   "execution_count": 28,
   "metadata": {},
   "outputs": [
    {
     "data": {
      "text/plain": [
       "0.9147219652097682"
      ]
     },
     "execution_count": 28,
     "metadata": {},
     "output_type": "execute_result"
    }
   ],
   "source": [
    "sum(pca.explained_variance_ratio_)"
   ]
  },
  {
   "cell_type": "code",
   "execution_count": 29,
   "metadata": {},
   "outputs": [
    {
     "data": {
      "image/png": "[encoded data removed]",
      "text/plain": [
       "<matplotlib.figure.Figure at 0x1226c6b70>"
      ]
     },
     "metadata": {},
     "output_type": "display_data"
    }
   ],
   "source": [
    "x = dktp_df\n",
    "y = y_tr.values\n",
    "x_pca = pca.transform(x)\n",
    "\n",
    "cdict = {0: 'red', 1: 'blue'}\n",
    "ldict = {0: 'non-STEM', 1: 'STEM'}\n",
    "\n",
    "fig = plt.figure()\n",
    "ax = fig.add_subplot(111, projection='3d')\n",
    "\n",
    "# For each set of style and range settings, plot n random points in the box\n",
    "# defined by x in [23, 32], y in [0, 100], z in [zlow, zhigh].\n",
    "for g in np.unique(y):\n",
    "    ix = np.where(y == g)\n",
    "    xs = x_pca[ix, 0]\n",
    "    ys = x_pca[ix, 1]\n",
    "    zs = x_pca[ix, 2]\n",
    "    ax.scatter3D(xs, ys, zs, c=cdict[g], alpha=0.3, label=ldict[g])\n",
    "\n",
    "ax.legend(loc='upper left')\n",
    "# plt.title('3D scatter plot of knowledge state obtained in DKT+\\n after applying PCA dimentionality reduction')\n",
    "plt.savefig('knowledge_state_pca.pdf', bbox_inches='tight')"
   ]
  },
  {
   "cell_type": "code",
   "execution_count": 30,
   "metadata": {
    "collapsed": true
   },
   "outputs": [],
   "source": [
    "pca = PCA(n_components=1)\n",
    "pca.fit(dktp_df)\n",
    "x_pca = pca.transform(dktp_df)"
   ]
  },
  {
   "cell_type": "code",
   "execution_count": 31,
   "metadata": {},
   "outputs": [
    {
     "name": "stderr",
     "output_type": "stream",
     "text": [
      "/Users/ckyeungac/anaconda/envs/dlenv/lib/python3.6/site-packages/ipykernel_launcher.py:12: DeprecationWarning: object of type <class 'numpy.float64'> cannot be safely interpreted as an integer.\n",
      "  if sys.path[0] == '':\n"
     ]
    },
    {
     "data": {
      "image/png": "[encoded data removed]",
      "text/plain": [
       "<matplotlib.figure.Figure at 0x1226c64a8>"
      ]
     },
     "metadata": {},
     "output_type": "display_data"
    }
   ],
   "source": [
    "# non-stem\n",
    "ix = np.where(y_tr.values == 0)\n",
    "x_nonstem = x_pca[ix]\n",
    "\n",
    "# stem\n",
    "ix = np.where(y_tr.values == 1)\n",
    "x_stem = x_pca[ix]\n",
    "\n",
    "max_val = np.floor(x_pca.max())\n",
    "min_val = np.ceil(x_pca.min())\n",
    "\n",
    "bins = np.linspace(min_val, max_val, (max_val - min_val)*5+1)\n",
    "\n",
    "# plot histogram\n",
    "plt.hist(x_nonstem, bins, density=True, alpha=0.5, label='non-STEM')\n",
    "plt.hist(x_stem, bins, density=True, alpha=0.5, label='STEM')\n",
    "plt.legend(loc='upper right')\n",
    "plt.show()"
   ]
  },
  {
   "cell_type": "markdown",
   "metadata": {},
   "source": [
    "## LDA + student profile"
   ]
  },
  {
   "cell_type": "code",
   "execution_count": 32,
   "metadata": {
    "collapsed": true
   },
   "outputs": [],
   "source": [
    "from sklearn.discriminant_analysis import LinearDiscriminantAnalysis"
   ]
  },
  {
   "cell_type": "code",
   "execution_count": 53,
   "metadata": {},
   "outputs": [
    {
     "data": {
      "text/plain": [
       "LinearDiscriminantAnalysis(n_components=1, priors=None, shrinkage=None,\n",
       "              solver='svd', store_covariance=False, tol=0.0001)"
      ]
     },
     "execution_count": 53,
     "metadata": {},
     "output_type": "execute_result"
    }
   ],
   "source": [
    "lda = LinearDiscriminantAnalysis(n_components=1)\n",
    "lda.fit(static_df.values, y_tr.values)"
   ]
  },
  {
   "cell_type": "code",
   "execution_count": 54,
   "metadata": {},
   "outputs": [
    {
     "data": {
      "text/plain": [
       "array([1.])"
      ]
     },
     "execution_count": 54,
     "metadata": {},
     "output_type": "execute_result"
    }
   ],
   "source": [
    "lda.explained_variance_ratio_"
   ]
  },
  {
   "cell_type": "code",
   "execution_count": 56,
   "metadata": {},
   "outputs": [],
   "source": [
    "x_lda = lda.transform(static_df.values)"
   ]
  },
  {
   "cell_type": "code",
   "execution_count": 57,
   "metadata": {},
   "outputs": [
    {
     "data": {
      "text/plain": [
       "-2.388658608124108"
      ]
     },
     "execution_count": 57,
     "metadata": {},
     "output_type": "execute_result"
    }
   ],
   "source": [
    "x_lda.min()"
   ]
  },
  {
   "cell_type": "code",
   "execution_count": 58,
   "metadata": {},
   "outputs": [
    {
     "data": {
      "text/plain": [
       "5.171533057542212"
      ]
     },
     "execution_count": 58,
     "metadata": {},
     "output_type": "execute_result"
    }
   ],
   "source": [
    "x_lda.max()"
   ]
  },
  {
   "cell_type": "code",
   "execution_count": 62,
   "metadata": {},
   "outputs": [
    {
     "name": "stderr",
     "output_type": "stream",
     "text": [
      "/Users/ckyeungac/anaconda/envs/dlenv/lib/python3.6/site-packages/ipykernel_launcher.py:12: DeprecationWarning: object of type <class 'numpy.float64'> cannot be safely interpreted as an integer.\n",
      "  if sys.path[0] == '':\n"
     ]
    },
    {
     "data": {
      "image/png": "[encoded data removed]",
      "text/plain": [
       "<matplotlib.figure.Figure at 0x12286bda0>"
      ]
     },
     "metadata": {},
     "output_type": "display_data"
    }
   ],
   "source": [
    "# non-stem\n",
    "ix = np.where(y_tr.values == 0)\n",
    "x_nonstem = x_lda[ix]\n",
    "\n",
    "# stem\n",
    "ix = np.where(y_tr.values == 1)\n",
    "x_stem = x_lda[ix]\n",
    "\n",
    "max_val = np.floor(x_lda.max())\n",
    "min_val = np.ceil(x_lda.min())\n",
    "\n",
    "bins = np.linspace(min_val, max_val, (max_val - min_val)*5 + 1)\n",
    "\n",
    "# plot histogram\n",
    "plt.hist(x_nonstem, bins, density=True, alpha=0.5, label='non-STEM', color='red')\n",
    "plt.hist(x_stem, bins, density=True, alpha=0.5, label='STEM', color='blue')\n",
    "plt.legend(loc='upper right')\n",
    "# plt.title('Histogram of knowledge state obtained in DKT+\\n after applying LDA dimentionality reduction')\n",
    "\n",
    "plt.xlabel('Projection Value')\n",
    "plt.ylabel('Probability Density')\n",
    "plt.savefig('static_only_lda.pdf', bbox_inches='tight')"
   ]
  },
  {
   "cell_type": "markdown",
   "metadata": {},
   "source": [
    "## LDA + DKT"
   ]
  },
  {
   "cell_type": "code",
   "execution_count": 32,
   "metadata": {
    "collapsed": true
   },
   "outputs": [],
   "source": [
    "from sklearn.discriminant_analysis import LinearDiscriminantAnalysis"
   ]
  },
  {
   "cell_type": "code",
   "execution_count": 76,
   "metadata": {},
   "outputs": [
    {
     "data": {
      "text/plain": [
       "LinearDiscriminantAnalysis(n_components=1, priors=None, shrinkage=None,\n",
       "              solver='svd', store_covariance=False, tol=0.0001)"
      ]
     },
     "execution_count": 76,
     "metadata": {},
     "output_type": "execute_result"
    }
   ],
   "source": [
    "lda = LinearDiscriminantAnalysis(n_components=1)\n",
    "lda.fit(dkt_df.values, y_tr.values)"
   ]
  },
  {
   "cell_type": "code",
   "execution_count": 77,
   "metadata": {},
   "outputs": [
    {
     "data": {
      "text/plain": [
       "array([1.])"
      ]
     },
     "execution_count": 77,
     "metadata": {},
     "output_type": "execute_result"
    }
   ],
   "source": [
    "lda.explained_variance_ratio_"
   ]
  },
  {
   "cell_type": "code",
   "execution_count": 78,
   "metadata": {
    "collapsed": true
   },
   "outputs": [],
   "source": [
    "x_lda = lda.transform(dkt_df.values)"
   ]
  },
  {
   "cell_type": "code",
   "execution_count": 79,
   "metadata": {},
   "outputs": [
    {
     "data": {
      "text/plain": [
       "-2.9827749664481615"
      ]
     },
     "execution_count": 79,
     "metadata": {},
     "output_type": "execute_result"
    }
   ],
   "source": [
    "x_lda.min()"
   ]
  },
  {
   "cell_type": "code",
   "execution_count": 80,
   "metadata": {},
   "outputs": [
    {
     "data": {
      "text/plain": [
       "3.8568911710188876"
      ]
     },
     "execution_count": 80,
     "metadata": {},
     "output_type": "execute_result"
    }
   ],
   "source": [
    "x_lda.max()"
   ]
  },
  {
   "cell_type": "code",
   "execution_count": 81,
   "metadata": {},
   "outputs": [
    {
     "name": "stderr",
     "output_type": "stream",
     "text": [
      "/Users/ckyeungac/anaconda/envs/dlenv/lib/python3.6/site-packages/ipykernel_launcher.py:12: DeprecationWarning: object of type <class 'numpy.float64'> cannot be safely interpreted as an integer.\n",
      "  if sys.path[0] == '':\n"
     ]
    },
    {
     "data": {
      "image/png": "[encoded data removed]",
      "text/plain": [
       "<matplotlib.figure.Figure at 0x1223d0ba8>"
      ]
     },
     "metadata": {},
     "output_type": "display_data"
    }
   ],
   "source": [
    "# non-stem\n",
    "ix = np.where(y_tr.values == 0)\n",
    "x_nonstem = x_lda[ix]\n",
    "\n",
    "# stem\n",
    "ix = np.where(y_tr.values == 1)\n",
    "x_stem = x_lda[ix]\n",
    "\n",
    "max_val = np.floor(x_lda.max())\n",
    "min_val = np.ceil(x_lda.min())\n",
    "\n",
    "bins = np.linspace(min_val, max_val, (max_val - min_val)*5 + 1)\n",
    "\n",
    "# plot histogram\n",
    "plt.hist(x_nonstem, bins, density=True, alpha=0.5, label='non-STEM', color='red')\n",
    "plt.hist(x_stem, bins, density=True, alpha=0.5, label='STEM', color='blue')\n",
    "plt.legend(loc='upper right')\n",
    "# plt.title('Histogram of knowledge state obtained in DKT+\\n after applying LDA dimentionality reduction')\n",
    "\n",
    "plt.xlabel('Projection Value')\n",
    "plt.ylabel('Probability Density')\n",
    "plt.savefig('dkt_knowledge_state_lda.pdf', bbox_inches='tight')"
   ]
  },
  {
   "cell_type": "markdown",
   "metadata": {},
   "source": [
    "## LDA + DKT+"
   ]
  },
  {
   "cell_type": "code",
   "execution_count": 32,
   "metadata": {
    "collapsed": true
   },
   "outputs": [],
   "source": [
    "from sklearn.discriminant_analysis import LinearDiscriminantAnalysis"
   ]
  },
  {
   "cell_type": "code",
   "execution_count": 82,
   "metadata": {},
   "outputs": [
    {
     "data": {
      "text/plain": [
       "LinearDiscriminantAnalysis(n_components=1, priors=None, shrinkage=None,\n",
       "              solver='svd', store_covariance=False, tol=0.0001)"
      ]
     },
     "execution_count": 82,
     "metadata": {},
     "output_type": "execute_result"
    }
   ],
   "source": [
    "lda = LinearDiscriminantAnalysis(n_components=1)\n",
    "lda.fit(dktp_df.values, y_tr.values)"
   ]
  },
  {
   "cell_type": "code",
   "execution_count": 83,
   "metadata": {},
   "outputs": [
    {
     "data": {
      "text/plain": [
       "array([1.])"
      ]
     },
     "execution_count": 83,
     "metadata": {},
     "output_type": "execute_result"
    }
   ],
   "source": [
    "lda.explained_variance_ratio_"
   ]
  },
  {
   "cell_type": "code",
   "execution_count": 84,
   "metadata": {
    "collapsed": true
   },
   "outputs": [],
   "source": [
    "x_lda = lda.transform(dktp_df.values)"
   ]
  },
  {
   "cell_type": "code",
   "execution_count": 85,
   "metadata": {},
   "outputs": [
    {
     "data": {
      "text/plain": [
       "-2.7512604275583747"
      ]
     },
     "execution_count": 85,
     "metadata": {},
     "output_type": "execute_result"
    }
   ],
   "source": [
    "x_lda.min()"
   ]
  },
  {
   "cell_type": "code",
   "execution_count": 86,
   "metadata": {},
   "outputs": [
    {
     "data": {
      "text/plain": [
       "5.351403325810922"
      ]
     },
     "execution_count": 86,
     "metadata": {},
     "output_type": "execute_result"
    }
   ],
   "source": [
    "x_lda.max()"
   ]
  },
  {
   "cell_type": "code",
   "execution_count": 89,
   "metadata": {},
   "outputs": [
    {
     "name": "stderr",
     "output_type": "stream",
     "text": [
      "/Users/ckyeungac/anaconda/envs/dlenv/lib/python3.6/site-packages/ipykernel_launcher.py:12: DeprecationWarning: object of type <class 'numpy.float64'> cannot be safely interpreted as an integer.\n",
      "  if sys.path[0] == '':\n"
     ]
    },
    {
     "data": {
      "image/png": "[encoded data removed]",
      "text/plain": [
       "<matplotlib.figure.Figure at 0x115970630>"
      ]
     },
     "metadata": {},
     "output_type": "display_data"
    }
   ],
   "source": [
    "# non-stem\n",
    "ix = np.where(y_tr.values == 0)\n",
    "x_nonstem = x_lda[ix]\n",
    "\n",
    "# stem\n",
    "ix = np.where(y_tr.values == 1)\n",
    "x_stem = x_lda[ix]\n",
    "\n",
    "max_val = np.floor(x_lda.max())\n",
    "min_val = np.ceil(x_lda.min())\n",
    "\n",
    "bins = np.linspace(min_val, max_val, (max_val - min_val)*5 + 1)\n",
    "\n",
    "# plot histogram\n",
    "plt.hist(x_nonstem, bins, density=True, alpha=0.5, label='non-STEM', color='red')\n",
    "plt.hist(x_stem, bins, density=True, alpha=0.5, label='STEM', color='blue')\n",
    "plt.legend(loc='upper right')\n",
    "# plt.title('Histogram of knowledge state obtained in DKT+\\n after applying LDA dimentionality reduction')\n",
    "\n",
    "plt.xlabel('Projection Value')\n",
    "plt.ylabel('Probability Density')\n",
    "plt.savefig('dktp_knowledge_state_lda.pdf', bbox_inches='tight')"
   ]
  },
  {
   "cell_type": "code",
   "execution_count": 88,
   "metadata": {},
   "outputs": [
    {
     "data": {
      "text/plain": [
       "'2.1.2'"
      ]
     },
     "execution_count": 88,
     "metadata": {},
     "output_type": "execute_result"
    }
   ],
   "source": [
    "import matplotlib\n",
    "matplotlib.__version__"
   ]
  },
  {
   "cell_type": "code",
   "execution_count": 40,
   "metadata": {},
   "outputs": [
    {
     "data": {
      "text/plain": [
       "(467, 1)"
      ]
     },
     "execution_count": 40,
     "metadata": {},
     "output_type": "execute_result"
    }
   ],
   "source": [
    "x_lda.shape"
   ]
  },
  {
   "cell_type": "code",
   "execution_count": 41,
   "metadata": {},
   "outputs": [
    {
     "data": {
      "text/plain": [
       "(467,)"
      ]
     },
     "execution_count": 41,
     "metadata": {},
     "output_type": "execute_result"
    }
   ],
   "source": [
    "y.shape"
   ]
  },
  {
   "cell_type": "code",
   "execution_count": 42,
   "metadata": {
    "collapsed": true
   },
   "outputs": [],
   "source": [
    "stem = x_lda\n",
    "stem[stem > 0.5] = 1\n",
    "stem[stem < 0.5] = 0"
   ]
  },
  {
   "cell_type": "code",
   "execution_count": null,
   "metadata": {
    "collapsed": true
   },
   "outputs": [],
   "source": []
  },
  {
   "cell_type": "code",
   "execution_count": null,
   "metadata": {
    "collapsed": true
   },
   "outputs": [],
   "source": []
  }
 ],
 "metadata": {
  "kernelspec": {
   "display_name": "Python 3",
   "language": "python",
   "name": "python3"
  },
  "language_info": {
   "codemirror_mode": {
    "name": "ipython",
    "version": 3
   },
   "file_extension": ".py",
   "mimetype": "text/x-python",
   "name": "python",
   "nbconvert_exporter": "python",
   "pygments_lexer": "ipython3",
   "version": "3.6.2"
  }
 },
 "nbformat": 4,
 "nbformat_minor": 2
}
